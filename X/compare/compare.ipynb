{
 "cells": [
  {
   "cell_type": "markdown",
   "id": "ca0cc8d3",
   "metadata": {},
   "source": [
    "## Stochastic gradient descent-based inference for dynamic network models with attractors\n",
    "## This scripts plots the trajectory of the mean latent positions of the members of each party, comparing the model fitting result from the reduced dataset in `207.ipynb` and the full dataset in `505.ipynb`."
   ]
  },
  {
   "cell_type": "code",
   "execution_count": null,
   "id": "fb6a1dc0",
   "metadata": {},
   "outputs": [],
   "source": [
    "import numpy as np\n",
    "from scipy import linalg\n",
    "import matplotlib.pyplot as plt"
   ]
  },
  {
   "cell_type": "code",
   "execution_count": null,
   "id": "0d128d02",
   "metadata": {},
   "outputs": [],
   "source": [
    "node_names = np.load(\"nodes_names.npy\")"
   ]
  },
  {
   "cell_type": "code",
   "execution_count": null,
   "id": "9c9fabd0",
   "metadata": {},
   "outputs": [],
   "source": [
    "names = []\n",
    "for i in range(1,12):\n",
    "    names.append(list(np.load('name'+str(i)+'.npy')))"
   ]
  },
  {
   "cell_type": "code",
   "execution_count": null,
   "id": "4ca43af3",
   "metadata": {},
   "outputs": [],
   "source": [
    "z1 = np.load(\"z1.npy\")\n",
    "z2 = np.load(\"z2.npy\")"
   ]
  },
  {
   "cell_type": "code",
   "execution_count": null,
   "id": "622cbb48",
   "metadata": {},
   "outputs": [],
   "source": [
    "membership = np.load(\"pi.npy\")\n",
    "membership = membership!='D'"
   ]
  },
  {
   "cell_type": "code",
   "execution_count": null,
   "id": "e355a245",
   "metadata": {},
   "outputs": [],
   "source": [
    "time_point = []\n",
    "start_idx = 0\n",
    "for arr in names:\n",
    "    time_point.append(np.arange(start_idx, start_idx + len(arr)))\n",
    "    start_idx += len(arr)"
   ]
  },
  {
   "cell_type": "code",
   "execution_count": null,
   "id": "cce706a1",
   "metadata": {},
   "outputs": [],
   "source": [
    "def find_match(l1, l2):\n",
    "    l1_dict = {l1[i]: i for i in range(len(l1))}\n",
    "    l2_dict = {l2[i]: i for i in range(len(l2))}\n",
    "    match = []\n",
    "    for key in l1_dict:\n",
    "        if key in l2_dict:\n",
    "            match.append([l1_dict[key], l2_dict[key]])\n",
    "    return match"
   ]
  },
  {
   "cell_type": "code",
   "execution_count": null,
   "id": "3fa31c57",
   "metadata": {},
   "outputs": [],
   "source": [
    "select_index = []\n",
    "for i in range(11):\n",
    "    match = find_match(list(node_names),list(names[i]))\n",
    "    _,pos = np.array(match).T\n",
    "    assert(len(match)==207)\n",
    "    index_t = time_point[i][pos]\n",
    "    select_index.append(time_point[i][pos])"
   ]
  },
  {
   "cell_type": "code",
   "execution_count": null,
   "id": "bd2fad9e",
   "metadata": {},
   "outputs": [],
   "source": [
    "select = np.concatenate(select_index)"
   ]
  },
  {
   "cell_type": "code",
   "execution_count": null,
   "id": "92a9f306",
   "metadata": {},
   "outputs": [],
   "source": [
    "z2_compare = z2[select]"
   ]
  },
  {
   "cell_type": "code",
   "execution_count": null,
   "id": "a781a185",
   "metadata": {},
   "outputs": [],
   "source": [
    "def soft_align(z_hat,z_true):\n",
    "    R, sca = linalg.orthogonal_procrustes(z_hat,z_true)\n",
    "    return z_hat@R"
   ]
  },
  {
   "cell_type": "code",
   "execution_count": null,
   "id": "e78611f5",
   "metadata": {},
   "outputs": [],
   "source": [
    "def normalize(z):\n",
    "    return z/np.linalg.norm(z)"
   ]
  },
  {
   "cell_type": "code",
   "execution_count": null,
   "id": "35b5fd41",
   "metadata": {},
   "outputs": [],
   "source": [
    "np.save('z2_compare.npy',z2_compare)"
   ]
  },
  {
   "cell_type": "code",
   "execution_count": null,
   "id": "85c347dd",
   "metadata": {},
   "outputs": [],
   "source": [
    "z1 = z1-np.mean(z1,axis=0)\n",
    "z2_compare = z2_compare-np.mean(z2_compare,axis=0)\n",
    "z2_compare= normalize(soft_align(z2_compare,z1))\n",
    "z1 = normalize(z1)"
   ]
  },
  {
   "cell_type": "code",
   "execution_count": null,
   "id": "9f4494e8",
   "metadata": {},
   "outputs": [],
   "source": [
    "mean1=[]\n",
    "mean2=[]\n",
    "for i in range(11):\n",
    "    mean1.append(np.sum(z1[i*207:(i+1)*207][membership],axis=0))\n",
    "    mean2.append(np.sum(z2_compare[i*207:(i+1)*207][membership],axis=0))"
   ]
  },
  {
   "cell_type": "code",
   "execution_count": null,
   "id": "389df858",
   "metadata": {},
   "outputs": [],
   "source": [
    "mean3=[]\n",
    "mean4=[]\n",
    "for i in range(11):\n",
    "    mean3.append(np.sum(z1[i*207:(i+1)*207][membership==False],axis=0))\n",
    "    mean4.append(np.sum(z2_compare[i*207:(i+1)*207][membership==False],axis=0))"
   ]
  },
  {
   "cell_type": "code",
   "execution_count": null,
   "id": "71ec7069",
   "metadata": {},
   "outputs": [],
   "source": [
    "fig, ax = plt.subplots(figsize=(8, 8))\n",
    "\n",
    "data = np.array(mean1)\n",
    "head_width = min(np.var(data)**0.5/25, np.var(data)**0.5/25)\n",
    "ax.scatter(data[:, 0], data[:, 1], color='mistyrose', marker='o', label=r'$\\bar{Z}(Republican)$ Reduced Dataset', alpha=0.6)\n",
    "\n",
    "for i in range(len(data) - 1):\n",
    "    ax.arrow(data[i][0], data[i][1], data[i+1][0] - data[i][0], data[i+1][1] - data[i][1],\n",
    "             width=0.00001, alpha=0.5, linestyle=':', color='black', linewidth=1, head_width=head_width, length_includes_head=True)\n",
    "\n",
    "data = np.array(mean2)\n",
    "ax.scatter(data[:, 0], data[:, 1], color='red', marker='x', label=r'$\\bar{Z}(Republican)$ Full Dataset')\n",
    "\n",
    "for i in range(len(data)):\n",
    "    if i % 2 == 0:\n",
    "        ax.annotate(str(10+i), (data[i][0], data[i][1]))\n",
    "\n",
    "for i in range(len(data) - 1):\n",
    "    ax.arrow(data[i][0], data[i][1], data[i+1][0] - data[i][0], data[i+1][1] - data[i][1],\n",
    "             width=0.00001, alpha=0.5, color='black', linewidth=1, head_width=head_width, length_includes_head=True)\n",
    "\n",
    "data = np.array(mean3)\n",
    "ax.scatter(data[:, 0], data[:, 1], color='skyblue', marker='o', label=r'$\\bar{Z}(Democrat)$ Reduced Dataset', alpha=0.6)\n",
    "\n",
    "for i in range(len(data) - 1):\n",
    "    ax.arrow(data[i][0], data[i][1], data[i+1][0] - data[i][0], data[i+1][1] - data[i][1],\n",
    "             width=0.00001, alpha=0.5, linestyle=':', color='darkgray', linewidth=1, head_width=head_width, length_includes_head=True)\n",
    "\n",
    "data = np.array(mean4)\n",
    "ax.scatter(data[:, 0], data[:, 1], color='blue', marker='x', label=r'$\\bar{Z}(Democrat)$ Full Dataset')\n",
    "\n",
    "for i in range(len(data)):\n",
    "    if i % 2 == 0:\n",
    "        ax.annotate(str(10+i), (data[i][0], data[i][1]))\n",
    "\n",
    "for i in range(len(data) - 1):\n",
    "    ax.arrow(data[i][0], data[i][1], data[i+1][0] - data[i][0], data[i+1][1] - data[i][1],\n",
    "             width=0.00001, alpha=0.5, color='darkgray', linewidth=1, head_width=head_width, length_includes_head=True)\n",
    "    \n",
    "plt.legend()\n",
    "plt.grid(True, alpha=0.2)\n",
    "\n",
    "# Add labels and title\n",
    "ax.set_xlabel(r'$Z_1$')\n",
    "ax.set_ylabel(r'$Z_2$')\n",
    "# ax.set_title(title)\n",
    "\n",
    "# Display the plot\n",
    "plt.show()\n"
   ]
  }
 ],
 "metadata": {
  "kernelspec": {
   "display_name": "Python 3",
   "language": "python",
   "name": "python3"
  },
  "language_info": {
   "codemirror_mode": {
    "name": "ipython",
    "version": 3
   },
   "file_extension": ".py",
   "mimetype": "text/x-python",
   "name": "python",
   "nbconvert_exporter": "python",
   "pygments_lexer": "ipython3",
   "version": "3.8.10"
  }
 },
 "nbformat": 4,
 "nbformat_minor": 5
}
