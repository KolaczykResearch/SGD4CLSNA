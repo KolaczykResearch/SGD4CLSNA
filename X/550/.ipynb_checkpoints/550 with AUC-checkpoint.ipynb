{
 "cells": [
  {
   "cell_type": "markdown",
   "id": "c701f005",
   "metadata": {},
   "source": [
    "## Stochastic gradient descent-based inference for dynamic network models with attractors\n",
    "## This script analyzes the same Twitter congressional hashtag networks, but includes all nodes recorded during the study."
   ]
  },
  {
   "cell_type": "code",
   "execution_count": null,
   "id": "566e5de2",
   "metadata": {},
   "outputs": [],
   "source": [
    "from congress_utils import congress_clsna, preprocess_congress_2, make_ar_pair, member_dict, ClsnaModelCongress\n",
    "from utils import visualize_membership, visualize\n",
    "import numpy as np\n",
    "import torch\n",
    "import math\n",
    "import matplotlib.pyplot as plt\n",
    "from scipy.linalg import orthogonal_procrustes"
   ]
  },
  {
   "cell_type": "code",
   "execution_count": null,
   "id": "cc3f74c3",
   "metadata": {},
   "outputs": [],
   "source": [
    "import time"
   ]
  },
  {
   "cell_type": "code",
   "execution_count": null,
   "id": "494c4f88",
   "metadata": {},
   "outputs": [],
   "source": [
    "# Set global variables for the model\n",
    "DIM = 2\n",
    "SIGMA = 10\n",
    "TAU = 1\n",
    "PHI = 10\n",
    "T=11"
   ]
  },
  {
   "cell_type": "code",
   "execution_count": null,
   "id": "3d013492",
   "metadata": {},
   "outputs": [],
   "source": [
    "# Preprocess data\n",
    "import numpy as np\n",
    "from scipy.spatial.distance import squareform\n",
    "from sklearn.preprocessing import normalize\n",
    "from scipy.sparse.csgraph import laplacian\n",
    "import torch\n",
    "\n",
    "\n",
    "#names [array(['biden','sanders',...]),...]\n",
    "names = []\n",
    "for i in range(1,12):\n",
    "    names.append(list(np.load('name'+str(i)+'.npy')))\n",
    "#Y [array Y1,...]\n",
    "Y = []\n",
    "for i in range(1,12):\n",
    "    Y.append(np.load('Y'+str(i)+'.npy'))\n",
    "\n",
    "real_name = list(np.load(\"real_name.npy\"))\n",
    "handle = list(np.load('handle.npy'))\n",
    "party_id =(np.load('party_id.npy'))\n",
    "\n",
    "party_id = list(np.where(party_id == 'D', 0, 1))\n",
    "\n",
    "#membership [['D','R',...],...]\n",
    "membership = []\n",
    "for i in range(T):\n",
    "    mem = []\n",
    "    for name in names[i]:\n",
    "        mem.append(party_id[handle.index(name)])\n",
    "    membership.append(mem)\n",
    "\n",
    "time_point = []\n",
    "n_nodes = []\n",
    "start_idx = 0\n",
    "for arr in names:\n",
    "    n_nodes.append(len(arr))\n",
    "    time_point.append(np.arange(start_idx, start_idx + len(arr)))\n",
    "    start_idx += len(arr)\n",
    "# time_point: [array([0, 1, 2, 3]), array([4, 5, 6]), array([7, 8, 9])]\n",
    "\n",
    "def process_arrays(t):\n",
    "    index_pairs = []\n",
    "    not_in_name1 = {0:[],1:[]}\n",
    "    name1 = names[t-1]\n",
    "    name2 = names[t]\n",
    "\n",
    "    for i, name in enumerate(name2):\n",
    "        if name in name1:\n",
    "            j = name1.index(name)\n",
    "            index_pairs.append((time_point[t-1][j],time_point[t][i]))\n",
    "        else:\n",
    "            party = party_id[handle.index(name)]\n",
    "            if party not in not_in_name1:\n",
    "                not_in_name1[party] = []\n",
    "            not_in_name1[party].append(time_point[t][i])\n",
    "\n",
    "    return index_pairs, not_in_name1\n",
    "\n",
    "# # Example usage:\n",
    "# handle = [\"Alice\", \"Bob\", \"Charlie\", \"David\", \"Eva\"]\n",
    "# party_id = [\"A\", \"B\", \"A\", \"B\", \"A\"]\n",
    "# name1 = [\"Alice\", \"David\", \"Eva\"]\n",
    "# name2 = [\"Eva\",\"Charlie\", \"Bob\",\"David\"]\n",
    "\n",
    "# index_pairs, grouped_by_party = process_arrays(handle, party_id, name1, name2)\n",
    "# print(\"Index pairs:\", index_pairs)\n",
    "# print(\"Grouped by party:\", grouped_by_party)\n",
    "\n",
    "# #Output\n",
    "# Index pairs: [(0, 2), (3, 1)]\n",
    "# Grouped by party: {'A': ['Charlie'], 'B': ['Bob']}\n",
    "\n",
    "#ar_pair, a T-1 element list of Nx2 array, each row of array is [prev,self]\n",
    "ar_pair = []\n",
    "#new_at_t, a T-1 element dict, key is time, each element is also dict, key is party name\n",
    "new_at_t = {}\n",
    "for i in range(1,T):\n",
    "    index_pairs, grouped_by_party = process_arrays(i)\n",
    "    ar_pair+=index_pairs\n",
    "    new_at_t[i] = grouped_by_party\n",
    "\n",
    "\n",
    "def group_by_party(t):\n",
    "    parties = membership[t]\n",
    "    party_groups = {}\n",
    "    \n",
    "    for i, party in enumerate(parties):\n",
    "        if party not in party_groups:\n",
    "            party_groups[party] = []\n",
    "\n",
    "        party_groups[party].append(time_point[t][i])\n",
    "\n",
    "    return party_groups\n",
    "\n",
    "# names = ['John Doe', 'Jane Smith', 'Mike Johnson', 'Sara Brown']\n",
    "# parties = ['Democrat', 'Republican', 'Democrat', 'Republican']\n",
    "\n",
    "# result = group_by_party(names, parties)\n",
    "# print(result)\n",
    "# {'Democrat': [0, 2], 'Republican': [1, 3]}\n",
    "\n",
    "member_at_t = {}\n",
    "for i in range(T):\n",
    "    member_at_t[i] = group_by_party(i)\n",
    "\n",
    "device = 'cuda' if torch.cuda.is_available() else 'cpu'\n",
    "# device = 'cpu'\n",
    "\n",
    "import torch\n",
    "def convert_to_tensor(data, device):\n",
    "    return torch.tensor(data, dtype=torch.long, device=device)\n",
    "def party_dict_to_tensor(party_dict,device):\n",
    "    return {party:convert_to_tensor(indices,device) for party,indices in party_dict.items()}\n",
    "    \n",
    "\n",
    "ar_pair = convert_to_tensor(ar_pair,device)\n",
    "member_at_t = {year: party_dict_to_tensor(p_dict,device) for year, p_dict in member_at_t.items()}\n",
    "new_at_t = {year: party_dict_to_tensor(p_dict,device) for year, p_dict in new_at_t.items()}\n",
    "\n",
    "\n",
    "def find_matching_indices(name1, name2):\n",
    "    matching_indices = []\n",
    "    for i, name in enumerate(name1):\n",
    "        if name in name2:\n",
    "            j = name2.index(name)\n",
    "            matching_indices.append([i, j])\n",
    "    return np.array(matching_indices)\n",
    "\n",
    "def extract_subgraph_adjacency_matrix(Y_t1, matching_indices, Y_t2):\n",
    "    size = Y_t2.shape[0]\n",
    "    persist = np.zeros((size, size))\n",
    "    i = matching_indices[:,0]\n",
    "    j = matching_indices[:,1]\n",
    "    persist[np.ix_(j, j)] = Y_t1[np.ix_(i, i)]\n",
    "    return persist\n",
    "def construct_persistence(t):\n",
    "    matching_indices = find_matching_indices(names[t-1], names[t])\n",
    "    persist = extract_subgraph_adjacency_matrix(Y[t-1], matching_indices, Y[t])\n",
    "    return persist\n",
    "persist = []\n",
    "for i in range(1,T):\n",
    "    persist.append(squareform(construct_persistence(i)))\n",
    "\n",
    "y_t = squareform(Y[0])\n",
    "y = [y_t]\n",
    "Aw = []\n",
    "Aw2 = []\n",
    "Ab = []\n",
    "s=np.array(membership[0])\n",
    "for i in range(1,T):\n",
    "    #normalized graph laplalcian by row\n",
    "    Aw_t = squareform(y_t)*(np.outer(s, s))\n",
    "    Aw_t = -2*normalize(laplacian(Aw_t), axis=1, norm='l1')\n",
    "    Aw2_t = squareform(y_t)*(np.outer(1-s, 1-s))\n",
    "    Aw2_t = -2*normalize(laplacian(Aw2_t), axis=1, norm='l1')\n",
    "    Ab_t = squareform(y_t)*(np.outer(1-s, s)+np.outer(s, 1-s))\n",
    "    Ab_t = -2*normalize(laplacian(Ab_t), axis=1, norm='l1')\n",
    "    y_t = squareform(Y[i])\n",
    "    s=np.array(membership[i])\n",
    "    #save\n",
    "    y.append(y_t)\n",
    "    Aw.append(Aw_t)\n",
    "    Aw2.append(Aw2_t)\n",
    "    Ab.append(Ab_t)"
   ]
  },
  {
   "cell_type": "code",
   "execution_count": null,
   "id": "0a71b33d",
   "metadata": {},
   "outputs": [],
   "source": [
    "density = []\n",
    "for network in Y:\n",
    "    density.append(np.mean(network))"
   ]
  },
  {
   "cell_type": "code",
   "execution_count": null,
   "id": "72ba9d48",
   "metadata": {},
   "outputs": [],
   "source": [
    "density"
   ]
  },
  {
   "cell_type": "code",
   "execution_count": null,
   "id": "504c0ff6",
   "metadata": {
    "scrolled": true
   },
   "outputs": [],
   "source": [
    "R_list = []\n",
    "D_list = []\n",
    "for mem in membership:\n",
    "    R_list.append(np.sum(mem))\n",
    "    D_list.append(len(mem)-np.sum(mem))"
   ]
  },
  {
   "cell_type": "code",
   "execution_count": null,
   "id": "8470aaa8",
   "metadata": {},
   "outputs": [],
   "source": [
    "R_list"
   ]
  },
  {
   "cell_type": "code",
   "execution_count": null,
   "id": "562c0421",
   "metadata": {},
   "outputs": [],
   "source": [
    "D_list"
   ]
  },
  {
   "cell_type": "code",
   "execution_count": null,
   "id": "79f9b95a",
   "metadata": {},
   "outputs": [],
   "source": [
    "# for i in range(1,12):\n",
    "#     np.save('../compare/name'+str(i)+'.npy', names[i-1])"
   ]
  },
  {
   "cell_type": "code",
   "execution_count": null,
   "id": "ada50d62",
   "metadata": {},
   "outputs": [],
   "source": [
    "persist = np.concatenate(persist)"
   ]
  },
  {
   "cell_type": "code",
   "execution_count": null,
   "id": "65101039",
   "metadata": {},
   "outputs": [],
   "source": [
    "label, persist, Aw, Aw2, Ab, combination_N=preprocess_congress_2(y, Aw, Aw2,Ab, n_nodes, persist)"
   ]
  },
  {
   "cell_type": "code",
   "execution_count": null,
   "id": "c71493e8",
   "metadata": {},
   "outputs": [],
   "source": [
    "# Set device for computation (GPU if available)\n",
    "device = 'cuda' if torch.cuda.is_available() else 'cpu'\n",
    "# device = \"cpu\""
   ]
  },
  {
   "cell_type": "code",
   "execution_count": null,
   "id": "015ffc11",
   "metadata": {},
   "outputs": [],
   "source": [
    "combination_N = combination_N.to(device)\n",
    "label = label.to(device)\n",
    "persist = persist.to(device)"
   ]
  },
  {
   "cell_type": "code",
   "execution_count": null,
   "id": "980321f6",
   "metadata": {},
   "outputs": [],
   "source": [
    "LR = 2e-3\n",
    "MOM = 0.99\n",
    "LR_P = 1e-2"
   ]
  },
  {
   "cell_type": "markdown",
   "id": "9a13263b",
   "metadata": {},
   "source": [
    "# Step 1"
   ]
  },
  {
   "cell_type": "code",
   "execution_count": null,
   "id": "40736139",
   "metadata": {},
   "outputs": [],
   "source": [
    "print(\"Step 1: Fitting initial CLSNA model with higher-dimensional space...\")"
   ]
  },
  {
   "cell_type": "code",
   "execution_count": null,
   "id": "4ab39c51",
   "metadata": {},
   "outputs": [],
   "source": [
    "#train the model\n",
    "def train(optimizer,index=None, fixed=None):\n",
    "    t_index=torch.arange(start=0,end=np.sum(n_nodes),device=device,requires_grad=False)\n",
    "    optimizer.zero_grad()\n",
    "    loss = model.loss(device=device,label=label,persist=persist,sample_edge=combination_N,T_index=t_index,ss=SIGMA,tt=TAU,pp=PHI)\n",
    "    loss.backward()\n",
    "    model.para.grad = 0.1*((model.para.grad>0).bool().float()-0.5)\n",
    "    optimizer.step()\n",
    "    if index is not None:\n",
    "        with torch.no_grad():\n",
    "            model.para[index[0],index[1]] = fixed\n",
    "    return loss.item()"
   ]
  },
  {
   "cell_type": "code",
   "execution_count": null,
   "id": "18227ac3",
   "metadata": {},
   "outputs": [],
   "source": [
    "#run the optimization process\n",
    "def run(optimizer):\n",
    "    for epoch in range(1,10000):\n",
    "        loss = train(optimizer)\n",
    "        if epoch%300==0:\n",
    "            print(loss)"
   ]
  },
  {
   "cell_type": "code",
   "execution_count": null,
   "id": "44b4d331",
   "metadata": {},
   "outputs": [],
   "source": [
    "# Initialize and train the first model\n",
    "model = ClsnaModelCongress(device,n_nodes,T,ar_pair,Aw,Aw2,Ab,new_at_t,member_at_t,D=DIM+1).to(device)"
   ]
  },
  {
   "cell_type": "code",
   "execution_count": null,
   "id": "e9d5ccff",
   "metadata": {},
   "outputs": [],
   "source": [
    "optimizer = torch.optim.SGD([\n",
    "    {'params': model.z, \"momentum\": 0.99, \"lr\": 0.02},\n",
    "    {'params': model.para, \"momentum\": 0, \"lr\":LR_P}\n",
    "    ])"
   ]
  },
  {
   "cell_type": "code",
   "execution_count": null,
   "id": "d72a8710",
   "metadata": {
    "scrolled": true
   },
   "outputs": [],
   "source": [
    "run(optimizer)"
   ]
  },
  {
   "cell_type": "code",
   "execution_count": null,
   "id": "21132c54",
   "metadata": {},
   "outputs": [],
   "source": [
    "# Perform PCA to reduce dimensionality\n",
    "PCA_p = torch.pca_lowrank(model.z.cpu())[2][:,[0,1]]\n",
    "zz=(model.z.cpu().detach()@PCA_p).detach().numpy()\n",
    "init_z = zz\n",
    "init_para = model.para.detach().cpu().numpy()"
   ]
  },
  {
   "cell_type": "code",
   "execution_count": null,
   "id": "e33a796b",
   "metadata": {},
   "outputs": [],
   "source": [
    "zz = np.clip(zz, -15, 15)"
   ]
  },
  {
   "cell_type": "markdown",
   "id": "f850cd2b",
   "metadata": {},
   "source": [
    "# Step 2"
   ]
  },
  {
   "cell_type": "code",
   "execution_count": null,
   "id": "24777fc2",
   "metadata": {},
   "outputs": [],
   "source": [
    "print(\"Step 2: Fitting CLSNA model with targeted dimension and estimating model parameters...\")"
   ]
  },
  {
   "cell_type": "code",
   "execution_count": null,
   "id": "be3ecde3",
   "metadata": {},
   "outputs": [],
   "source": [
    "model = ClsnaModelCongress(device,n_nodes,T,ar_pair,Aw,Aw2,Ab,new_at_t,member_at_t,D=DIM).to(device)\n",
    "with torch.no_grad():       \n",
    "    model.z[:,:] = torch.from_numpy(init_z).to(device)\n",
    "    model.para[:,:] = torch.from_numpy(init_para).to(device)\n",
    "optimizer = torch.optim.SGD([\n",
    "    {'params': model.z, \"momentum\": 0.99, \"lr\": 0.02},\n",
    "    {'params': model.para, \"momentum\": 0.0, \"lr\":LR_P}\n",
    "    ])"
   ]
  },
  {
   "cell_type": "code",
   "execution_count": null,
   "id": "6dac201a",
   "metadata": {},
   "outputs": [],
   "source": [
    "def run(optimizer):\n",
    "    for epoch in range(1,10000):\n",
    "#         optimizer.param_groups[0]['lr'] = 0.0005\n",
    "        loss = train(optimizer)\n",
    "        if epoch%300==0:\n",
    "            print(loss)\n",
    "#             print(model.para)           "
   ]
  },
  {
   "cell_type": "code",
   "execution_count": null,
   "id": "640dc3aa",
   "metadata": {
    "scrolled": true
   },
   "outputs": [],
   "source": [
    "run(optimizer)"
   ]
  },
  {
   "cell_type": "code",
   "execution_count": null,
   "id": "ca52260b",
   "metadata": {},
   "outputs": [],
   "source": [
    "optimizer = torch.optim.SGD([\n",
    "    {'params': model.z, \"momentum\": 0.99, \"lr\": 0.02/2},\n",
    "    {'params': model.para, \"momentum\": 0.0, \"lr\":LR_P/2}\n",
    "    ])"
   ]
  },
  {
   "cell_type": "code",
   "execution_count": null,
   "id": "a23c94e7",
   "metadata": {
    "scrolled": true
   },
   "outputs": [],
   "source": [
    "run(optimizer)"
   ]
  },
  {
   "cell_type": "code",
   "execution_count": null,
   "id": "07823ba5",
   "metadata": {},
   "outputs": [],
   "source": [
    "zz = model.z.cpu().detach().numpy()"
   ]
  },
  {
   "cell_type": "code",
   "execution_count": null,
   "id": "bd308b66",
   "metadata": {},
   "outputs": [],
   "source": [
    "np.concatenate(membership)"
   ]
  },
  {
   "cell_type": "code",
   "execution_count": null,
   "id": "bd390b71",
   "metadata": {},
   "outputs": [],
   "source": [
    "fig, axes = plt.subplots(2, 3, figsize=(10, 6))  # Create a 2x3 grid of subplots\n",
    "\n",
    "for i, ax in enumerate(axes.flat):  # Iterate over each subplot\n",
    "    # Map values to their corresponding slices\n",
    "    start = int(np.sum(n_nodes[:i*2]))\n",
    "    end = int(np.sum(n_nodes[:(i+1)*2]))\n",
    "    \n",
    "    z = zz[start:end]\n",
    "    mem_long = np.concatenate(membership)[start:end]\n",
    "    \n",
    "    # Use different markers and colors for clarity in grayscale\n",
    "    dem_positions = z[mem_long == 0]\n",
    "    rep_positions = z[mem_long == 1]\n",
    "    \n",
    "    dem_scatter = ax.scatter(dem_positions[:, 0], dem_positions[:, 1], color='blue',marker='o', s=10, label='Democrats')\n",
    "    rep_scatter = ax.scatter(rep_positions[:, 0], rep_positions[:, 1], color='red', marker='x', s=10, label='Republicans')\n",
    "    \n",
    "    # Customize plot\n",
    "    ax.set_title(f'Year {i*2+2010}')\n",
    "\n",
    "# fig.legend([dem_scatter, rep_scatter], ['Democrats', 'Republicans'], loc='upper center', ncol=2, frameon=False)\n",
    "\n",
    "# Adjust spacing between subplots\n",
    "plt.tight_layout()\n",
    "\n",
    "# Show plots\n",
    "plt.show()"
   ]
  },
  {
   "cell_type": "code",
   "execution_count": null,
   "id": "4f11f732",
   "metadata": {
    "scrolled": true
   },
   "outputs": [],
   "source": [
    "for i in range(T):\n",
    "    start = int(np.sum(n_nodes[:i]))\n",
    "    end = int(np.sum(n_nodes[:(i+1)]))\n",
    "#     visualize(z_hat=zz,z_true=zz,start=start,end=end)\n",
    "    visualize_membership(zz,np.concatenate(membership),start,end,caption=None)"
   ]
  },
  {
   "cell_type": "code",
   "execution_count": null,
   "id": "88e8d7a4",
   "metadata": {},
   "outputs": [],
   "source": [
    "init_z = zz\n",
    "init_para = model.para.detach().cpu().numpy()"
   ]
  },
  {
   "cell_type": "code",
   "execution_count": null,
   "id": "a23dbb35",
   "metadata": {},
   "outputs": [],
   "source": [
    "# np.save('../compare/z6.npy', init_z)"
   ]
  },
  {
   "cell_type": "code",
   "execution_count": null,
   "id": "ba96294f",
   "metadata": {},
   "outputs": [],
   "source": [
    "init_para"
   ]
  },
  {
   "cell_type": "code",
   "execution_count": null,
   "id": "8666418b",
   "metadata": {},
   "outputs": [],
   "source": [
    "import math\n",
    "def compute_combinations_length_list():\n",
    "    # Compute the length of combination_N for each n in n_nodes\n",
    "    return [math.comb(n, 2) for n in n_nodes]\n",
    "\n",
    "def get_combination_indices_range(T):\n",
    "    if T < 0 or T >= len(n_nodes):\n",
    "        raise ValueError(\"T is out of range of n_nodes indices.\")\n",
    "    combination_lengths = compute_combinations_length_list()\n",
    "    start_idx = sum(combination_lengths[:T])\n",
    "    segment_length = combination_lengths[T]\n",
    "    end_idx = start_idx + segment_length\n",
    "    return start_idx, end_idx\n",
    "\n",
    "for T in range(len(n_nodes)):\n",
    "    start_idx, end_idx = get_combination_indices_range(T)\n",
    "    segment_combinations = combination_N[start_idx:end_idx]\n",
    "    \n",
    "    with torch.no_grad():\n",
    "        loss = model.calculate_auc(\n",
    "            device=device,\n",
    "            label=label[start_idx:end_idx],\n",
    "            persist=persist[start_idx:end_idx],\n",
    "            sample_edge=combination_N[start_idx:end_idx]\n",
    "        )\n",
    "    print(f\"AUC at time {T}: {loss.item()}\")"
   ]
  },
  {
   "cell_type": "markdown",
   "id": "f1310764",
   "metadata": {},
   "source": [
    "# Step 3"
   ]
  },
  {
   "cell_type": "code",
   "execution_count": null,
   "id": "ea359bfb",
   "metadata": {},
   "outputs": [],
   "source": [
    "print(\"Step 3: Performing variance/covariance estimation for the parameters of interest...\")"
   ]
  },
  {
   "cell_type": "code",
   "execution_count": null,
   "id": "9361cd4c",
   "metadata": {},
   "outputs": [],
   "source": [
    "def run(optimizer,index,fixed):\n",
    "    for epoch in range(1,3000):\n",
    "        loss = train(optimizer=optimizer,index=index,fixed=fixed)\n",
    "        if epoch%500 == 0:\n",
    "            print(loss)\n",
    "    return loss"
   ]
  },
  {
   "cell_type": "code",
   "execution_count": null,
   "id": "9042a259",
   "metadata": {},
   "outputs": [],
   "source": [
    "model = ClsnaModelCongress(device,n_nodes,T,ar_pair,Aw,Aw2,Ab,new_at_t,member_at_t,D=DIM).to(device)\n",
    "with torch.no_grad():       \n",
    "    model.z[:,:] = torch.from_numpy(init_z).to(device)\n",
    "    model.para[:,:] = torch.from_numpy(init_para).to(device)\n",
    "optimizer = torch.optim.SGD([\n",
    "    {'params': model.z, \"momentum\": 0.99, \"lr\": 0.02},\n",
    "    {'params': model.para, \"momentum\": 0.0, \"lr\":LR_P}\n",
    "    ])    \n",
    "logL = train(optimizer)"
   ]
  },
  {
   "cell_type": "code",
   "execution_count": null,
   "id": "d249270d",
   "metadata": {},
   "outputs": [],
   "source": [
    "delta_var = 0.1"
   ]
  },
  {
   "cell_type": "code",
   "execution_count": null,
   "id": "3d249751",
   "metadata": {},
   "outputs": [],
   "source": [
    "# Estimate variance/covariance for each parameter\n",
    "parad = {'alpha':(0,1),'delta':(2,1),'gw':(1,1),'gw2':(3,0),'gb':(2,0)}\n",
    "var_list = {'alpha':(0,1),'delta':(2,1),'gw':(1,1),'gw2':(3,0),'gb':(2,0)}\n",
    "cov_list = []\n",
    "\n",
    "for key, value in parad.items():\n",
    "    model = ClsnaModelCongress(device,n_nodes,T,ar_pair,Aw,Aw2,Ab,new_at_t,member_at_t,D=DIM).to(device)\n",
    "    with torch.no_grad():       \n",
    "        model.z[:,:] = torch.from_numpy(init_z).to(device)\n",
    "        model.para[:,:] = torch.from_numpy(init_para).to(device)\n",
    "    optimizer = torch.optim.SGD([\n",
    "    {'params': model.z, \"momentum\": 0.99, \"lr\": 0.02},\n",
    "    {'params': model.para, \"momentum\": 0.0, \"lr\":LR_P}\n",
    "    ])\n",
    "    newlogL=run(optimizer,value,init_para[value[0],value[1]]+delta_var)\n",
    "    var_hat = delta_var/(newlogL-logL)**0.5/2**0.5\n",
    "    var_list[key] = (round(var_hat,5))\n",
    "    print(key,\" sd: \", round(var_hat,5))\n",
    "    diff = model.para-torch.from_numpy(init_para).to(device)\n",
    "    extracted_values = [diff[value[0], value[1]].item() for value in parad.values()]\n",
    "    extracted_values = np.array(extracted_values)\n",
    "    cov_list.append(extracted_values/delta_var*var_hat**2)"
   ]
  },
  {
   "cell_type": "code",
   "execution_count": null,
   "id": "e1fe8acf",
   "metadata": {},
   "outputs": [],
   "source": [
    "print(\"sd estimates: \", var_list)"
   ]
  },
  {
   "cell_type": "code",
   "execution_count": null,
   "id": "4604fffa",
   "metadata": {
    "scrolled": true
   },
   "outputs": [],
   "source": [
    "init_para = init_para.round(3)\n",
    "printdict = {'a':init_para[0,1],'d':init_para[2,1],'gw':init_para[1,1],'gw2':init_para[3,0],'gb':init_para[2,0]}\n",
    "print(\"point estimates: \", printdict)"
   ]
  },
  {
   "cell_type": "code",
   "execution_count": null,
   "id": "eb2438e1",
   "metadata": {},
   "outputs": [],
   "source": [
    "with open('estvar', 'a') as file:\n",
    "    # Convert dictionary to string and write it to the file\n",
    "    file.write(str(var_list) + '\\n')"
   ]
  },
  {
   "cell_type": "code",
   "execution_count": null,
   "id": "b03dc06a",
   "metadata": {},
   "outputs": [],
   "source": [
    "with open('est', 'a') as file:\n",
    "    # Convert dictionary to string and write it to the file\n",
    "    file.write(str(printdict) + '\\n')"
   ]
  },
  {
   "cell_type": "code",
   "execution_count": null,
   "id": "cc76ade9",
   "metadata": {},
   "outputs": [],
   "source": [
    "# import csv   \n",
    "# fields=var_list\n",
    "# with open('var001', 'a') as f:\n",
    "#     writer = csv.writer(f)\n",
    "#     writer.writerow(fields)"
   ]
  },
  {
   "cell_type": "code",
   "execution_count": null,
   "id": "7c24ece5",
   "metadata": {},
   "outputs": [],
   "source": [
    "# import csv   \n",
    "# fields=list(printdict.values())\n",
    "# with open('theta001', 'a') as f:\n",
    "#     writer = csv.writer(f)\n",
    "#     writer.writerow(fields)"
   ]
  },
  {
   "cell_type": "code",
   "execution_count": null,
   "id": "de92c379",
   "metadata": {},
   "outputs": [],
   "source": []
  }
 ],
 "metadata": {
  "kernelspec": {
   "display_name": "Python 3",
   "language": "python",
   "name": "python3"
  },
  "language_info": {
   "codemirror_mode": {
    "name": "ipython",
    "version": 3
   },
   "file_extension": ".py",
   "mimetype": "text/x-python",
   "name": "python",
   "nbconvert_exporter": "python",
   "pygments_lexer": "ipython3",
   "version": "3.8.10"
  }
 },
 "nbformat": 4,
 "nbformat_minor": 5
}
