{
 "cells": [
  {
   "cell_type": "markdown",
   "id": "83b8fade",
   "metadata": {},
   "source": [
    "## Stochastic gradient descent-based inference for dynamic network models with attractors\n",
    "## This script analyzes Twitter congressional hashtag networks with 207 nodes. These nodes represent members consistently present throughout the study period."
   ]
  },
  {
   "cell_type": "code",
   "execution_count": null,
   "id": "86995f00",
   "metadata": {},
   "outputs": [],
   "source": [
    "from utils import preprocess_2, ClsnaModel_2,visualize_membership\n",
    "import numpy as np\n",
    "import torch\n",
    "from scipy.linalg import orthogonal_procrustes"
   ]
  },
  {
   "cell_type": "code",
   "execution_count": null,
   "id": "175c7ad5",
   "metadata": {},
   "outputs": [],
   "source": [
    "# Set device for computation (GPU if available)\n",
    "device = 'cuda' if torch.cuda.is_available() else 'cpu'\n",
    "# device = \"cpu\""
   ]
  },
  {
   "cell_type": "code",
   "execution_count": null,
   "id": "494c4f88",
   "metadata": {},
   "outputs": [],
   "source": [
    "# Set global variables for the model\n",
    "N = 207\n",
    "DIM = 2\n",
    "T = 11\n",
    "SIGMA = 10\n",
    "TAU = 1"
   ]
  },
  {
   "cell_type": "code",
   "execution_count": null,
   "id": "aec39f0c",
   "metadata": {},
   "outputs": [],
   "source": [
    "# Preprocess data\n",
    "from scipy.spatial.distance import squareform\n",
    "from sklearn.preprocessing import normalize\n",
    "from scipy.sparse.csgraph import laplacian\n",
    "Y = np.load(\"Y.npy\")     \n",
    "membership = np.load(\"pi.npy\")   \n",
    "membership = 1*(membership!='D')\n",
    "s = membership\n",
    "y_t = squareform(Y[:,:,0])\n",
    "y = [y_t]\n",
    "Aw = []\n",
    "Aw2 = []\n",
    "Ab = []\n",
    "for i in range(1,T):\n",
    "    #normalized graph laplalcian by row\n",
    "    Aw_t = squareform(y_t)*(np.outer(s, s))\n",
    "    Aw_t = -2*normalize(laplacian(Aw_t), axis=1, norm='l1')\n",
    "    Aw2_t = squareform(y_t)*(np.outer(1-s, 1-s))\n",
    "    Aw2_t = -2*normalize(laplacian(Aw2_t), axis=1, norm='l1')\n",
    "    Ab_t = squareform(y_t)*(np.outer(1-s, s)+np.outer(s, 1-s))\n",
    "    Ab_t = -2*normalize(laplacian(Ab_t), axis=1, norm='l1')\n",
    "    y_t = squareform(Y[:,:,i])\n",
    "    #save\n",
    "    y.append(y_t)\n",
    "    Aw.append(Aw_t)\n",
    "    Aw2.append(Aw2_t)\n",
    "    Ab.append(Ab_t)"
   ]
  },
  {
   "cell_type": "code",
   "execution_count": null,
   "id": "b08af0e8",
   "metadata": {},
   "outputs": [],
   "source": [
    "density = []\n",
    "for network in y:\n",
    "    density.append(np.mean(network))"
   ]
  },
  {
   "cell_type": "code",
   "execution_count": null,
   "id": "00b9ec55",
   "metadata": {},
   "outputs": [],
   "source": [
    "density"
   ]
  },
  {
   "cell_type": "code",
   "execution_count": null,
   "id": "459d1fe8",
   "metadata": {},
   "outputs": [],
   "source": [
    "# np.sum(membership),len(membership)-np.sum(membership)"
   ]
  },
  {
   "cell_type": "code",
   "execution_count": null,
   "id": "65101039",
   "metadata": {},
   "outputs": [],
   "source": [
    "# z = np.concatenate(z)\n",
    "label, persist, Aw, Aw2, Ab, combination_N=preprocess_2(y, Aw, Aw2, Ab, N, T)"
   ]
  },
  {
   "cell_type": "code",
   "execution_count": null,
   "id": "5e241c03",
   "metadata": {},
   "outputs": [],
   "source": [
    "_s = torch.arange(0,N*(T-1), requires_grad = False)\n",
    "ar_pair = torch.stack((_s,_s+N), dim = 1)"
   ]
  },
  {
   "cell_type": "code",
   "execution_count": null,
   "id": "015ffc11",
   "metadata": {},
   "outputs": [],
   "source": [
    "combination_N = combination_N.to(device)\n",
    "label = label.to(device)\n",
    "persist = persist.to(device)"
   ]
  },
  {
   "cell_type": "code",
   "execution_count": null,
   "id": "980321f6",
   "metadata": {},
   "outputs": [],
   "source": [
    "LR = 5e-3\n",
    "MOM = 0.99\n",
    "LR_P = 1e-2"
   ]
  },
  {
   "cell_type": "code",
   "execution_count": null,
   "id": "4ab39c51",
   "metadata": {},
   "outputs": [],
   "source": [
    "#train the model\n",
    "def train(optimizer, index=None, fixed=None):\n",
    "    t_index=torch.arange(start=0,end=N*T,device=device,requires_grad=False)\n",
    "    optimizer.zero_grad()\n",
    "    loss = model.loss(device=device,label=label,persist=persist,sample_edge=combination_N,T_index=t_index,ss=SIGMA,tt=TAU)\n",
    "    loss.backward()\n",
    "    model.para.grad = 0.1*((model.para.grad>0).bool().float()-0.5)\n",
    "    optimizer.step()\n",
    "    if index is not None:\n",
    "        with torch.no_grad():\n",
    "            model.para[index[0],index[1]] = fixed\n",
    "    return loss.item()"
   ]
  },
  {
   "cell_type": "code",
   "execution_count": null,
   "id": "61326b19",
   "metadata": {},
   "outputs": [],
   "source": [
    "#run the optimization process\n",
    "def run(optimizer,index=None,fixed=None):\n",
    "    for epoch in range(1,12000):\n",
    "        loss = train(optimizer=optimizer,index=index,fixed=fixed)\n",
    "        if epoch%1000 == 0:\n",
    "            print(loss)\n",
    "    return loss"
   ]
  },
  {
   "cell_type": "markdown",
   "id": "9a13263b",
   "metadata": {},
   "source": [
    "# Step 1"
   ]
  },
  {
   "cell_type": "code",
   "execution_count": null,
   "id": "35c4152b",
   "metadata": {},
   "outputs": [],
   "source": [
    "print(\"Step 1: Fitting initial CLSNA model with higher-dimensional space...\")"
   ]
  },
  {
   "cell_type": "code",
   "execution_count": null,
   "id": "44b4d331",
   "metadata": {},
   "outputs": [],
   "source": [
    "# Initialize and train the first model\n",
    "model = ClsnaModel_2(device,N,T,ar_pair,Aw,Aw2,Ab,D=3).to(device)"
   ]
  },
  {
   "cell_type": "code",
   "execution_count": null,
   "id": "e9d5ccff",
   "metadata": {},
   "outputs": [],
   "source": [
    "optimizer = torch.optim.SGD([\n",
    "    {'params': model.z, \"momentum\": MOM, \"lr\": LR},\n",
    "    {'params': model.para, \"momentum\": 0.0, \"lr\":LR_P}\n",
    "    ])"
   ]
  },
  {
   "cell_type": "code",
   "execution_count": null,
   "id": "d72a8710",
   "metadata": {
    "scrolled": true
   },
   "outputs": [],
   "source": [
    "run(optimizer)"
   ]
  },
  {
   "cell_type": "code",
   "execution_count": null,
   "id": "21132c54",
   "metadata": {},
   "outputs": [],
   "source": [
    "# Perform PCA to reduce dimensionality\n",
    "PCA_p = torch.pca_lowrank(model.z.cpu())[2][:,[0,1]]\n",
    "init_z = (model.z.cpu().detach()@PCA_p).detach().numpy()\n",
    "init_para = model.para.detach().cpu().numpy()"
   ]
  },
  {
   "cell_type": "markdown",
   "id": "f850cd2b",
   "metadata": {},
   "source": [
    "# Step 2"
   ]
  },
  {
   "cell_type": "code",
   "execution_count": null,
   "id": "c3b036cc",
   "metadata": {},
   "outputs": [],
   "source": [
    "print(\"Step 2: Fitting CLSNA model with targeted dimension and estimating model parameters...\")"
   ]
  },
  {
   "cell_type": "code",
   "execution_count": null,
   "id": "e8c3e320",
   "metadata": {},
   "outputs": [],
   "source": [
    "# init_z = np.load('../compare/z2_compare.npy')"
   ]
  },
  {
   "cell_type": "code",
   "execution_count": null,
   "id": "be3ecde3",
   "metadata": {},
   "outputs": [],
   "source": [
    "model = ClsnaModel_2(device,N,T,ar_pair,Aw,Aw2,Ab,D=2).to(device)\n",
    "with torch.no_grad():       \n",
    "    model.z[:,:] = torch.from_numpy(init_z).to(device)\n",
    "    model.para[:,:] = torch.from_numpy(init_para).to(device)"
   ]
  },
  {
   "cell_type": "code",
   "execution_count": null,
   "id": "aa116ef2",
   "metadata": {},
   "outputs": [],
   "source": [
    "optimizer = torch.optim.SGD([\n",
    "    {'params': model.z, \"momentum\": MOM, \"lr\": LR},\n",
    "    {'params': model.para, \"momentum\": 0.0, \"lr\":LR_P}\n",
    "    ])"
   ]
  },
  {
   "cell_type": "code",
   "execution_count": null,
   "id": "640dc3aa",
   "metadata": {
    "scrolled": true
   },
   "outputs": [],
   "source": [
    "run(optimizer)"
   ]
  },
  {
   "cell_type": "code",
   "execution_count": null,
   "id": "88e8d7a4",
   "metadata": {},
   "outputs": [],
   "source": [
    "init_z = model.z.cpu().detach().numpy()\n",
    "init_para = model.para.detach().cpu().numpy()"
   ]
  },
  {
   "cell_type": "code",
   "execution_count": null,
   "id": "66508bc5",
   "metadata": {},
   "outputs": [],
   "source": [
    "# np.save('../compare/z1.npy', init_z)"
   ]
  },
  {
   "cell_type": "code",
   "execution_count": null,
   "id": "b7d02d04",
   "metadata": {},
   "outputs": [],
   "source": [
    "membership = np.load(\"pi.npy\")\n",
    "membership = membership!='D'"
   ]
  },
  {
   "cell_type": "code",
   "execution_count": null,
   "id": "ff1511d4",
   "metadata": {
    "scrolled": true
   },
   "outputs": [],
   "source": [
    "for ti in range(T):\n",
    "    visualize_membership(z=init_z,membership=np.tile(membership,T),start=ti*N,end=(ti+1)*N)"
   ]
  },
  {
   "cell_type": "markdown",
   "id": "f1310764",
   "metadata": {},
   "source": [
    "# Step 3"
   ]
  },
  {
   "cell_type": "code",
   "execution_count": null,
   "id": "df7df51c",
   "metadata": {},
   "outputs": [],
   "source": [
    "print(\"Step 3: Performing variance/covariance estimation for the parameters of interest...\")"
   ]
  },
  {
   "cell_type": "code",
   "execution_count": null,
   "id": "9042a259",
   "metadata": {},
   "outputs": [],
   "source": [
    "model = ClsnaModel_2(device,N,T,ar_pair,Aw,Aw2,Ab,D=2).to(device)\n",
    "with torch.no_grad():       \n",
    "    model.z[:,:] = torch.from_numpy(init_z).to(device)\n",
    "    model.para[:,:] = torch.from_numpy(init_para).to(device)\n",
    "optimizer = torch.optim.SGD([\n",
    "    {'params': model.z, \"momentum\": MOM, \"lr\": LR},\n",
    "    {'params': model.para, \"momentum\": 0.0, \"lr\":LR_P}\n",
    "    ])    \n",
    "logL = train(optimizer)"
   ]
  },
  {
   "cell_type": "code",
   "execution_count": null,
   "id": "d249270d",
   "metadata": {},
   "outputs": [],
   "source": [
    "delta_var = 0.1"
   ]
  },
  {
   "cell_type": "code",
   "execution_count": null,
   "id": "46281164",
   "metadata": {},
   "outputs": [],
   "source": [
    "def run(optimizer,index=None,fixed=None):\n",
    "    for epoch in range(1,7000):\n",
    "        loss = train(optimizer=optimizer,index=index,fixed=fixed)\n",
    "        if epoch%1000 == 0:\n",
    "            print(loss)\n",
    "    return loss"
   ]
  },
  {
   "cell_type": "code",
   "execution_count": null,
   "id": "596aef21",
   "metadata": {
    "scrolled": true
   },
   "outputs": [],
   "source": [
    "# Estimate variance/covariance for each parameter\n",
    "parad = {'alpha':(0,1),'delta':(2,1),'gw':(1,1),'gw2':(3,0),'gb':(2,0)}\n",
    "var_list = []\n",
    "cov_list = []\n",
    "\n",
    "for key, value in parad.items():\n",
    "    model = ClsnaModel_2(device,N,T,ar_pair,Aw,Aw2,Ab,D=2).to(device)\n",
    "    with torch.no_grad():       \n",
    "        model.z[:,:] = torch.from_numpy(init_z).to(device)\n",
    "        model.para[:,:] = torch.from_numpy(init_para).to(device)\n",
    "    optimizer = torch.optim.SGD([\n",
    "    {'params': model.z, \"momentum\": MOM, \"lr\": LR},\n",
    "    {'params': model.para, \"momentum\": 0.0, \"lr\":LR_P}\n",
    "    ])\n",
    "    newlogL=run(optimizer,value,init_para[value[0],value[1]]+delta_var)\n",
    "    var_hat = delta_var/(newlogL-logL)**0.5/2**0.5\n",
    "    var_list.append(round(var_hat,5))\n",
    "    \n",
    "    diff = model.para-torch.from_numpy(init_para).to(device)\n",
    "    extracted_values = [diff[value[0], value[1]].item() for value in parad.values()]\n",
    "    extracted_values = np.array(extracted_values)\n",
    "    cov_list.append(extracted_values/delta_var*var_hat**2)"
   ]
  },
  {
   "cell_type": "code",
   "execution_count": null,
   "id": "4604fffa",
   "metadata": {
    "scrolled": true
   },
   "outputs": [],
   "source": [
    "init_para = init_para.round(3)\n",
    "printdict = {'a':init_para[0,1],'d':init_para[2,1],'gw':init_para[1,1],'gw2':init_para[3,0],'gb':init_para[2,0]}"
   ]
  },
  {
   "cell_type": "code",
   "execution_count": null,
   "id": "70181056",
   "metadata": {},
   "outputs": [],
   "source": [
    "var_list"
   ]
  },
  {
   "cell_type": "code",
   "execution_count": null,
   "id": "9d62de46",
   "metadata": {},
   "outputs": [],
   "source": [
    "printdict"
   ]
  },
  {
   "cell_type": "code",
   "execution_count": null,
   "id": "cc76ade9",
   "metadata": {},
   "outputs": [],
   "source": [
    "import csv\n",
    "fields=var_list\n",
    "with open('var001', 'a') as f:\n",
    "    writer = csv.writer(f)\n",
    "    writer.writerow(fields)"
   ]
  },
  {
   "cell_type": "code",
   "execution_count": null,
   "id": "7c24ece5",
   "metadata": {},
   "outputs": [],
   "source": [
    "import csv\n",
    "fields=list(printdict.values())\n",
    "with open('theta001', 'a') as f:\n",
    "    writer = csv.writer(f)\n",
    "    writer.writerow(fields)"
   ]
  }
 ],
 "metadata": {
  "kernelspec": {
   "display_name": "Python 3",
   "language": "python",
   "name": "python3"
  },
  "language_info": {
   "codemirror_mode": {
    "name": "ipython",
    "version": 3
   },
   "file_extension": ".py",
   "mimetype": "text/x-python",
   "name": "python",
   "nbconvert_exporter": "python",
   "pygments_lexer": "ipython3",
   "version": "3.8.10"
  }
 },
 "nbformat": 4,
 "nbformat_minor": 5
}
