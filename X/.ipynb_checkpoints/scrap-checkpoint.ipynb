{
 "cells": [
  {
   "cell_type": "code",
   "execution_count": null,
   "id": "452acdeb",
   "metadata": {},
   "outputs": [],
   "source": [
    "import matplotlib.pyplot as plt\n",
    "import numpy as np\n",
    "\n",
    "# Create sample data\n",
    "x = np.arange(3)\n",
    "set1_means = [4, 7, 9]\n",
    "set1_stdevs = [1, 0.5, 1.2]\n",
    "set2_means = [5, 8, 10]\n",
    "set2_stdevs = [0.8, 1.2, 0.7]\n",
    "\n",
    "# Create the figure and subplots\n",
    "fig, (ax1, ax2) = plt.subplots(1, 2, figsize=(10, 5))\n",
    "\n",
    "# Set the title of each subplot\n",
    "ax1.set_title('Set 1')\n",
    "ax2.set_title('Set 2')\n",
    "\n",
    "# Plot the means and standard deviations for Set 1\n",
    "ax1.bar(x, set1_means, yerr=set1_stdevs, align='center', alpha=0.5, ecolor='black', capsize=10)\n",
    "ax1.set_xticks(x)\n",
    "ax1.set_xticklabels(['Var 1', 'Var 2', 'Var 3'])\n",
    "\n",
    "# Plot the means and standard deviations for Set 2\n",
    "ax2.bar(x, set2_means, yerr=set2_stdevs, align='center', alpha=0.5, ecolor='black', capsize=10)\n",
    "ax2.set_xticks(x)\n",
    "ax2.set_xticklabels(['Var 1', 'Var 2', 'Var 3'])\n",
    "\n",
    "# Set the y-axis label for the plot\n",
    "fig.text(0.06, 0.5, 'Value', ha='center', va='center', rotation='vertical')\n",
    "\n",
    "# Display the plot\n",
    "plt.show()\n"
   ]
  },
  {
   "cell_type": "code",
   "execution_count": null,
   "id": "4af86d17",
   "metadata": {},
   "outputs": [],
   "source": [
    "import matplotlib.pyplot as plt\n",
    "import numpy as np\n",
    "\n",
    "# Create sample data\n",
    "x = np.arange(3)\n",
    "set1_means = [4, 7, 9]\n",
    "set1_stdevs = [1, 0.5, 1.2]\n",
    "set2_means = [5, 8, 10]\n",
    "set2_stdevs = [0.8, 1.2, 0.7]\n",
    "\n",
    "# Create the figure and subplots\n",
    "fig, (ax1, ax2) = plt.subplots(1, 2, figsize=(10, 5))\n",
    "\n",
    "# Set the title of each subplot\n",
    "ax1.set_title('Set 1')\n",
    "ax2.set_title('Set 2')\n",
    "\n",
    "# Create the scatter plot for Set 1\n",
    "ax1.errorbar(x, set1_means, yerr=set1_stdevs, fmt='o', capsize=5)\n",
    "\n",
    "# Create the scatter plot for Set 2\n",
    "ax2.errorbar(x, set2_means, yerr=set2_stdevs, fmt='o', capsize=5)\n",
    "\n",
    "# Set the x-axis and y-axis labels for the plot\n",
    "fig.text(0.5, 0.04, 'Variable', ha='center')\n",
    "fig.text(0.06, 0.5, 'Value', va='center', rotation='vertical')\n",
    "\n",
    "# Display the plot\n",
    "plt.show()\n"
   ]
  },
  {
   "cell_type": "code",
   "execution_count": null,
   "id": "630c04c0",
   "metadata": {},
   "outputs": [],
   "source": [
    "import matplotlib.pyplot as plt\n",
    "import numpy as np\n",
    "\n",
    "# Create sample data\n",
    "x = np.arange(3)\n",
    "set1_means = [4, 7, 9]\n",
    "set1_stdevs = [1, 0.5, 1.2]\n",
    "set2_means = [5, 8, 10]\n",
    "set2_stdevs = [0.8, 1.2, 0.7]\n",
    "\n",
    "# Create the figure and subplots\n",
    "fig, ax = plt.subplots(figsize=(8, 6))\n",
    "\n",
    "# Set the title of the subplot\n",
    "ax.set_title('Comparison Plot')\n",
    "\n",
    "# Create the scatter plot for Set 1\n",
    "ax.errorbar(x, set1_means, yerr=set1_stdevs, fmt='o', capsize=5, label='Set 1')\n",
    "\n",
    "# Create the scatter plot for Set 2\n",
    "ax.errorbar(x, set2_means, yerr=set2_stdevs, fmt='o', capsize=5, label='Set 2')\n",
    "\n",
    "# Set the x-axis and y-axis labels for the plot\n",
    "ax.set_xlabel('Variable')\n",
    "ax.set_ylabel('Value')\n",
    "\n",
    "# Add a legend to the plot\n",
    "ax.legend()\n",
    "\n",
    "# Display the plot\n",
    "plt.show()\n"
   ]
  },
  {
   "cell_type": "code",
   "execution_count": null,
   "id": "25a23dc4",
   "metadata": {},
   "outputs": [],
   "source": [
    "import matplotlib.pyplot as plt\n",
    "import numpy as np\n",
    "\n",
    "# Create sample data\n",
    "x = np.arange(3)\n",
    "set1_means = [4, 7, 9]\n",
    "set1_stdevs = [1, 0.5, 1.2]\n",
    "set2_means = [5, 8, 10]\n",
    "set2_stdevs = [0.8, 1.2, 0.7]\n",
    "\n",
    "# Create the figure and subplots\n",
    "fig, (ax1, ax2) = plt.subplots(1, 2, figsize=(10, 5))\n",
    "\n",
    "# Set the title of each subplot\n",
    "ax1.set_title('Set 1')\n",
    "ax2.set_title('Set 2')\n",
    "\n",
    "# Create the scatter plot for Set 1\n",
    "ax1.errorbar(x, set1_means, yerr=set1_stdevs, fmt='o', capsize=5, label='Set 1')\n",
    "\n",
    "# Create the scatter plot for Set 2\n",
    "ax2.errorbar(x, set2_means, yerr=set2_stdevs, fmt='o', capsize=5, label='Set 2')\n",
    "\n",
    "# Set the x-axis and y-axis labels for the plot\n",
    "fig.text(0.5, 0.04, 'Variable', ha='center')\n",
    "fig.text(0.06, 0.5, 'Value', va='center', rotation='vertical')\n",
    "\n",
    "# Add a legend to the plot\n",
    "ax2.legend()\n",
    "\n",
    "# Display the plot\n",
    "plt.show()\n"
   ]
  },
  {
   "cell_type": "code",
   "execution_count": null,
   "id": "1da28a6d",
   "metadata": {},
   "outputs": [],
   "source": [
    "import matplotlib.pyplot as plt\n",
    "import numpy as np\n",
    "\n",
    "# Create sample data\n",
    "x = np.arange(3)\n",
    "set1_means = [4, 7, 9]\n",
    "set1_stdevs = [1, 0.5, 1.2]\n",
    "set2_means = [5, 8, 10]\n",
    "set2_stdevs = [0.8, 1.2, 0.7]\n",
    "\n",
    "# Set the width of the bars\n",
    "bar_width = 0.35\n",
    "\n",
    "# Create the figure and axes\n",
    "fig, ax = plt.subplots()\n",
    "\n",
    "# Create the bars for Set 1\n",
    "ax.bar(x - bar_width/2, set1_means, width=bar_width, yerr=set1_stdevs, capsize=5, label='Set 1')\n",
    "\n",
    "# Create the bars for Set 2\n",
    "ax.bar(x + bar_width/2, set2_means, width=bar_width, yerr=set2_stdevs, capsize=5, label='Set 2')\n",
    "\n",
    "# Set the x-axis and y-axis labels for the plot\n",
    "ax.set_xlabel('Variable')\n",
    "ax.set_ylabel('Value')\n",
    "\n",
    "# Set the title of the plot\n",
    "ax.set_title('Comparison Plot')\n",
    "\n",
    "# Set the x-axis ticks and labels\n",
    "ax.set_xticks(x)\n",
    "ax.set_xticklabels(['Variable 1', 'Variable 2', 'Variable 3'])\n",
    "\n",
    "# Add a legend to the plot\n",
    "ax.legend()\n",
    "\n",
    "# Display the plot\n",
    "plt.show()\n"
   ]
  },
  {
   "cell_type": "code",
   "execution_count": null,
   "id": "7ab908b4",
   "metadata": {},
   "outputs": [],
   "source": [
    "import matplotlib.pyplot as plt\n",
    "import numpy as np\n",
    "\n",
    "# Create sample data\n",
    "x = np.arange(3)\n",
    "gamma_w1 = 4\n",
    "gamma_w2 = 5\n",
    "gamma_b1 = 7\n",
    "gamma_b2 = 8\n",
    "gamma_n1 = 9\n",
    "gamma_n2 = 10\n",
    "set1_means = [gamma_w1, gamma_b1, gamma_n1]\n",
    "set1_stdevs = [1, 0.5, 1.2]\n",
    "set2_means = [gamma_w2, gamma_b2, gamma_n2]\n",
    "set2_stdevs = [0.8, 1.2, 0.7]\n",
    "\n",
    "# Set the width of the bars\n",
    "bar_width = 0.35\n",
    "\n",
    "# Create the figure and axes\n",
    "fig, ax = plt.subplots()\n",
    "\n",
    "# Create the bars for Set 1\n",
    "ax.bar(x - bar_width/2, set1_means, width=bar_width, yerr=set1_stdevs, capsize=5, label='Set 1')\n",
    "\n",
    "# Create the bars for Set 2\n",
    "ax.bar(x + bar_width/2, set2_means, width=bar_width, yerr=set2_stdevs, capsize=5, label='Set 2')\n",
    "\n",
    "# Set the x-axis and y-axis labels for the plot\n",
    "ax.set_xlabel('Variables')\n",
    "ax.set_ylabel('Values')\n",
    "\n",
    "# Set the title of the plot\n",
    "ax.set_title('Comparison Plot')\n",
    "\n",
    "# Set the x-axis ticks and labels\n",
    "ax.set_xticks(x)\n",
    "ax.set_xticklabels([r'$\\gamma_w$', r'$\\gamma_b$', r'$\\gamma_n$'])\n",
    "\n",
    "# Add a legend to the plot\n",
    "ax.legend()\n",
    "\n",
    "# Display the plot\n",
    "plt.show()\n"
   ]
  },
  {
   "cell_type": "code",
   "execution_count": null,
   "id": "603d3810",
   "metadata": {},
   "outputs": [],
   "source": [
    "import requests\n",
    "import time\n",
    "\n",
    "while True:\n",
    "    response = requests.get('https://api.coinbase.com/v2/prices/BTC-USD/spot')\n",
    "    if response.status_code == 200:\n",
    "        data = response.json()\n",
    "        price = data['data']['amount']\n",
    "        print(f\"Current Bitcoin price: ${price}\")\n",
    "    else:\n",
    "        print(\"Error fetching Bitcoin price\")\n",
    "    time.sleep(1)\n"
   ]
  },
  {
   "cell_type": "code",
   "execution_count": null,
   "id": "0fca5df7",
   "metadata": {},
   "outputs": [],
   "source": [
    "import numpy as np\n",
    "\n",
    "def permute_adjacency_matrix(Y, P):\n",
    "    n = Y.shape[0]  # Get the number of nodes\n",
    "    I = np.identity(n)  # Create an identity matrix of size n x n\n",
    "    P_matrix = I[P, :]  # Rearrange the rows of I according to P\n",
    "    P_matrix_T = P_matrix.T  # Compute the transpose of P_matrix\n",
    "    Y_permute = P_matrix @ Y @ P_matrix_T  # Multiply P_matrix by Y, and then by P_matrix_T\n",
    "    return Y_permute\n",
    "\n",
    "# Example usage:\n",
    "Y = np.array([[0, 0, 0, 1],\n",
    "              [0, 0, 1, 0],\n",
    "              [0, 1, 0, 1],\n",
    "              [1, 0, 1, 0]])\n",
    "\n",
    "P = [3, 0, 1, 2]\n",
    "\n",
    "Y_permute = permute_adjacency_matrix(Y, P)\n",
    "print(Y_permute)\n"
   ]
  },
  {
   "cell_type": "code",
   "execution_count": null,
   "id": "9a05d97a",
   "metadata": {},
   "outputs": [],
   "source": [
    "import matplotlib.pyplot as plt\n",
    "import numpy as np"
   ]
  },
  {
   "cell_type": "code",
   "execution_count": null,
   "id": "446d1044",
   "metadata": {},
   "outputs": [],
   "source": [
    "mean = np.array([0.078, 0.41, -0.177])\n",
    "cov = np.array([[9.75,  0.54, -2.48],\n",
    "       [0.54,  9.73, -0.72],\n",
    "       [-2.48, -0.72,  2.67]])\n",
    "cov=cov/10000"
   ]
  },
  {
   "cell_type": "code",
   "execution_count": null,
   "id": "2454faca",
   "metadata": {},
   "outputs": [],
   "source": [
    "gw,gw2,gb=np.random.multivariate_normal(mean, cov, 10**8).T"
   ]
  },
  {
   "cell_type": "code",
   "execution_count": null,
   "id": "9f1c4c50",
   "metadata": {},
   "outputs": [],
   "source": [
    "(np.abs(gw)-np.abs(gb)).mean()"
   ]
  },
  {
   "cell_type": "code",
   "execution_count": null,
   "id": "15a56437",
   "metadata": {},
   "outputs": [],
   "source": [
    "(np.abs(gw2)-np.abs(gb)).mean()"
   ]
  },
  {
   "cell_type": "code",
   "execution_count": null,
   "id": "f49c5cc2",
   "metadata": {},
   "outputs": [],
   "source": [
    "(np.abs(gw)-np.abs(gb)).var()**0.5"
   ]
  },
  {
   "cell_type": "code",
   "execution_count": null,
   "id": "2148a1ca",
   "metadata": {},
   "outputs": [],
   "source": [
    "(np.abs(gw2)-np.abs(gb)).var()**0.5"
   ]
  },
  {
   "cell_type": "code",
   "execution_count": null,
   "id": "82a4dcd3",
   "metadata": {},
   "outputs": [],
   "source": [
    "import torch"
   ]
  },
  {
   "cell_type": "code",
   "execution_count": null,
   "id": "f99c8bd1",
   "metadata": {},
   "outputs": [],
   "source": [
    "torch.log(torch.exp(torch.tensor(-1000)))"
   ]
  },
  {
   "cell_type": "code",
   "execution_count": null,
   "id": "0e789186",
   "metadata": {},
   "outputs": [],
   "source": [
    "import torch\n",
    "\n",
    "def log_prob(x, y, w, b):\n",
    "    z = torch.matmul(x, w) + b\n",
    "    log_prob = y * z - torch.log(1 + torch.exp(z)) + (1 - y) * (-torch.log(1 + torch.exp(z)) - z)\n",
    "    return log_prob.mean()\n",
    "\n",
    "# Example usage\n",
    "x = torch.randn(1000, 10)*1000\n",
    "y = torch.randint(0, 2, (1000,))\n",
    "w = torch.randn(10)\n",
    "b = torch.randn(1)\n",
    "log_prob_y_given_x = log_prob(x, y, w, b)\n"
   ]
  },
  {
   "cell_type": "code",
   "execution_count": null,
   "id": "b27612e8",
   "metadata": {},
   "outputs": [],
   "source": [
    "log_prob_y_given_x"
   ]
  },
  {
   "cell_type": "code",
   "execution_count": null,
   "id": "2f684b48",
   "metadata": {},
   "outputs": [],
   "source": [
    "import numpy as np\n",
    "import torch\n",
    "\n",
    "# Create a random tensor with values between -1000 and 1000\n",
    "tensor = torch.randint(low=-1000, high=1000, size=(5, 5)).float()\n",
    "\n",
    "def log_sigmoid(x):\n",
    "    return -torch.log(1 + torch.exp(-x))\n",
    "\n",
    "log_sigmoid_tensor = log_sigmoid(tensor)\n",
    "print(log_sigmoid_tensor)\n"
   ]
  },
  {
   "cell_type": "code",
   "execution_count": null,
   "id": "14953f7e",
   "metadata": {},
   "outputs": [],
   "source": [
    "import torch\n",
    "\n",
    "def log_sigmoid_stable(x):\n",
    "    return torch.where(x >= 0, -torch.log(1 + torch.exp(-x)), x - torch.log(1 + torch.exp(x)))\n",
    "\n",
    "# Create a tensor with values between -1000 and 1000\n",
    "tensor = torch.randint(low=-1000, high=1000, size=(5, 5)).float()\n",
    "\n",
    "log_sigmoid_tensor = log_sigmoid_stable(tensor)\n",
    "print(log_sigmoid_tensor)\n"
   ]
  },
  {
   "cell_type": "code",
   "execution_count": null,
   "id": "3296711f",
   "metadata": {},
   "outputs": [],
   "source": [
    "import sys"
   ]
  },
  {
   "cell_type": "code",
   "execution_count": null,
   "id": "75ad87b6",
   "metadata": {},
   "outputs": [],
   "source": [
    "sys.path"
   ]
  },
  {
   "cell_type": "code",
   "execution_count": null,
   "id": "91a64db5",
   "metadata": {},
   "outputs": [],
   "source": [
    "import torch"
   ]
  },
  {
   "cell_type": "code",
   "execution_count": null,
   "id": "a961a7b6",
   "metadata": {},
   "outputs": [],
   "source": [
    "torch.arange(10)"
   ]
  },
  {
   "cell_type": "code",
   "execution_count": null,
   "id": "4e5499c2",
   "metadata": {},
   "outputs": [],
   "source": [
    "a=torch.combinations(torch.arange(10**4))"
   ]
  },
  {
   "cell_type": "code",
   "execution_count": null,
   "id": "ab3c21ae",
   "metadata": {},
   "outputs": [],
   "source": [
    "@torch.jit.script\n",
    "def foo():\n",
    "    sum = 0\n",
    "    for i in range(1,100000000):\n",
    "        sum=0\n",
    "        sum+=i\n",
    "    return sum"
   ]
  },
  {
   "cell_type": "code",
   "execution_count": null,
   "id": "8389af19",
   "metadata": {},
   "outputs": [],
   "source": [
    "def boo():\n",
    "    sum = 0\n",
    "    for i in range(1,100000000):\n",
    "        sum=0\n",
    "        sum+=i\n",
    "    return sum"
   ]
  },
  {
   "cell_type": "code",
   "execution_count": null,
   "id": "042b4625",
   "metadata": {},
   "outputs": [],
   "source": [
    "foo()"
   ]
  },
  {
   "cell_type": "code",
   "execution_count": null,
   "id": "6965e8ed",
   "metadata": {},
   "outputs": [],
   "source": [
    "boo()"
   ]
  },
  {
   "cell_type": "code",
   "execution_count": null,
   "id": "52a7ef19",
   "metadata": {},
   "outputs": [],
   "source": [
    "type(foo)"
   ]
  },
  {
   "cell_type": "code",
   "execution_count": null,
   "id": "076f5d9f",
   "metadata": {},
   "outputs": [],
   "source": [
    "import numba\n",
    "import numpy as np\n",
    "\n",
    "def add_numbers(a, b):\n",
    "    result = [1,]\n",
    "    for i in range(len(a)):\n",
    "        c=a[i] + b[i]\n",
    "    return result\n",
    "\n",
    "@numba.jit(nopython=True)\n",
    "def add_numbers_jit(a, b):\n",
    "    result = [1,]\n",
    "    for i in range(len(a)):\n",
    "        c=a[i] + b[i]\n",
    "    return result\n",
    "\n",
    "a = np.random.rand(10000000)\n",
    "b = np.random.rand(10000000)\n",
    "\n",
    "%timeit add_numbers(a, b)\n",
    "%timeit add_numbers_jit(a, b)\n"
   ]
  },
  {
   "cell_type": "code",
   "execution_count": null,
   "id": "bdb92710",
   "metadata": {},
   "outputs": [],
   "source": [
    "import torch"
   ]
  },
  {
   "cell_type": "code",
   "execution_count": null,
   "id": "5cb90276",
   "metadata": {},
   "outputs": [],
   "source": [
    "torch.arange(10)/100"
   ]
  },
  {
   "cell_type": "code",
   "execution_count": null,
   "id": "a4103c29",
   "metadata": {},
   "outputs": [],
   "source": [
    "l=[torch.arange(10),torch.arange(10)]"
   ]
  },
  {
   "cell_type": "code",
   "execution_count": null,
   "id": "3dc3f73b",
   "metadata": {},
   "outputs": [],
   "source": [
    "torch.sum(torch.tensor(l))"
   ]
  },
  {
   "cell_type": "code",
   "execution_count": null,
   "id": "77cdbaa5",
   "metadata": {},
   "outputs": [],
   "source": [
    "import requests\n",
    "import json\n",
    "\n",
    "# Set the search parameters\n",
    "search_term = \"obama\"   # keyword or subreddit name\n",
    "start_date = \"2020-01-01\"     # YYYY-MM-DD format\n",
    "end_date = \"2020-04-18\"       # YYYY-MM-DD format\n",
    "\n",
    "# Define the API endpoint and query parameters\n",
    "endpoint_url = \"https://api.pushshift.io/reddit/search/submission/\"\n",
    "params = {\n",
    "    \"q\": search_term,\n",
    "    \"subreddit\": search_term,\n",
    "    \"after\": start_date,\n",
    "    \"before\": end_date,\n",
    "    \"size\": 1000,   # maximum number of posts to retrieve per request\n",
    "    \"sort_type\": \"created_utc\",   # sort by creation date (oldest first)\n",
    "    \"sort\": \"asc\"   # sort in ascending order\n",
    "}\n",
    "\n",
    "# Initialize an empty list to store all the posts\n",
    "all_posts = []\n",
    "\n",
    "# Send a request to the API and retrieve the posts\n",
    "while True:\n",
    "    response = requests.get(endpoint_url, params=params)\n",
    "    if response.status_code != 200:\n",
    "        break\n",
    "    posts = json.loads(response.text)[\"data\"]\n",
    "    all_posts.extend(posts)\n",
    "    if len(posts) < 1000:\n",
    "        break\n",
    "    params[\"before\"] = posts[-1][\"created_utc\"]\n",
    "\n",
    "# Print the number of posts retrieved\n",
    "print(\"Retrieved {} posts related to '{}' between {} and {}\".format(len(all_posts), search_term, start_date, end_date))\n"
   ]
  },
  {
   "cell_type": "code",
   "execution_count": 113,
   "id": "2b0f9d5a",
   "metadata": {},
   "outputs": [],
   "source": [
    "import numpy as np\n",
    "import matplotlib.pyplot as plt\n",
    "from scipy.linalg import orthogonal_procrustes"
   ]
  },
  {
   "cell_type": "code",
   "execution_count": 147,
   "id": "d402339a",
   "metadata": {},
   "outputs": [
    {
     "data": {
      "text/plain": [
       "12.320470700176193"
      ]
     },
     "execution_count": 147,
     "metadata": {},
     "output_type": "execute_result"
    }
   ],
   "source": [
    "z1 = np.random.randn(10000,2)\n",
    "angle = 5\n",
    "theta = (angle/180.) * np.pi\n",
    "\n",
    "R = np.array([[np.cos(theta), -np.sin(theta)], \n",
    "                         [np.sin(theta),  np.cos(theta)]])\n",
    "z2 = z1@R\n",
    "d = z2-z1\n",
    "np.linalg.norm(z1-z2)"
   ]
  },
  {
   "cell_type": "code",
   "execution_count": 148,
   "id": "5b38e544",
   "metadata": {},
   "outputs": [
    {
     "data": {
      "text/plain": [
       "(array([[ 9.99999772e-01,  6.74871996e-04],\n",
       "        [-6.74871996e-04,  9.99999772e-01]]),\n",
       " 19744.673889985082)"
      ]
     },
     "execution_count": 148,
     "metadata": {},
     "output_type": "execute_result"
    }
   ],
   "source": [
    "diff = orthogonal_procrustes(z1+d1,z1-d1)\n",
    "diff"
   ]
  },
  {
   "cell_type": "code",
   "execution_count": null,
   "id": "7d646205",
   "metadata": {},
   "outputs": [],
   "source": [
    "z1 = np.random.randn(1000000)\n",
    "z2 = np.random.randn(1000000)\n",
    "z1@z2"
   ]
  },
  {
   "cell_type": "code",
   "execution_count": 183,
   "id": "8d813d3c",
   "metadata": {},
   "outputs": [
    {
     "data": {
      "text/plain": [
       "1000.0"
      ]
     },
     "execution_count": 183,
     "metadata": {},
     "output_type": "execute_result"
    }
   ],
   "source": [
    "1000000**0.5"
   ]
  },
  {
   "cell_type": "code",
   "execution_count": 149,
   "id": "b1e1dca7",
   "metadata": {},
   "outputs": [
    {
     "data": {
      "text/plain": [
       "0.9961946980917455"
      ]
     },
     "execution_count": 149,
     "metadata": {},
     "output_type": "execute_result"
    }
   ],
   "source": [
    "np.cos(theta)"
   ]
  },
  {
   "cell_type": "code",
   "execution_count": 116,
   "id": "23f943b4",
   "metadata": {},
   "outputs": [
    {
     "data": {
      "text/plain": [
       "6530.802290270527"
      ]
     },
     "execution_count": 116,
     "metadata": {},
     "output_type": "execute_result"
    }
   ],
   "source": [
    "1/np.linalg.norm(diff)"
   ]
  },
  {
   "cell_type": "code",
   "execution_count": 13,
   "id": "a5ff42b9",
   "metadata": {},
   "outputs": [],
   "source": [
    "d = np.random.randn(10000,2)/10"
   ]
  },
  {
   "cell_type": "code",
   "execution_count": 14,
   "id": "622d1496",
   "metadata": {},
   "outputs": [
    {
     "data": {
      "text/plain": [
       "14.137127704566883"
      ]
     },
     "execution_count": 14,
     "metadata": {},
     "output_type": "execute_result"
    }
   ],
   "source": [
    "np.linalg.norm(d)"
   ]
  },
  {
   "cell_type": "code",
   "execution_count": null,
   "id": "99c711a7",
   "metadata": {},
   "outputs": [],
   "source": []
  },
  {
   "cell_type": "code",
   "execution_count": null,
   "id": "0f57f652",
   "metadata": {},
   "outputs": [],
   "source": [
    "np.linalg.svd(z.transpose()@z)"
   ]
  },
  {
   "cell_type": "code",
   "execution_count": null,
   "id": "7ff72da0",
   "metadata": {},
   "outputs": [],
   "source": [
    "np.linalg.svd(z@z.transpose())[1][:5]"
   ]
  },
  {
   "cell_type": "code",
   "execution_count": 2,
   "id": "d3a8b730",
   "metadata": {},
   "outputs": [
    {
     "data": {
      "image/png": "[encoded data removed]",
      "text/plain": [
       "<Figure size 432x288 with 1 Axes>"
      ]
     },
     "metadata": {
      "needs_background": "light"
     },
     "output_type": "display_data"
    }
   ],
   "source": [
    "import matplotlib.pyplot as plt\n",
    "\n",
    "# Lists of lists containing the congressman for each year\n",
    "congressmen_years = [\n",
    "    ['Rep1', 'Dem1', 'Rep2', 'Dem2', 'Dem3'],\n",
    "    ['Dem1', 'Rep1', 'Dem2', 'Dem3', 'Rep2', 'Rep3'],\n",
    "    ['Rep1', 'Dem1', 'Dem2', 'Rep2', 'Dem3']\n",
    "]\n",
    "\n",
    "# Lists of lists containing the party affiliations for each year\n",
    "party_affiliations = [\n",
    "    ['R', 'D', 'R', 'D', 'D'],\n",
    "    ['D', 'R', 'D', 'D', 'R', 'R'],\n",
    "    ['R', 'D', 'D', 'R', 'D']\n",
    "]\n",
    "\n",
    "# Count the number of Republicans (R) and Democrats (D) for each year\n",
    "republicans = [sum(1 for party in year if party == 'R') for year in party_affiliations]\n",
    "democrats = [sum(1 for party in year if party == 'D') for year in party_affiliations]\n",
    "\n",
    "# Plotting the bar plot\n",
    "years = range(1, len(congressmen_years) + 1)\n",
    "plt.bar(years, republicans, color='red', label='Republicans')\n",
    "plt.bar(years, democrats, color='blue', label='Democrats', bottom=republicans)\n",
    "plt.xlabel('Year')\n",
    "plt.ylabel('Number of Congressmen')\n",
    "plt.title('Number of Republicans and Democrats by Year')\n",
    "plt.legend()\n",
    "plt.show()\n"
   ]
  },
  {
   "cell_type": "code",
   "execution_count": 3,
   "id": "05a8b455",
   "metadata": {},
   "outputs": [
    {
     "data": {
      "image/png": "[encoded data removed]",
      "text/plain": [
       "<Figure size 432x288 with 1 Axes>"
      ]
     },
     "metadata": {
      "needs_background": "light"
     },
     "output_type": "display_data"
    }
   ],
   "source": [
    "import numpy as np\n",
    "import matplotlib.pyplot as plt\n",
    "\n",
    "# Lists of lists containing the congressman for each year\n",
    "congressmen_years = [\n",
    "    ['Rep1', 'Dem1', 'Rep2', 'Dem2', 'Dem3'],\n",
    "    ['Dem1', 'Rep1', 'Dem2', 'Dem3', 'Rep2', 'Rep3'],\n",
    "    ['Rep1', 'Dem1', 'Dem2', 'Rep2', 'Dem3']\n",
    "]\n",
    "\n",
    "# Lists of lists containing the party affiliations for each year\n",
    "party_affiliations = [\n",
    "    ['R', 'D', 'R', 'D', 'D'],\n",
    "    ['D', 'R', 'D', 'D', 'R', 'R'],\n",
    "    ['R', 'D', 'D', 'R', 'D']\n",
    "]\n",
    "\n",
    "# Count the number of Republicans (R) and Democrats (D) for each year\n",
    "republicans = [sum(1 for party in year if party == 'R') for year in party_affiliations]\n",
    "democrats = [sum(1 for party in year if party == 'D') for year in party_affiliations]\n",
    "\n",
    "# Calculate the positions for the bars\n",
    "years = np.arange(len(congressmen_years))\n",
    "bar_width = 0.35\n",
    "\n",
    "# Plotting the bar plot\n",
    "plt.bar(years, republicans, bar_width, color='red', label='Republicans')\n",
    "plt.bar(years + bar_width, democrats, bar_width, color='blue', label='Democrats')\n",
    "\n",
    "# Configure the plot\n",
    "plt.xlabel('Year')\n",
    "plt.ylabel('Number of Congressmen')\n",
    "plt.title('Number of Republicans and Democrats by Year')\n",
    "plt.xticks(years + bar_width / 2, years + 1)\n",
    "plt.legend()\n",
    "\n",
    "plt.tight_layout()\n",
    "plt.show()\n"
   ]
  },
  {
   "cell_type": "code",
   "execution_count": 4,
   "id": "acbae353",
   "metadata": {},
   "outputs": [
    {
     "data": {
      "image/png": "[encoded data removed]",
      "text/plain": [
       "<Figure size 432x288 with 1 Axes>"
      ]
     },
     "metadata": {
      "needs_background": "light"
     },
     "output_type": "display_data"
    }
   ],
   "source": [
    "import numpy as np\n",
    "import matplotlib.pyplot as plt\n",
    "\n",
    "# Lists of lists containing the congressman for each year\n",
    "congressmen_years = [\n",
    "    ['Rep1', 'Dem1', 'Rep2', 'Dem2', 'Dem3'],\n",
    "    ['Dem1', 'Rep1', 'Dem2', 'Dem3', 'Rep2', 'Rep3'],\n",
    "    ['Rep1', 'Dem1', 'Dem2', 'Rep2', 'Dem3', 'Rep4']\n",
    "]\n",
    "\n",
    "# Lists of lists containing the party affiliations for each year\n",
    "party_affiliations = [\n",
    "    ['R', 'D', 'R', 'D', 'D'],\n",
    "    ['D', 'R', 'D', 'D', 'R', 'R'],\n",
    "    ['R', 'D', 'D', 'R', 'D', 'R']\n",
    "]\n",
    "\n",
    "# Count the number of Republicans (R) and Democrats (D) for each year\n",
    "republicans = [sum(1 for party in year if party == 'R') for year in party_affiliations]\n",
    "democrats = [sum(1 for party in year if party == 'D') for year in party_affiliations]\n",
    "\n",
    "# Calculate the positions for the bars\n",
    "years = np.arange(len(congressmen_years))\n",
    "bar_width = 0.35\n",
    "\n",
    "# Initialize the color list\n",
    "colors = ['blue' if i == 0 else 'lightblue' for i in range(len(congressmen_years))]\n",
    "\n",
    "# Plotting the bar plot\n",
    "plt.bar(years, republicans, bar_width, color='red', label='Republicans')\n",
    "plt.bar(years, democrats, bar_width, color=colors, label='Democrats', bottom=republicans)\n",
    "\n",
    "# Configure the plot\n",
    "plt.xlabel('Year')\n",
    "plt.ylabel('Number of Congressmen')\n",
    "plt.title('Number of Republicans and Democrats by Year')\n",
    "plt.xticks(years, years + 1)\n",
    "plt.legend()\n",
    "\n",
    "plt.tight_layout()\n",
    "plt.show()\n"
   ]
  },
  {
   "cell_type": "code",
   "execution_count": 5,
   "id": "16ef1f75",
   "metadata": {},
   "outputs": [
    {
     "data": {
      "image/png": "[encoded data removed]",
      "text/plain": [
       "<Figure size 432x288 with 1 Axes>"
      ]
     },
     "metadata": {
      "needs_background": "light"
     },
     "output_type": "display_data"
    }
   ],
   "source": [
    "import matplotlib.pyplot as plt\n",
    "import numpy as np\n",
    "\n",
    "# Sample data for four years\n",
    "relected_repubclians = [10, 8, 12, 15]\n",
    "relected_dems = [8, 9, 11, 13]\n",
    "newly_elected_dems = [3, 4, 5, 2]\n",
    "newly_elected_rebpulicans = [2, 3, 4, 6]\n",
    "\n",
    "years = ['Year 1', 'Year 2', 'Year 3', 'Year 4']\n",
    "total_dems = np.add(relected_dems, newly_elected_dems)\n",
    "total_repubs = np.add(relected_repubclians, newly_elected_rebpulicans)\n",
    "\n",
    "# Bar width\n",
    "bar_width = 0.35\n",
    "\n",
    "# Create the bar plot\n",
    "fig, ax = plt.subplots()\n",
    "ax.bar(years, total_dems, bar_width, label='Democrats', color='blue')\n",
    "ax.bar(years, total_repubs, bar_width, label='Republicans', color='red', bottom=total_dems)\n",
    "ax.bar(years, newly_elected_dems, bar_width, label='Newly Elected Democrats', color='lightblue', hatch='//', edgecolor='black')\n",
    "ax.bar(years, newly_elected_rebpulicans, bar_width, label='Newly Elected Republicans', color='lightsalmon', hatch='\\\\\\\\', edgecolor='black')\n",
    "\n",
    "# Set labels and title\n",
    "ax.set_xlabel('Year')\n",
    "ax.set_ylabel('Number of Representatives')\n",
    "ax.set_title('Representation by Party and Year')\n",
    "ax.legend()\n",
    "\n",
    "# Show the plot\n",
    "plt.show()\n"
   ]
  },
  {
   "cell_type": "code",
   "execution_count": 6,
   "id": "dea39d64",
   "metadata": {},
   "outputs": [
    {
     "data": {
      "image/png": "[encoded data removed]",
      "text/plain": [
       "<Figure size 432x288 with 1 Axes>"
      ]
     },
     "metadata": {
      "needs_background": "light"
     },
     "output_type": "display_data"
    }
   ],
   "source": [
    "import matplotlib.pyplot as plt\n",
    "import numpy as np\n",
    "\n",
    "# Sample data for four years\n",
    "reelected_republicans = [10, 8, 12, 15]\n",
    "reelected_dems = [8, 9, 11, 13]\n",
    "newly_elected_dems = [3, 4, 5, 2]\n",
    "newly_elected_republicans = [2, 3, 4, 6]\n",
    "\n",
    "years = ['Year 1', 'Year 2', 'Year 3', 'Year 4']\n",
    "\n",
    "# Calculate the total number of representatives for each category\n",
    "total_dems = np.add(reelected_dems, newly_elected_dems)\n",
    "total_republicans = np.add(reelected_republicans, newly_elected_republicans)\n",
    "\n",
    "# Bar width\n",
    "bar_width = 0.35\n",
    "\n",
    "# Create the bar plot\n",
    "fig, ax = plt.subplots()\n",
    "ax.bar(years, newly_elected_dems, bar_width, label='Newly Elected Democrats', color='lightblue', hatch='//', edgecolor='black')\n",
    "ax.bar(years, newly_elected_republicans, bar_width, label='Newly Elected Republicans', color='lightsalmon', hatch='\\\\\\\\', edgecolor='black')\n",
    "ax.bar(years, reelected_dems, bar_width, label='Reelected Democrats', color='blue', bottom=newly_elected_dems)\n",
    "ax.bar(years, reelected_republicans, bar_width, label='Reelected Republicans', color='red', bottom=newly_elected_republicans)\n",
    "\n",
    "# Set labels and title\n",
    "ax.set_xlabel('Year')\n",
    "ax.set_ylabel('Number of Representatives')\n",
    "ax.set_title('Representation by Party and Year')\n",
    "ax.legend()\n",
    "\n",
    "# Show the plot\n",
    "plt.show()\n"
   ]
  },
  {
   "cell_type": "code",
   "execution_count": 8,
   "id": "52b4b2be",
   "metadata": {},
   "outputs": [
    {
     "ename": "ValueError",
     "evalue": "shape mismatch: objects cannot be broadcast to a single shape",
     "output_type": "error",
     "traceback": [
      "\u001b[0;31m---------------------------------------------------------------------------\u001b[0m",
      "\u001b[0;31mValueError\u001b[0m                                Traceback (most recent call last)",
      "\u001b[0;32m<ipython-input-8-fa9cc4e2255f>\u001b[0m in \u001b[0;36m<module>\u001b[0;34m\u001b[0m\n\u001b[1;32m      8\u001b[0m \u001b[0mbar_width\u001b[0m \u001b[0;34m=\u001b[0m \u001b[0;36m0.35\u001b[0m\u001b[0;34m\u001b[0m\u001b[0;34m\u001b[0m\u001b[0m\n\u001b[1;32m      9\u001b[0m \u001b[0;31m# Plotting the bar plot\u001b[0m\u001b[0;34m\u001b[0m\u001b[0;34m\u001b[0m\u001b[0;34m\u001b[0m\u001b[0m\n\u001b[0;32m---> 10\u001b[0;31m \u001b[0mplt\u001b[0m\u001b[0;34m.\u001b[0m\u001b[0mbar\u001b[0m\u001b[0;34m(\u001b[0m\u001b[0myears\u001b[0m\u001b[0;34m,\u001b[0m \u001b[0mrepublicans\u001b[0m\u001b[0;34m,\u001b[0m \u001b[0mbar_width\u001b[0m\u001b[0;34m,\u001b[0m \u001b[0mcolor\u001b[0m\u001b[0;34m=\u001b[0m\u001b[0;34m'red'\u001b[0m\u001b[0;34m,\u001b[0m \u001b[0mlabel\u001b[0m\u001b[0;34m=\u001b[0m\u001b[0;34m'Republicans'\u001b[0m\u001b[0;34m)\u001b[0m\u001b[0;34m\u001b[0m\u001b[0;34m\u001b[0m\u001b[0m\n\u001b[0m\u001b[1;32m     11\u001b[0m \u001b[0mplt\u001b[0m\u001b[0;34m.\u001b[0m\u001b[0mbar\u001b[0m\u001b[0;34m(\u001b[0m\u001b[0myears\u001b[0m \u001b[0;34m+\u001b[0m \u001b[0mbar_width\u001b[0m\u001b[0;34m,\u001b[0m \u001b[0mdemocrats\u001b[0m\u001b[0;34m,\u001b[0m \u001b[0mbar_width\u001b[0m\u001b[0;34m,\u001b[0m \u001b[0mcolor\u001b[0m\u001b[0;34m=\u001b[0m\u001b[0;34m'blue'\u001b[0m\u001b[0;34m,\u001b[0m \u001b[0mlabel\u001b[0m\u001b[0;34m=\u001b[0m\u001b[0;34m'Democrats'\u001b[0m\u001b[0;34m)\u001b[0m\u001b[0;34m\u001b[0m\u001b[0;34m\u001b[0m\u001b[0m\n\u001b[1;32m     12\u001b[0m \u001b[0;34m\u001b[0m\u001b[0m\n",
      "\u001b[0;32m/share/pkg.7/python3/3.8.10/install/lib/python3.8/site-packages/matplotlib/pyplot.py\u001b[0m in \u001b[0;36mbar\u001b[0;34m(x, height, width, bottom, align, data, **kwargs)\u001b[0m\n\u001b[1;32m   2618\u001b[0m         \u001b[0mx\u001b[0m\u001b[0;34m,\u001b[0m \u001b[0mheight\u001b[0m\u001b[0;34m,\u001b[0m \u001b[0mwidth\u001b[0m\u001b[0;34m=\u001b[0m\u001b[0;36m0.8\u001b[0m\u001b[0;34m,\u001b[0m \u001b[0mbottom\u001b[0m\u001b[0;34m=\u001b[0m\u001b[0;32mNone\u001b[0m\u001b[0;34m,\u001b[0m \u001b[0;34m*\u001b[0m\u001b[0;34m,\u001b[0m \u001b[0malign\u001b[0m\u001b[0;34m=\u001b[0m\u001b[0;34m'center'\u001b[0m\u001b[0;34m,\u001b[0m\u001b[0;34m\u001b[0m\u001b[0;34m\u001b[0m\u001b[0m\n\u001b[1;32m   2619\u001b[0m         data=None, **kwargs):\n\u001b[0;32m-> 2620\u001b[0;31m     return gca().bar(\n\u001b[0m\u001b[1;32m   2621\u001b[0m         \u001b[0mx\u001b[0m\u001b[0;34m,\u001b[0m \u001b[0mheight\u001b[0m\u001b[0;34m,\u001b[0m \u001b[0mwidth\u001b[0m\u001b[0;34m=\u001b[0m\u001b[0mwidth\u001b[0m\u001b[0;34m,\u001b[0m \u001b[0mbottom\u001b[0m\u001b[0;34m=\u001b[0m\u001b[0mbottom\u001b[0m\u001b[0;34m,\u001b[0m \u001b[0malign\u001b[0m\u001b[0;34m=\u001b[0m\u001b[0malign\u001b[0m\u001b[0;34m,\u001b[0m\u001b[0;34m\u001b[0m\u001b[0;34m\u001b[0m\u001b[0m\n\u001b[1;32m   2622\u001b[0m         **({\"data\": data} if data is not None else {}), **kwargs)\n",
      "\u001b[0;32m/share/pkg.7/python3/3.8.10/install/lib/python3.8/site-packages/matplotlib/__init__.py\u001b[0m in \u001b[0;36minner\u001b[0;34m(ax, data, *args, **kwargs)\u001b[0m\n\u001b[1;32m   1350\u001b[0m     \u001b[0;32mdef\u001b[0m \u001b[0minner\u001b[0m\u001b[0;34m(\u001b[0m\u001b[0max\u001b[0m\u001b[0;34m,\u001b[0m \u001b[0;34m*\u001b[0m\u001b[0margs\u001b[0m\u001b[0;34m,\u001b[0m \u001b[0mdata\u001b[0m\u001b[0;34m=\u001b[0m\u001b[0;32mNone\u001b[0m\u001b[0;34m,\u001b[0m \u001b[0;34m**\u001b[0m\u001b[0mkwargs\u001b[0m\u001b[0;34m)\u001b[0m\u001b[0;34m:\u001b[0m\u001b[0;34m\u001b[0m\u001b[0;34m\u001b[0m\u001b[0m\n\u001b[1;32m   1351\u001b[0m         \u001b[0;32mif\u001b[0m \u001b[0mdata\u001b[0m \u001b[0;32mis\u001b[0m \u001b[0;32mNone\u001b[0m\u001b[0;34m:\u001b[0m\u001b[0;34m\u001b[0m\u001b[0;34m\u001b[0m\u001b[0m\n\u001b[0;32m-> 1352\u001b[0;31m             \u001b[0;32mreturn\u001b[0m \u001b[0mfunc\u001b[0m\u001b[0;34m(\u001b[0m\u001b[0max\u001b[0m\u001b[0;34m,\u001b[0m \u001b[0;34m*\u001b[0m\u001b[0mmap\u001b[0m\u001b[0;34m(\u001b[0m\u001b[0msanitize_sequence\u001b[0m\u001b[0;34m,\u001b[0m \u001b[0margs\u001b[0m\u001b[0;34m)\u001b[0m\u001b[0;34m,\u001b[0m \u001b[0;34m**\u001b[0m\u001b[0mkwargs\u001b[0m\u001b[0;34m)\u001b[0m\u001b[0;34m\u001b[0m\u001b[0;34m\u001b[0m\u001b[0m\n\u001b[0m\u001b[1;32m   1353\u001b[0m \u001b[0;34m\u001b[0m\u001b[0m\n\u001b[1;32m   1354\u001b[0m         \u001b[0mbound\u001b[0m \u001b[0;34m=\u001b[0m \u001b[0mnew_sig\u001b[0m\u001b[0;34m.\u001b[0m\u001b[0mbind\u001b[0m\u001b[0;34m(\u001b[0m\u001b[0max\u001b[0m\u001b[0;34m,\u001b[0m \u001b[0;34m*\u001b[0m\u001b[0margs\u001b[0m\u001b[0;34m,\u001b[0m \u001b[0;34m**\u001b[0m\u001b[0mkwargs\u001b[0m\u001b[0;34m)\u001b[0m\u001b[0;34m\u001b[0m\u001b[0;34m\u001b[0m\u001b[0m\n",
      "\u001b[0;32m/share/pkg.7/python3/3.8.10/install/lib/python3.8/site-packages/matplotlib/axes/_axes.py\u001b[0m in \u001b[0;36mbar\u001b[0;34m(self, x, height, width, bottom, align, **kwargs)\u001b[0m\n\u001b[1;32m   2302\u001b[0m                 \u001b[0myerr\u001b[0m \u001b[0;34m=\u001b[0m \u001b[0mself\u001b[0m\u001b[0;34m.\u001b[0m\u001b[0m_convert_dx\u001b[0m\u001b[0;34m(\u001b[0m\u001b[0myerr\u001b[0m\u001b[0;34m,\u001b[0m \u001b[0my0\u001b[0m\u001b[0;34m,\u001b[0m \u001b[0my\u001b[0m\u001b[0;34m,\u001b[0m \u001b[0mself\u001b[0m\u001b[0;34m.\u001b[0m\u001b[0mconvert_yunits\u001b[0m\u001b[0;34m)\u001b[0m\u001b[0;34m\u001b[0m\u001b[0;34m\u001b[0m\u001b[0m\n\u001b[1;32m   2303\u001b[0m \u001b[0;34m\u001b[0m\u001b[0m\n\u001b[0;32m-> 2304\u001b[0;31m         x, height, width, y, linewidth, hatch = np.broadcast_arrays(\n\u001b[0m\u001b[1;32m   2305\u001b[0m             \u001b[0;31m# Make args iterable too.\u001b[0m\u001b[0;34m\u001b[0m\u001b[0;34m\u001b[0m\u001b[0;34m\u001b[0m\u001b[0m\n\u001b[1;32m   2306\u001b[0m             np.atleast_1d(x), height, width, y, linewidth, hatch)\n",
      "\u001b[0;32m<__array_function__ internals>\u001b[0m in \u001b[0;36mbroadcast_arrays\u001b[0;34m(*args, **kwargs)\u001b[0m\n",
      "\u001b[0;32m/share/pkg.7/python3/3.8.10/install/lib/python3.8/site-packages/numpy-1.19.5-py3.8-linux-x86_64.egg/numpy/lib/stride_tricks.py\u001b[0m in \u001b[0;36mbroadcast_arrays\u001b[0;34m(subok, *args)\u001b[0m\n\u001b[1;32m    256\u001b[0m     \u001b[0margs\u001b[0m \u001b[0;34m=\u001b[0m \u001b[0;34m[\u001b[0m\u001b[0mnp\u001b[0m\u001b[0;34m.\u001b[0m\u001b[0marray\u001b[0m\u001b[0;34m(\u001b[0m\u001b[0m_m\u001b[0m\u001b[0;34m,\u001b[0m \u001b[0mcopy\u001b[0m\u001b[0;34m=\u001b[0m\u001b[0;32mFalse\u001b[0m\u001b[0;34m,\u001b[0m \u001b[0msubok\u001b[0m\u001b[0;34m=\u001b[0m\u001b[0msubok\u001b[0m\u001b[0;34m)\u001b[0m \u001b[0;32mfor\u001b[0m \u001b[0m_m\u001b[0m \u001b[0;32min\u001b[0m \u001b[0margs\u001b[0m\u001b[0;34m]\u001b[0m\u001b[0;34m\u001b[0m\u001b[0;34m\u001b[0m\u001b[0m\n\u001b[1;32m    257\u001b[0m \u001b[0;34m\u001b[0m\u001b[0m\n\u001b[0;32m--> 258\u001b[0;31m     \u001b[0mshape\u001b[0m \u001b[0;34m=\u001b[0m \u001b[0m_broadcast_shape\u001b[0m\u001b[0;34m(\u001b[0m\u001b[0;34m*\u001b[0m\u001b[0margs\u001b[0m\u001b[0;34m)\u001b[0m\u001b[0;34m\u001b[0m\u001b[0;34m\u001b[0m\u001b[0m\n\u001b[0m\u001b[1;32m    259\u001b[0m \u001b[0;34m\u001b[0m\u001b[0m\n\u001b[1;32m    260\u001b[0m     \u001b[0;32mif\u001b[0m \u001b[0mall\u001b[0m\u001b[0;34m(\u001b[0m\u001b[0marray\u001b[0m\u001b[0;34m.\u001b[0m\u001b[0mshape\u001b[0m \u001b[0;34m==\u001b[0m \u001b[0mshape\u001b[0m \u001b[0;32mfor\u001b[0m \u001b[0marray\u001b[0m \u001b[0;32min\u001b[0m \u001b[0margs\u001b[0m\u001b[0;34m)\u001b[0m\u001b[0;34m:\u001b[0m\u001b[0;34m\u001b[0m\u001b[0;34m\u001b[0m\u001b[0m\n",
      "\u001b[0;32m/share/pkg.7/python3/3.8.10/install/lib/python3.8/site-packages/numpy-1.19.5-py3.8-linux-x86_64.egg/numpy/lib/stride_tricks.py\u001b[0m in \u001b[0;36m_broadcast_shape\u001b[0;34m(*args)\u001b[0m\n\u001b[1;32m    187\u001b[0m     \u001b[0;31m# use the old-iterator because np.nditer does not handle size 0 arrays\u001b[0m\u001b[0;34m\u001b[0m\u001b[0;34m\u001b[0m\u001b[0;34m\u001b[0m\u001b[0m\n\u001b[1;32m    188\u001b[0m     \u001b[0;31m# consistently\u001b[0m\u001b[0;34m\u001b[0m\u001b[0;34m\u001b[0m\u001b[0;34m\u001b[0m\u001b[0m\n\u001b[0;32m--> 189\u001b[0;31m     \u001b[0mb\u001b[0m \u001b[0;34m=\u001b[0m \u001b[0mnp\u001b[0m\u001b[0;34m.\u001b[0m\u001b[0mbroadcast\u001b[0m\u001b[0;34m(\u001b[0m\u001b[0;34m*\u001b[0m\u001b[0margs\u001b[0m\u001b[0;34m[\u001b[0m\u001b[0;34m:\u001b[0m\u001b[0;36m32\u001b[0m\u001b[0;34m]\u001b[0m\u001b[0;34m)\u001b[0m\u001b[0;34m\u001b[0m\u001b[0;34m\u001b[0m\u001b[0m\n\u001b[0m\u001b[1;32m    190\u001b[0m     \u001b[0;31m# unfortunately, it cannot handle 32 or more arguments directly\u001b[0m\u001b[0;34m\u001b[0m\u001b[0;34m\u001b[0m\u001b[0;34m\u001b[0m\u001b[0m\n\u001b[1;32m    191\u001b[0m     \u001b[0;32mfor\u001b[0m \u001b[0mpos\u001b[0m \u001b[0;32min\u001b[0m \u001b[0mrange\u001b[0m\u001b[0;34m(\u001b[0m\u001b[0;36m32\u001b[0m\u001b[0;34m,\u001b[0m \u001b[0mlen\u001b[0m\u001b[0;34m(\u001b[0m\u001b[0margs\u001b[0m\u001b[0;34m)\u001b[0m\u001b[0;34m,\u001b[0m \u001b[0;36m31\u001b[0m\u001b[0;34m)\u001b[0m\u001b[0;34m:\u001b[0m\u001b[0;34m\u001b[0m\u001b[0;34m\u001b[0m\u001b[0m\n",
      "\u001b[0;31mValueError\u001b[0m: shape mismatch: objects cannot be broadcast to a single shape"
     ]
    },
    {
     "data": {
      "image/png": "[encoded data removed]",
      "text/plain": [
       "<Figure size 432x288 with 1 Axes>"
      ]
     },
     "metadata": {
      "needs_background": "light"
     },
     "output_type": "display_data"
    }
   ],
   "source": [
    "repubclians = [10, 8, 12, 15]\n",
    "democrats = [8, 9, 11, 13]\n",
    "newly_elected_dems = [3, 4, 5, 2]\n",
    "newly_elected_rebpulicans = [2, 3, 4, 6]\n",
    "\n",
    "years = np.arange(4)\n",
    "bar_width = 0.35\n",
    "# Plotting the bar plot\n",
    "plt.bar(years, republicans, bar_width, color='red', label='Republicans')\n",
    "plt.bar(years + bar_width, democrats, bar_width, color='blue', label='Democrats')\n",
    "\n",
    "# Configure the plot\n",
    "plt.xlabel('Year')\n",
    "plt.ylabel('Number of Congressmen')\n",
    "plt.title('Number of Republicans and Democrats by Year')\n",
    "plt.xticks(years + bar_width / 2, years + 1)\n",
    "plt.legend()\n",
    "\n",
    "plt.tight_layout()\n",
    "plt.show()\n"
   ]
  },
  {
   "cell_type": "code",
   "execution_count": 1,
   "id": "0aa96996",
   "metadata": {},
   "outputs": [
    {
     "data": {
      "image/png": "[encoded data removed]",
      "text/plain": [
       "<Figure size 432x288 with 1 Axes>"
      ]
     },
     "metadata": {
      "needs_background": "light"
     },
     "output_type": "display_data"
    }
   ],
   "source": [
    "import numpy as np\n",
    "import matplotlib.pyplot as plt\n",
    "republicans = [162, 231, 225, 259, 250, 297, 285, 309, 287, 315, 256]\n",
    "democrats = [191, 200, 196, 232, 225, 239, 226, 252, 245, 301, 283]\n",
    "new_r = [0,69, 1, 36, 4, 47, 2, 26, 6, 35, 0]\n",
    "new_dem = [0,10, 4, 38, 2, 14, 1, 27, 5, 58, 0]\n",
    "# Calculate the positions for the bars\n",
    "years = np.arange(11)+2009\n",
    "bar_width = 0.35\n",
    "republicans = np.array(republicans)\n",
    "democrats = np.array(democrats)\n",
    "new_r = np.array(new_r)\n",
    "new_dem = np.array(new_dem)\n",
    "\n",
    "# Plotting the bar plot\n",
    "plt.bar(years, republicans-new_r, bar_width, color='red', label='Sitting Republicans')\n",
    "plt.bar(years + bar_width, democrats-new_dem, bar_width, color='blue', label='Sitting Democrats')\n",
    "plt.bar(years, new_r, bar_width ,color='lightsalmon', hatch='//', label='Newly Joined Republicans', bottom=republicans-new_r)\n",
    "plt.bar(years + bar_width, new_dem, bar_width ,color='lightblue', hatch='\\\\\\\\', label='Newly Joined Democrats', bottom=democrats-new_dem)\n",
    "\n",
    "\n",
    "\n",
    "# Configure the plot\n",
    "plt.xlabel('Year')\n",
    "plt.ylabel('Number of Congressmen')\n",
    "plt.title('Number of Republicans and Democrats by Year in the Twitter Data Set')\n",
    "plt.xticks(years + bar_width / 2, years + 1)\n",
    "plt.legend()\n",
    "plt.legend(loc='upper left', bbox_to_anchor=(1, 1))\n",
    "plt.tight_layout()\n",
    "# plt.tight_layout()\n",
    "plt.show()\n"
   ]
  },
  {
   "cell_type": "code",
   "execution_count": 11,
   "id": "0e228a14",
   "metadata": {},
   "outputs": [
    {
     "data": {
      "image/png": "[encoded data removed]",
      "text/plain": [
       "<Figure size 432x288 with 1 Axes>"
      ]
     },
     "metadata": {
      "needs_background": "light"
     },
     "output_type": "display_data"
    }
   ],
   "source": [
    "import matplotlib.pyplot as plt\n",
    "\n",
    "# Sample lists\n",
    "D = [0.01144, 0.05532, 0.08584, 0.10556, 0.14852, 0.17408, 0.31908, 0.47364, 0.53616, 0.62736, 0.71916]\n",
    "R = [0.02704, 0.13564, 0.2008, 0.2968, 0.39072, 0.49768, 0.4984, 0.36124, 0.33548, 0.21724, 0.23852]\n",
    "B = [0.01364, 0.07584, 0.118, 0.14844, 0.19036, 0.20674, 0.26956, 0.24202, 0.21982, 0.20336, 0.23102]\n",
    "T = [0.01644, 0.08567, 0.13067, 0.17481, 0.22999, 0.27131, 0.33915, 0.32973, 0.32782, 0.31282, 0.35493]\n",
    "\n",
    "# Plotting the line plot\n",
    "plt.plot(years,D, color='blue', linestyle='solid', label='Among Democrats')\n",
    "plt.plot(years,R, color='red', linestyle='solid', label='Among Republicans')\n",
    "plt.plot(years,B, color='green', linestyle='solid', label='Bewteen Two Parties')\n",
    "plt.plot(years,T, color='black', linestyle='solid', label='Among all members')\n",
    "\n",
    "\n",
    "# Adding labels and title\n",
    "plt.xlabel('Year')\n",
    "plt.ylabel('Density')\n",
    "plt.title('Edge Densities of Twitter Congressional Hashtag Networks')\n",
    "\n",
    "# Adding legend\n",
    "\n",
    "plt.legend()\n",
    "\n",
    "# Displaying the plot\n",
    "plt.show()\n"
   ]
  },
  {
   "cell_type": "code",
   "execution_count": 1,
   "id": "e64a511d",
   "metadata": {},
   "outputs": [
    {
     "data": {
      "text/plain": [
       "[4, 4, 4, 4, 4]"
      ]
     },
     "execution_count": 1,
     "metadata": {},
     "output_type": "execute_result"
    }
   ],
   "source": [
    "[4]*5"
   ]
  },
  {
   "cell_type": "code",
   "execution_count": 168,
   "id": "08326a5a",
   "metadata": {},
   "outputs": [
    {
     "data": {
      "text/plain": [
       "array([[103.05824675]])"
      ]
     },
     "execution_count": 168,
     "metadata": {},
     "output_type": "execute_result"
    }
   ],
   "source": [
    "import numpy as np\n",
    "size = 10000\n",
    "a = np.random.randn(size,1)\n",
    "b = np.random.randn(1,size)\n",
    "b@a"
   ]
  },
  {
   "cell_type": "code",
   "execution_count": 169,
   "id": "4d3a4505",
   "metadata": {},
   "outputs": [
    {
     "data": {
      "text/plain": [
       "99.7989560534809"
      ]
     },
     "execution_count": 169,
     "metadata": {},
     "output_type": "execute_result"
    }
   ],
   "source": [
    "np.linalg.norm(a)"
   ]
  },
  {
   "cell_type": "code",
   "execution_count": 152,
   "id": "4005a58d",
   "metadata": {},
   "outputs": [
    {
     "name": "stdout",
     "output_type": "stream",
     "text": [
      "10000.0\n"
     ]
    }
   ],
   "source": [
    "print(size**0.5)"
   ]
  },
  {
   "cell_type": "code",
   "execution_count": null,
   "id": "d3668504",
   "metadata": {},
   "outputs": [],
   "source": []
  }
 ],
 "metadata": {
  "kernelspec": {
   "display_name": "Python 3",
   "language": "python",
   "name": "python3"
  },
  "language_info": {
   "codemirror_mode": {
    "name": "ipython",
    "version": 3
   },
   "file_extension": ".py",
   "mimetype": "text/x-python",
   "name": "python",
   "nbconvert_exporter": "python",
   "pygments_lexer": "ipython3",
   "version": "3.8.10"
  }
 },
 "nbformat": 4,
 "nbformat_minor": 5
}
