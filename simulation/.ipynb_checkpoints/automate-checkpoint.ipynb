{
 "cells": [
  {
   "cell_type": "code",
   "execution_count": 1,
   "id": "566e5de2",
   "metadata": {},
   "outputs": [],
   "source": [
    "from utils import simulate_clsna, preprocess, ClsnaModel\n",
    "import numpy as np\n",
    "import torch\n",
    "from scipy.linalg import orthogonal_procrustes"
   ]
  },
  {
   "cell_type": "code",
   "execution_count": 2,
   "id": "175c7ad5",
   "metadata": {},
   "outputs": [],
   "source": [
    "device = 'cuda' if torch.cuda.is_available() else 'cpu'\n",
    "device = \"cpu\""
   ]
  },
  {
   "cell_type": "code",
   "execution_count": 3,
   "id": "494c4f88",
   "metadata": {},
   "outputs": [],
   "source": [
    "N = 100\n",
    "DIM = 2\n",
    "T = 10\n",
    "SIGMA = 1\n",
    "TAU = 1\n",
    "ALPHA = 1\n",
    "DELTA = 2\n",
    "GAMMAW = 0.25\n",
    "GAMMAB = 0.5"
   ]
  },
  {
   "cell_type": "code",
   "execution_count": 4,
   "id": "c3a7516b",
   "metadata": {},
   "outputs": [],
   "source": [
    "z,y,Aw,Ab=simulate_clsna(N=N,d=DIM,T=T,alpha=ALPHA,delta=DELTA,sigma=SIGMA, tau=TAU, gammaw=GAMMAW, gammab=GAMMAB)"
   ]
  },
  {
   "cell_type": "code",
   "execution_count": 5,
   "id": "65101039",
   "metadata": {},
   "outputs": [],
   "source": [
    "z = np.concatenate(z)\n",
    "label, persist, Aw, Ab, combination_N=preprocess(y, Aw, Ab, N, T)"
   ]
  },
  {
   "cell_type": "code",
   "execution_count": 6,
   "id": "5e241c03",
   "metadata": {},
   "outputs": [],
   "source": [
    "_s = torch.arange(0,N*(T-1), requires_grad = False)\n",
    "ar_pair = torch.stack((_s,_s+N), dim = 1)"
   ]
  },
  {
   "cell_type": "code",
   "execution_count": 7,
   "id": "015ffc11",
   "metadata": {},
   "outputs": [],
   "source": [
    "combination_N = combination_N.to(device)\n",
    "label = label.to(device)\n",
    "persist = persist.to(device)"
   ]
  },
  {
   "cell_type": "code",
   "execution_count": 8,
   "id": "980321f6",
   "metadata": {},
   "outputs": [],
   "source": [
    "LR = 2e-3\n",
    "MOM = 0.99\n",
    "LR_P = 1e-2"
   ]
  },
  {
   "cell_type": "code",
   "execution_count": 9,
   "id": "4ab39c51",
   "metadata": {},
   "outputs": [],
   "source": [
    "def train(optimizer, index=None, fixed=None):\n",
    "    t_index=torch.arange(start=0,end=N*T,device=device,requires_grad=False)\n",
    "    optimizer.zero_grad()\n",
    "    loss = model.loss(device=device,label=label,persist=persist,sample_edge=combination_N,T_index=t_index,ss=SIGMA,tt=TAU)\n",
    "    loss.backward()\n",
    "    model.para.grad = 0.1*((model.para.grad>0).bool().float()-0.5)\n",
    "    optimizer.step()\n",
    "    if index is not None:\n",
    "        with torch.no_grad():\n",
    "            model.para[index[0],index[1]] = fixed\n",
    "    return loss.item()"
   ]
  },
  {
   "cell_type": "code",
   "execution_count": 10,
   "id": "61326b19",
   "metadata": {},
   "outputs": [],
   "source": [
    "def run(optimizer,index=None,fixed=None):\n",
    "    for epoch in range(1,3000):\n",
    "        loss = train(optimizer=optimizer,index=index,fixed=fixed)\n",
    "    return loss"
   ]
  },
  {
   "cell_type": "markdown",
   "id": "9a13263b",
   "metadata": {},
   "source": [
    "# Step 1"
   ]
  },
  {
   "cell_type": "code",
   "execution_count": 11,
   "id": "44b4d331",
   "metadata": {},
   "outputs": [],
   "source": [
    "model = ClsnaModel(device,N,T,ar_pair,Aw,Ab,D=3).to(device)"
   ]
  },
  {
   "cell_type": "code",
   "execution_count": 12,
   "id": "e9d5ccff",
   "metadata": {},
   "outputs": [],
   "source": [
    "optimizer = torch.optim.SGD([\n",
    "    {'params': model.z, \"momentum\": MOM, \"lr\": LR*4},\n",
    "    {'params': model.para, \"momentum\": 0.0, \"lr\":LR_P}\n",
    "    ])"
   ]
  },
  {
   "cell_type": "code",
   "execution_count": 13,
   "id": "d72a8710",
   "metadata": {
    "scrolled": true
   },
   "outputs": [
    {
     "data": {
      "text/plain": [
       "28556.388548057832"
      ]
     },
     "execution_count": 13,
     "metadata": {},
     "output_type": "execute_result"
    }
   ],
   "source": [
    "run(optimizer)"
   ]
  },
  {
   "cell_type": "code",
   "execution_count": 14,
   "id": "21132c54",
   "metadata": {},
   "outputs": [],
   "source": [
    "PCA_p = torch.pca_lowrank(model.z.cpu())[2][:,[0,1]]\n",
    "init_z = (model.z.cpu().detach()@PCA_p).detach().numpy()\n",
    "init_para = model.para.detach().cpu().numpy()"
   ]
  },
  {
   "cell_type": "markdown",
   "id": "f850cd2b",
   "metadata": {},
   "source": [
    "# Step 2"
   ]
  },
  {
   "cell_type": "code",
   "execution_count": 15,
   "id": "be3ecde3",
   "metadata": {},
   "outputs": [],
   "source": [
    "model = ClsnaModel(device,N,T,ar_pair,Aw,Ab,D=2).to(device)\n",
    "with torch.no_grad():       \n",
    "    model.z[:,:] = torch.from_numpy(init_z).to(device)\n",
    "    model.para[:,:] = torch.from_numpy(init_para).to(device)"
   ]
  },
  {
   "cell_type": "code",
   "execution_count": 16,
   "id": "aa116ef2",
   "metadata": {},
   "outputs": [],
   "source": [
    "optimizer = torch.optim.SGD([\n",
    "    {'params': model.z, \"momentum\": MOM, \"lr\": LR/4},\n",
    "    {'params': model.para, \"momentum\": 0.0, \"lr\":LR_P}\n",
    "    ])"
   ]
  },
  {
   "cell_type": "code",
   "execution_count": 17,
   "id": "640dc3aa",
   "metadata": {
    "scrolled": true
   },
   "outputs": [
    {
     "data": {
      "text/plain": [
       "26720.70103666426"
      ]
     },
     "execution_count": 17,
     "metadata": {},
     "output_type": "execute_result"
    }
   ],
   "source": [
    "run(optimizer)"
   ]
  },
  {
   "cell_type": "code",
   "execution_count": 18,
   "id": "88e8d7a4",
   "metadata": {},
   "outputs": [],
   "source": [
    "init_z = model.z.cpu().detach().numpy()\n",
    "init_para = model.para.detach().cpu().numpy()"
   ]
  },
  {
   "cell_type": "markdown",
   "id": "f1310764",
   "metadata": {},
   "source": [
    "# Step 3"
   ]
  },
  {
   "cell_type": "code",
   "execution_count": 19,
   "id": "9042a259",
   "metadata": {},
   "outputs": [],
   "source": [
    "model = ClsnaModel(device,N,T,ar_pair,Aw,Ab,D=2).to(device)\n",
    "with torch.no_grad():       \n",
    "    model.z[:,:] = torch.from_numpy(init_z).to(device)\n",
    "    model.para[:,:] = torch.from_numpy(init_para).to(device)\n",
    "optimizer = torch.optim.SGD([\n",
    "    {'params': model.z, \"momentum\": MOM, \"lr\": LR},\n",
    "    {'params': model.para, \"momentum\": 0.0, \"lr\":LR_P}\n",
    "    ])    \n",
    "logL = train(optimizer)"
   ]
  },
  {
   "cell_type": "code",
   "execution_count": 20,
   "id": "d249270d",
   "metadata": {},
   "outputs": [],
   "source": [
    "delta_var = 0.1"
   ]
  },
  {
   "cell_type": "code",
   "execution_count": 21,
   "id": "596aef21",
   "metadata": {
    "scrolled": true
   },
   "outputs": [
    {
     "ename": "TypeError",
     "evalue": "type complex doesn't define __round__ method",
     "output_type": "error",
     "traceback": [
      "\u001b[0;31m---------------------------------------------------------------------------\u001b[0m",
      "\u001b[0;31mTypeError\u001b[0m                                 Traceback (most recent call last)",
      "\u001b[0;32m<ipython-input-21-9754527af0b4>\u001b[0m in \u001b[0;36m<module>\u001b[0;34m\u001b[0m\n\u001b[1;32m     14\u001b[0m \u001b[0;34m\u001b[0m\u001b[0m\n\u001b[1;32m     15\u001b[0m     \u001b[0mvar_hat\u001b[0m \u001b[0;34m=\u001b[0m \u001b[0mdelta_var\u001b[0m\u001b[0;34m/\u001b[0m\u001b[0;34m(\u001b[0m\u001b[0mnewlogL\u001b[0m\u001b[0;34m-\u001b[0m\u001b[0mlogL\u001b[0m\u001b[0;34m)\u001b[0m\u001b[0;34m**\u001b[0m\u001b[0;36m0.5\u001b[0m\u001b[0;34m/\u001b[0m\u001b[0;36m2\u001b[0m\u001b[0;34m**\u001b[0m\u001b[0;36m0.5\u001b[0m\u001b[0;34m\u001b[0m\u001b[0;34m\u001b[0m\u001b[0m\n\u001b[0;32m---> 16\u001b[0;31m     \u001b[0mvar_list\u001b[0m\u001b[0;34m.\u001b[0m\u001b[0mappend\u001b[0m\u001b[0;34m(\u001b[0m\u001b[0mround\u001b[0m\u001b[0;34m(\u001b[0m\u001b[0mvar_hat\u001b[0m\u001b[0;34m,\u001b[0m\u001b[0;36m5\u001b[0m\u001b[0;34m)\u001b[0m\u001b[0;34m)\u001b[0m\u001b[0;34m\u001b[0m\u001b[0;34m\u001b[0m\u001b[0m\n\u001b[0m",
      "\u001b[0;31mTypeError\u001b[0m: type complex doesn't define __round__ method"
     ]
    }
   ],
   "source": [
    "parad = {'alpha':(0,1),'delta':(2,1),'gw':(1,1),'gb':(2,0)}\n",
    "var_list = []\n",
    "\n",
    "for key, value in parad.items():\n",
    "    model = ClsnaModel(device,N,T,ar_pair,Aw,Ab,D=2).to(device)\n",
    "    with torch.no_grad():       \n",
    "        model.z[:,:] = torch.from_numpy(init_z).to(device)\n",
    "        model.para[:,:] = torch.from_numpy(init_para).to(device)\n",
    "    optimizer = torch.optim.SGD([\n",
    "    {'params': model.z, \"momentum\": MOM, \"lr\": LR},\n",
    "    {'params': model.para, \"momentum\": 0.0, \"lr\":LR_P}\n",
    "    ])\n",
    "    newlogL=run(optimizer,value,init_para[value[0],value[1]]+delta_var)\n",
    "    \n",
    "    var_hat = delta_var/(newlogL-logL)**0.5/2**0.5\n",
    "    var_list.append(round(var_hat,5))"
   ]
  },
  {
   "cell_type": "code",
   "execution_count": null,
   "id": "4604fffa",
   "metadata": {
    "scrolled": true
   },
   "outputs": [],
   "source": [
    "init_para = init_para.round(3)\n",
    "printdict = {'a':init_para[0,1],'d':init_para[2,1],'gw':init_para[1,1],'gb':init_para[2,0]}"
   ]
  },
  {
   "cell_type": "code",
   "execution_count": null,
   "id": "1a16a08f",
   "metadata": {},
   "outputs": [],
   "source": [
    "for i in range(T-1):\n",
    "    d1=zz[N*i:N*(i+1)]\n",
    "    d2=zz[N*(i+1):N*(i+2)]\n",
    "    c1=d1-(d1.mean(axis=0))[np.newaxis,:]\n",
    "    c2=d2-(d2.mean(axis=0))[np.newaxis,:]\n",
    "    R,_ = orthogonal_procrustes(c1,c2)\n",
    "    print(np.diag(R).round(2))"
   ]
  },
  {
   "cell_type": "code",
   "execution_count": null,
   "id": "cc76ade9",
   "metadata": {},
   "outputs": [],
   "source": [
    "import csv   \n",
    "fields=var_list\n",
    "with open('var001', 'a') as f:\n",
    "    writer = csv.writer(f)\n",
    "    writer.writerow(fields)"
   ]
  },
  {
   "cell_type": "code",
   "execution_count": null,
   "id": "7c24ece5",
   "metadata": {},
   "outputs": [],
   "source": [
    "import csv   \n",
    "fields=list(printdict.values())\n",
    "with open('theta001', 'a') as f:\n",
    "    writer = csv.writer(f)\n",
    "    writer.writerow(fields)"
   ]
  },
  {
   "cell_type": "code",
   "execution_count": null,
   "id": "6de6f68c",
   "metadata": {},
   "outputs": [],
   "source": []
  },
  {
   "cell_type": "code",
   "execution_count": null,
   "id": "de92c379",
   "metadata": {},
   "outputs": [],
   "source": []
  }
 ],
 "metadata": {
  "kernelspec": {
   "display_name": "Python 3",
   "language": "python",
   "name": "python3"
  },
  "language_info": {
   "codemirror_mode": {
    "name": "ipython",
    "version": 3
   },
   "file_extension": ".py",
   "mimetype": "text/x-python",
   "name": "python",
   "nbconvert_exporter": "python",
   "pygments_lexer": "ipython3",
   "version": "3.8.10"
  }
 },
 "nbformat": 4,
 "nbformat_minor": 5
}
