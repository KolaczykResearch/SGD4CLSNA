{
 "cells": [
  {
   "cell_type": "code",
   "execution_count": 36,
   "id": "70f725d9",
   "metadata": {},
   "outputs": [],
   "source": [
    "import numpy as np\n",
    "from scipy.spatial.distance import pdist, squareform\n",
    "from scipy import sparse\n",
    "from sklearn.preprocessing import normalize\n",
    "from scipy.sparse.csgraph import laplacian\n",
    "from scipy.stats import truncnorm\n",
    "import matplotlib.pyplot as plt"
   ]
  },
  {
   "cell_type": "code",
   "execution_count": 2,
   "id": "a3ae8618",
   "metadata": {},
   "outputs": [],
   "source": [
    "Z = np.random.rand(10000,2)"
   ]
  },
  {
   "cell_type": "code",
   "execution_count": 3,
   "id": "f3cb23d5",
   "metadata": {},
   "outputs": [],
   "source": [
    "dist_matrix = pdist(Z)\n"
   ]
  },
  {
   "cell_type": "code",
   "execution_count": 4,
   "id": "ca77e3a5",
   "metadata": {},
   "outputs": [],
   "source": [
    "graph = squareform(dist_matrix)"
   ]
  },
  {
   "cell_type": "code",
   "execution_count": 5,
   "id": "4a3c2175",
   "metadata": {},
   "outputs": [
    {
     "data": {
      "text/plain": [
       "array([4049,   60,  525, ..., 3288, 5934, 7023])"
      ]
     },
     "execution_count": 5,
     "metadata": {},
     "output_type": "execute_result"
    }
   ],
   "source": [
    "np.random.randint(10000,size = 2000)"
   ]
  },
  {
   "cell_type": "code",
   "execution_count": 6,
   "id": "e7ea98f0",
   "metadata": {},
   "outputs": [],
   "source": [
    "for i in range(10):\n",
    "    graph[np.random.randint(10000,size = 500000),np.random.randint(10000,size = 500000)]"
   ]
  },
  {
   "cell_type": "code",
   "execution_count": 7,
   "id": "b8a089dc",
   "metadata": {},
   "outputs": [
    {
     "data": {
      "text/plain": [
       "500000.0"
      ]
     },
     "execution_count": 7,
     "metadata": {},
     "output_type": "execute_result"
    }
   ],
   "source": [
    "50000000/100"
   ]
  },
  {
   "cell_type": "code",
   "execution_count": 8,
   "id": "c7edd138",
   "metadata": {},
   "outputs": [
    {
     "data": {
      "text/plain": [
       "array([[0.82512507, 0.41040822, 0.05417148],\n",
       "       [0.03694504, 0.93351447, 0.29351951],\n",
       "       [0.05379204, 0.25275057, 0.56646659]])"
      ]
     },
     "execution_count": 8,
     "metadata": {},
     "output_type": "execute_result"
    }
   ],
   "source": [
    "Z = np.random.rand(3,3)\n",
    "Z"
   ]
  },
  {
   "cell_type": "code",
   "execution_count": 9,
   "id": "385c37b5",
   "metadata": {},
   "outputs": [
    {
     "data": {
      "text/plain": [
       "array([[0.        , 0.41040822, 0.05417148],\n",
       "       [0.03694504, 0.93351447, 0.29351951],\n",
       "       [0.05379204, 0.25275057, 0.56646659]])"
      ]
     },
     "execution_count": 9,
     "metadata": {},
     "output_type": "execute_result"
    }
   ],
   "source": [
    "Y = Z\n",
    "Y[0,0]=0\n",
    "Y"
   ]
  },
  {
   "cell_type": "code",
   "execution_count": 10,
   "id": "9e57e93b",
   "metadata": {},
   "outputs": [
    {
     "data": {
      "text/plain": [
       "array([[0.        , 0.41040822, 0.05417148],\n",
       "       [0.03694504, 0.        , 0.29351951],\n",
       "       [0.05379204, 0.25275057, 0.56646659]])"
      ]
     },
     "execution_count": 10,
     "metadata": {},
     "output_type": "execute_result"
    }
   ],
   "source": [
    "X = Z\n",
    "X[1,1]=0\n",
    "X"
   ]
  },
  {
   "cell_type": "code",
   "execution_count": 11,
   "id": "ea73b07e",
   "metadata": {},
   "outputs": [],
   "source": [
    "x, z = 13, 13"
   ]
  },
  {
   "cell_type": "code",
   "execution_count": 12,
   "id": "660bd3f3",
   "metadata": {},
   "outputs": [],
   "source": [
    "x=5"
   ]
  },
  {
   "cell_type": "code",
   "execution_count": 13,
   "id": "b6b4e9ef",
   "metadata": {},
   "outputs": [
    {
     "data": {
      "text/plain": [
       "13"
      ]
     },
     "execution_count": 13,
     "metadata": {},
     "output_type": "execute_result"
    }
   ],
   "source": [
    "z"
   ]
  },
  {
   "cell_type": "code",
   "execution_count": 14,
   "id": "bf3e1f17",
   "metadata": {},
   "outputs": [
    {
     "data": {
      "text/plain": [
       "array([[1, 2, 0, 0],\n",
       "       [3, 4, 0, 0],\n",
       "       [0, 0, 5, 0],\n",
       "       [0, 0, 6, 0],\n",
       "       [0, 0, 0, 7]])"
      ]
     },
     "execution_count": 14,
     "metadata": {},
     "output_type": "execute_result"
    }
   ],
   "source": [
    "from scipy.sparse import coo_matrix, block_diag\n",
    "A = coo_matrix([[1, 2], [3, 4]])\n",
    "B = coo_matrix([[5], [6]])\n",
    "C = coo_matrix([[7]])\n",
    "block_diag([A, B, C]).toarray()"
   ]
  },
  {
   "cell_type": "code",
   "execution_count": 15,
   "id": "2e595792",
   "metadata": {},
   "outputs": [
    {
     "data": {
      "text/plain": [
       "\"{'alpha': 10, 'beta': 100}\""
      ]
     },
     "execution_count": 15,
     "metadata": {},
     "output_type": "execute_result"
    }
   ],
   "source": [
    "para = {\"alpha\":10, \"beta\":100}\n",
    "str(para)"
   ]
  },
  {
   "cell_type": "code",
   "execution_count": 16,
   "id": "9944f557",
   "metadata": {},
   "outputs": [
    {
     "name": "stdout",
     "output_type": "stream",
     "text": [
      "{'alpha': 10, 'beta': 100}\n"
     ]
    }
   ],
   "source": [
    "print(para)"
   ]
  },
  {
   "cell_type": "code",
   "execution_count": null,
   "id": "bf980ae6",
   "metadata": {},
   "outputs": [],
   "source": []
  },
  {
   "cell_type": "code",
   "execution_count": 17,
   "id": "7c306322",
   "metadata": {},
   "outputs": [],
   "source": [
    "import numpy as np"
   ]
  },
  {
   "cell_type": "code",
   "execution_count": 18,
   "id": "a93fb059",
   "metadata": {},
   "outputs": [
    {
     "data": {
      "text/plain": [
       "array([0.97227238, 0.01147898, 0.5405502 , 0.22592469, 0.08075511])"
      ]
     },
     "execution_count": 18,
     "metadata": {},
     "output_type": "execute_result"
    }
   ],
   "source": [
    "p =np.random.rand(5)\n",
    "p"
   ]
  },
  {
   "cell_type": "code",
   "execution_count": 19,
   "id": "684c5adb",
   "metadata": {},
   "outputs": [],
   "source": [
    "q = [p]"
   ]
  },
  {
   "cell_type": "code",
   "execution_count": 20,
   "id": "201c972f",
   "metadata": {},
   "outputs": [
    {
     "data": {
      "text/plain": [
       "[array([0.97227238, 0.01147898, 0.5405502 , 0.22592469, 0.08075511])]"
      ]
     },
     "execution_count": 20,
     "metadata": {},
     "output_type": "execute_result"
    }
   ],
   "source": [
    "p = np.random.rand(5)\n",
    "q"
   ]
  },
  {
   "cell_type": "code",
   "execution_count": 21,
   "id": "5de71a5c",
   "metadata": {},
   "outputs": [
    {
     "data": {
      "text/plain": [
       "array([4, 0, 1, 3, 1])"
      ]
     },
     "execution_count": 21,
     "metadata": {},
     "output_type": "execute_result"
    }
   ],
   "source": [
    "np.random.binomial(5, p)"
   ]
  },
  {
   "cell_type": "code",
   "execution_count": 22,
   "id": "007ceac6",
   "metadata": {},
   "outputs": [
    {
     "data": {
      "text/plain": [
       "array([1., 1., 1., 1., 1., 0., 0., 0., 0., 0.])"
      ]
     },
     "execution_count": 22,
     "metadata": {},
     "output_type": "execute_result"
    }
   ],
   "source": [
    "membership = np.concatenate([np.ones(5),np.zeros(5)])\n",
    "membership"
   ]
  },
  {
   "cell_type": "code",
   "execution_count": null,
   "id": "8d2414ef",
   "metadata": {},
   "outputs": [],
   "source": []
  },
  {
   "cell_type": "code",
   "execution_count": 23,
   "id": "64c512e0",
   "metadata": {},
   "outputs": [
    {
     "data": {
      "text/plain": [
       "array([[ 5., -0., -0., -0., -0., -1., -1., -1., -1., -1.],\n",
       "       [-0.,  5., -0., -0., -0., -1., -1., -1., -1., -1.],\n",
       "       [-0., -0.,  5., -0., -0., -1., -1., -1., -1., -1.],\n",
       "       [-0., -0., -0.,  5., -0., -1., -1., -1., -1., -1.],\n",
       "       [-0., -0., -0., -0.,  5., -1., -1., -1., -1., -1.],\n",
       "       [-1., -1., -1., -1., -1.,  5., -0., -0., -0., -0.],\n",
       "       [-1., -1., -1., -1., -1., -0.,  5., -0., -0., -0.],\n",
       "       [-1., -1., -1., -1., -1., -0., -0.,  5., -0., -0.],\n",
       "       [-1., -1., -1., -1., -1., -0., -0., -0.,  5., -0.],\n",
       "       [-1., -1., -1., -1., -1., -0., -0., -0., -0.,  5.]])"
      ]
     },
     "execution_count": 23,
     "metadata": {},
     "output_type": "execute_result"
    }
   ],
   "source": [
    "laplacian(np.outer(1-membership, membership)+np.outer(membership, 1-membership)).T"
   ]
  },
  {
   "cell_type": "code",
   "execution_count": 24,
   "id": "72667cd2",
   "metadata": {},
   "outputs": [
    {
     "data": {
      "text/plain": [
       "array([[0., 0., 0., 0., 0., 1., 1., 1., 1., 1.],\n",
       "       [0., 0., 0., 0., 0., 1., 1., 1., 1., 1.],\n",
       "       [0., 0., 0., 0., 0., 1., 1., 1., 1., 1.],\n",
       "       [0., 0., 0., 0., 0., 1., 1., 1., 1., 1.],\n",
       "       [0., 0., 0., 0., 0., 1., 1., 1., 1., 1.],\n",
       "       [1., 1., 1., 1., 1., 0., 0., 0., 0., 0.],\n",
       "       [1., 1., 1., 1., 1., 0., 0., 0., 0., 0.],\n",
       "       [1., 1., 1., 1., 1., 0., 0., 0., 0., 0.],\n",
       "       [1., 1., 1., 1., 1., 0., 0., 0., 0., 0.],\n",
       "       [1., 1., 1., 1., 1., 0., 0., 0., 0., 0.]])"
      ]
     },
     "execution_count": 24,
     "metadata": {},
     "output_type": "execute_result"
    }
   ],
   "source": [
    "np.outer(1-membership, membership)+np.outer(membership, 1-membership)"
   ]
  },
  {
   "cell_type": "code",
   "execution_count": 25,
   "id": "093727e3",
   "metadata": {},
   "outputs": [
    {
     "data": {
      "text/plain": [
       "array([[0.        , 0.        , 0.        ],\n",
       "       [0.        , 0.        , 0.        ],\n",
       "       [0.        , 0.        , 0.        ],\n",
       "       [0.33333333, 0.33333333, 0.33333333],\n",
       "       [0.33333333, 0.33333333, 0.33333333],\n",
       "       [0.33333333, 0.33333333, 0.33333333]])"
      ]
     },
     "execution_count": 25,
     "metadata": {},
     "output_type": "execute_result"
    }
   ],
   "source": [
    "normalize(np.concatenate((np.zeros((3,3)),np.ones((3,3)))), axis = 1, norm='l1')"
   ]
  },
  {
   "cell_type": "code",
   "execution_count": 26,
   "id": "6e926290",
   "metadata": {},
   "outputs": [],
   "source": [
    "def simulate_2a_split(N=200, d=2, T=10, alpha=1, delta=3, sigma=2, tau = 0.2, gammaw=0.5, gammab=-0.5):\n",
    "    assert N%2 == 0\n",
    "    s = np.concatenate((np.ones(N//2),np.zeros(N//2)))\n",
    "    z_t = np.random.randn(N,d)*sigma\n",
    "#     z_t = np.concatenate((np.randn(N//2,d)*sigma+0.25, np.randn(N//2,d)*sigma-0.25), axis=0)\n",
    "#     z_t = truncnorm.rvs(-3, 3, size=200)\n",
    "    z = [z_t]\n",
    "    eta_t = alpha-pdist(z_t)\n",
    "    p_t = 1/(1+np.exp(-eta_t))\n",
    "    y_t = np.random.binomial(1, p_t)\n",
    "    y = [yt]\n",
    "    for i in range(1,T):\n",
    "        #normalized graph laplalcian by row\n",
    "        Aw_t = squareform(yt)*(np.outer(s, s)+np.outer(1-s, 1-s))\n",
    "        Aw_t = -normalize(laplacian(Aw_t), axis=1, norm='l1')\n",
    "        Ab_t = squareform(yt)*(np.outer(1-s, s)+np.outer(s, 1-s))\n",
    "        Ab_t = -normalize(laplacian(Ab_t), axis=1, norm='l1')\n",
    "        mu_t = z_t+gammaw*(Aw_t@z_t)+gammab*(Ab_t@z_t)\n",
    "        z_t = mu_t+np.random.randn(N,d)*tau\n",
    "        z.append(z_t)\n",
    "        eta_t = alpha-pdist(z_t)+delta*yt\n",
    "        p_t = 1/(1+np.exp(-eta_t))\n",
    "        y_t = np.random.binomial(1, p_t)\n",
    "        y.append(y_t)\n",
    "    return z, y"
   ]
  },
  {
   "cell_type": "code",
   "execution_count": 27,
   "id": "282f40e9",
   "metadata": {},
   "outputs": [],
   "source": [
    "x = truncnorm.rvs(-3, 3, size=200)"
   ]
  },
  {
   "cell_type": "code",
   "execution_count": 28,
   "id": "e99d935b",
   "metadata": {},
   "outputs": [
    {
     "data": {
      "text/plain": [
       "7.50189620697354"
      ]
     },
     "execution_count": 28,
     "metadata": {},
     "output_type": "execute_result"
    }
   ],
   "source": [
    "(x**2).max()"
   ]
  },
  {
   "cell_type": "code",
   "execution_count": 29,
   "id": "7d8e7c02",
   "metadata": {},
   "outputs": [],
   "source": [
    "x = np.random.randn(200)"
   ]
  },
  {
   "cell_type": "code",
   "execution_count": 30,
   "id": "4be907b6",
   "metadata": {},
   "outputs": [
    {
     "data": {
      "text/plain": [
       "5.85220033426071"
      ]
     },
     "execution_count": 30,
     "metadata": {},
     "output_type": "execute_result"
    }
   ],
   "source": [
    "(x**2).max()"
   ]
  },
  {
   "cell_type": "code",
   "execution_count": 31,
   "id": "2ecc00c0",
   "metadata": {},
   "outputs": [],
   "source": [
    "def soft_align(z_hat,z_true):\n",
    "    R, sca = linalg.orthogonal_procrustes(z_hat,z_true)\n",
    "    return z_hat@R"
   ]
  },
  {
   "cell_type": "code",
   "execution_count": 32,
   "id": "baf59c31",
   "metadata": {},
   "outputs": [],
   "source": [
    "def visualize(z_hat,z_true,t,caption):\n",
    "    #rotate as a whole\n",
    "    z_hat = soft_align(z_hat,z_true)\n",
    "    #keep time t\n",
    "    start = t*N\n",
    "    end = (t+1)*N\n",
    "    z_true = z_true[start:end]\n",
    "    z_hat = z_hat[start:end]\n",
    "    x_hat = z_hat[:,0]\n",
    "    y_hat = z_hat[:,1]\n",
    "    x_true = z_true[:,0]\n",
    "    y_true = z_true[:,1]\n",
    "    #subplot\n",
    "    fig, (ax1,ax2) = plt.subplots(1, 2,figsize=(9, 4))\n",
    "    #figure on the left\n",
    "    ax1.scatter(x_hat, y_hat, c=x_true, s=3, cmap=\"Set2\")\n",
    "    x_lim = ((z_hat**2)**0.5).max()+1\n",
    "    ax1.set_xlim((-x_lim, x_lim))\n",
    "    ax1.set_ylim((-x_lim, x_lim))\n",
    "    ax1.set_title(\"Estimation\")\n",
    "    #figure on the right\n",
    "    ax2.scatter(x_ref, y_ref, c=x_true, s=3, cmap=\"Set2\")\n",
    "    x_lim = ((z_true**2)**0.5).max()+1\n",
    "    ax2.set_xlim((-x_lim, x_lim))\n",
    "    ax2.set_ylim((-x_lim, x_lim))\n",
    "    ax2.set_title(\"Gound truth\")\n",
    "    #add label at the bottom of the plot\n",
    "    if caption is not None:\n",
    "        fig.supxlabel(caption, fontsize=12)    \n",
    "    plt.show()"
   ]
  },
  {
   "cell_type": "code",
   "execution_count": 33,
   "id": "c8d5d5c5",
   "metadata": {},
   "outputs": [],
   "source": [
    "# class ClsnaModel(torch.nn.Module):\n",
    "#     def __init__(self,device,N,T,ar_pair,Aw,Ab):\n",
    "#         super().__init__()\n",
    "#         self.N = N\n",
    "#         self.T = T\n",
    "#         self.embedding = Parameter(torch.randn((N*T, 2)), requires_grad = True)\n",
    "#         self.para = Parameter(torch.zeros((3, 2)), requires_grad = True)\n",
    "#         #ar_pair: a pair of indices of nodes which are modeled by AR(1)\n",
    "#         self.ar_pair = ar_pair.detach().clone().to(device)\n",
    "#         self.Aw = Aw.to(device).coalesce()\n",
    "#         self.Ab = Ab.to(device).coalesce()\n",
    "\n",
    "#     def forward(self):\n",
    "#         return self.embedding, self.para\n",
    "            \n",
    "#     def loss(self, device,label,persist,sample_edge,T_index):\n",
    "#         #label: minibatch y\n",
    "#         #sample_edge: minibatch edge\n",
    "#         #persist: minibatch y_(t-1)\n",
    "        \n",
    "#         #logsigma2 = self.para[0,0]\n",
    "#         logsigma2 = 2*torch.log(torch.tensor([1], device = device, requires_grad=False))\n",
    "#         #logtau2 = self.para[1,0]\n",
    "#         logtau2 = 2*torch.log(torch.tensor([1], device = device, requires_grad=False))\n",
    "#         alpha = self.para[0,1]\n",
    "#         gammaw = self.para[1,1]\n",
    "#         gammab = self.para[2,0]\n",
    "#         delta = self.para[2,1]\n",
    "#         tau2 = torch.exp(logtau2)\n",
    "#         sigma2 = torch.exp(logsigma2)\n",
    "        \n",
    "#         #iterate over permuted edges from all the edges stored in self.edge\n",
    "#         #calculate loss related to edges\n",
    "#         target = self.embedding[sample_edge[:,0]]\n",
    "#         source = self.embedding[sample_edge[:,1]]\n",
    "#         distance = torch.sum((target-source)**2,dim = 1)**0.5\n",
    "#         eta = (alpha-distance-delta*persist)\n",
    "#         eta2 = eta[eta>15]\n",
    "#         eta3 = eta[eta<-90]\n",
    "#         eta4 = eta[(eta<15) & (eta>-90)]\n",
    "#         y2 = label[eta>15]\n",
    "#         y3 = label[eta<-90]\n",
    "#         y4 = label[(eta<15) & (eta>-90)]\n",
    "#         log_p2 = (1-y2)*(-eta2)\n",
    "#         log_p3 = y3*(eta3)\n",
    "#         log_p4 = y4*torch.log(torch.sigmoid(eta4))+(1-y4)*torch.log(1-torch.sigmoid(eta4))\n",
    "#         p1 = torch.sum(log_p2)+torch.sum(log_p3)+torch.sum(log_p4)\n",
    "        \n",
    "#         #T=1 regularization\n",
    "#         p2 = -self.embedding[:self.N]**2/2/sigma2-logsigma2/2\n",
    "\n",
    "#         #T>1 regularization    \n",
    "#         att_prior_source = self.embedding[self.ar_pair[:,0]]\n",
    "#         att_prior_target = self.embedding[self.ar_pair[:,1]]\n",
    "#         att_w = gammaw*torch.sparse.mm(self.Aw,self.embedding)\n",
    "#         att_b = gammab*torch.sparse.mm(self.Ab,self.embedding)\n",
    "#         att_term = (att_w+att_b)[:(self.T-1)*self.N,:]\n",
    "#         _p3 = att_prior_target-att_prior_source-att_term\n",
    "#         p3 = -_p3**2/2/tau2-logtau2/2\n",
    "        \n",
    "#         #combine p2 p3\n",
    "#         pt = torch.cat((p2,p3),dim = 0)[T_index]\n",
    "        \n",
    "#         #adjust*T_index/edge_index = 2/(N-1)\n",
    "#         adjust = 2*edge_index.size(0)/T_index.size(0)/(self.N-1)\n",
    "        \n",
    "# #         return -(p1+adjust*torch.sum(pt)-alpha**2/2-delta**2/2)\n",
    "#         return -(p1+adjust*torch.sum(pt))\n"
   ]
  },
  {
   "cell_type": "code",
   "execution_count": null,
   "id": "769f6b88",
   "metadata": {},
   "outputs": [],
   "source": []
  },
  {
   "cell_type": "code",
   "execution_count": null,
   "id": "e30d7b2d",
   "metadata": {},
   "outputs": [],
   "source": []
  },
  {
   "cell_type": "code",
   "execution_count": 34,
   "id": "b7e2235e",
   "metadata": {},
   "outputs": [],
   "source": [
    "import numpy as np\n",
    "from scipy.spatial.distance import pdist, squareform\n",
    "from sklearn.preprocessing import normalize\n",
    "from scipy.sparse.csgraph import laplacian\n",
    "from scipy.stats import truncnorm\n",
    "from scipy import linalg\n",
    "import torch\n",
    "from torch.nn import Parameter\n",
    "\n",
    "def simulate_clsna(N=8, d=2, T=3, alpha=4, delta=3, sigma=1, tau = 0.2, gammaw=0.5, gammab=-0.5):\n",
    "    assert N%2 == 0\n",
    "    s = np.concatenate((np.ones(N//2),np.zeros(N//2)))\n",
    "    z_t = np.random.randn(N,d)*sigma\n",
    "#     z_t = np.concatenate((np.randn(N//2,d)*sigma+0.25, np.randn(N//2,d)*sigma-0.25), axis=0)\n",
    "#     z_t = truncnorm.rvs(-3, 3, size=200)\n",
    "    z = [z_t]\n",
    "    eta_t = alpha-pdist(z_t)\n",
    "    p_t = 1/(1+np.exp(-eta_t))\n",
    "    y_t = np.random.binomial(1, p_t)\n",
    "    y = [y_t]\n",
    "    Aw = []\n",
    "    Ab = []\n",
    "    for i in range(1,T):\n",
    "        #normalized graph laplalcian by row\n",
    "        Aw_t = squareform(y_t)*(np.outer(s, s)+np.outer(1-s, 1-s))\n",
    "        Aw_t = -2*normalize(laplacian(Aw_t), axis=1, norm='l1')\n",
    "        Ab_t = squareform(y_t)*(np.outer(1-s, s)+np.outer(s, 1-s))\n",
    "        Ab_t = -2*normalize(laplacian(Ab_t), axis=1, norm='l1')\n",
    "        Aw.append(Aw_t)\n",
    "        Ab.append(Ab_t)\n",
    "        mu_t = z_t+gammaw*(Aw_t@z_t)+gammab*(Ab_t@z_t)\n",
    "        z_t = mu_t+np.random.randn(N,d)*tau\n",
    "        z.append(z_t)\n",
    "        eta_t = alpha-pdist(z_t)+delta*y_t\n",
    "        p_t = 1/(1+np.exp(-eta_t))\n",
    "        y_t = np.random.binomial(1, p_t)\n",
    "        y.append(y_t)\n",
    "    return z, y, Aw, Ab"
   ]
  },
  {
   "cell_type": "code",
   "execution_count": 35,
   "id": "d1270cc2",
   "metadata": {},
   "outputs": [],
   "source": [
    "z, y, Aw, Ab = simulate_clsna(N=6, d=2, T=3, alpha=2, delta=2, sigma=1, tau = 0.2, gammaw=0.5, gammab=-0.5)"
   ]
  },
  {
   "cell_type": "code",
   "execution_count": 36,
   "id": "35c6bd10",
   "metadata": {},
   "outputs": [
    {
     "data": {
      "text/plain": [
       "array([[ 3,  0, -1, -1, -1,  0],\n",
       "       [ 0,  1,  0,  0,  0, -1],\n",
       "       [-1,  0,  3,  0, -1, -1],\n",
       "       [-1,  0,  0,  2,  0, -1],\n",
       "       [-1,  0, -1,  0,  2,  0],\n",
       "       [ 0, -1, -1, -1,  0,  3]])"
      ]
     },
     "execution_count": 36,
     "metadata": {},
     "output_type": "execute_result"
    }
   ],
   "source": [
    "laplacian(squareform(y[0]))"
   ]
  },
  {
   "cell_type": "code",
   "execution_count": 37,
   "id": "b8e11c4e",
   "metadata": {},
   "outputs": [
    {
     "data": {
      "text/plain": [
       "array([[0, 0, 1, 0, 1, 1],\n",
       "       [0, 0, 0, 0, 1, 1],\n",
       "       [1, 0, 0, 1, 1, 1],\n",
       "       [0, 0, 1, 0, 0, 1],\n",
       "       [1, 1, 1, 0, 0, 1],\n",
       "       [1, 1, 1, 1, 1, 0]])"
      ]
     },
     "execution_count": 37,
     "metadata": {},
     "output_type": "execute_result"
    }
   ],
   "source": [
    "squareform(y[1])"
   ]
  },
  {
   "cell_type": "code",
   "execution_count": 38,
   "id": "12fa354c",
   "metadata": {},
   "outputs": [
    {
     "data": {
      "text/plain": [
       "array([[-1.,  0.,  1.,  0.,  0.,  0.],\n",
       "       [ 0., -0.,  0.,  0.,  0.,  0.],\n",
       "       [ 1.,  0., -1.,  0.,  0.,  0.],\n",
       "       [ 0.,  0.,  0., -1.,  0.,  1.],\n",
       "       [ 0.,  0.,  0.,  0., -0.,  0.],\n",
       "       [ 0.,  0.,  0.,  1.,  0., -1.]])"
      ]
     },
     "execution_count": 38,
     "metadata": {},
     "output_type": "execute_result"
    }
   ],
   "source": [
    "(Aw[0]).round(1)"
   ]
  },
  {
   "cell_type": "code",
   "execution_count": 39,
   "id": "8d87773f",
   "metadata": {},
   "outputs": [],
   "source": [
    "from scipy import sparse"
   ]
  },
  {
   "cell_type": "code",
   "execution_count": 40,
   "id": "a7fe4d34",
   "metadata": {},
   "outputs": [],
   "source": [
    "sparse_Aw = []\n",
    "for _ in Aw:\n",
    "    sparse_Aw.append(sparse.csr_matrix(_))"
   ]
  },
  {
   "cell_type": "code",
   "execution_count": 41,
   "id": "df3c65b3",
   "metadata": {},
   "outputs": [
    {
     "name": "stdout",
     "output_type": "stream",
     "text": [
      "[[-1.   0.   1.   0.   0.   0.   0.   0.   0.   0.   0.   0. ]\n",
      " [ 0.   0.   0.   0.   0.   0.   0.   0.   0.   0.   0.   0. ]\n",
      " [ 1.   0.  -1.   0.   0.   0.   0.   0.   0.   0.   0.   0. ]\n",
      " [ 0.   0.   0.  -1.   0.   1.   0.   0.   0.   0.   0.   0. ]\n",
      " [ 0.   0.   0.   0.   0.   0.   0.   0.   0.   0.   0.   0. ]\n",
      " [ 0.   0.   0.   1.   0.  -1.   0.   0.   0.   0.   0.   0. ]\n",
      " [ 0.   0.   0.   0.   0.   0.  -1.   0.   1.   0.   0.   0. ]\n",
      " [ 0.   0.   0.   0.   0.   0.   0.   0.   0.   0.   0.   0. ]\n",
      " [ 0.   0.   0.   0.   0.   0.   1.   0.  -1.   0.   0.   0. ]\n",
      " [ 0.   0.   0.   0.   0.   0.   0.   0.   0.  -1.   0.   1. ]\n",
      " [ 0.   0.   0.   0.   0.   0.   0.   0.   0.   0.  -1.   1. ]\n",
      " [ 0.   0.   0.   0.   0.   0.   0.   0.   0.   0.5  0.5 -1. ]]\n"
     ]
    }
   ],
   "source": [
    "print(sparse.block_diag(sparse_Aw).toarray().round(1))"
   ]
  },
  {
   "cell_type": "code",
   "execution_count": 42,
   "id": "6cf8af9d",
   "metadata": {},
   "outputs": [
    {
     "data": {
      "text/plain": [
       "array([[[1, 2, 3],\n",
       "        [1, 2, 3],\n",
       "        [1, 2, 3]],\n",
       "\n",
       "       [[1, 1, 1],\n",
       "        [2, 2, 2],\n",
       "        [3, 3, 3]]])"
      ]
     },
     "execution_count": 42,
     "metadata": {},
     "output_type": "execute_result"
    }
   ],
   "source": [
    "np.array(np.meshgrid([1, 2, 3], [1, 2,3]))"
   ]
  },
  {
   "cell_type": "code",
   "execution_count": 46,
   "id": "eb40a00d",
   "metadata": {},
   "outputs": [],
   "source": [
    "q=torch.combinations(torch.arange(3))"
   ]
  },
  {
   "cell_type": "code",
   "execution_count": 47,
   "id": "66ce6dfa",
   "metadata": {},
   "outputs": [
    {
     "data": {
      "text/plain": [
       "array([[0, 1],\n",
       "       [0, 2],\n",
       "       [1, 2]])"
      ]
     },
     "execution_count": 47,
     "metadata": {},
     "output_type": "execute_result"
    }
   ],
   "source": [
    "np.array(q)"
   ]
  },
  {
   "cell_type": "code",
   "execution_count": 1,
   "id": "b5be6afc",
   "metadata": {},
   "outputs": [],
   "source": [
    "from utils import simulate_clsna, visualize, visualize_membership, preprocess, ClsnaModel\n",
    "import numpy as np\n",
    "import torch\n",
    "import math\n",
    "import matplotlib.pyplot as plt\n",
    "import time"
   ]
  },
  {
   "cell_type": "code",
   "execution_count": 25,
   "id": "cbd7953c",
   "metadata": {},
   "outputs": [],
   "source": [
    "N = 10000\n",
    "DIM = 2\n",
    "T = 10\n",
    "SIGMA = 4\n",
    "TAU = 1\n",
    "ALPHA = -1\n",
    "DELTA = 2\n",
    "GAMMAW = 0.25\n",
    "GAMMAB = -0.5"
   ]
  },
  {
   "cell_type": "code",
   "execution_count": 26,
   "id": "006434c1",
   "metadata": {},
   "outputs": [
    {
     "name": "stdout",
     "output_type": "stream",
     "text": [
      "1\n",
      "2\n",
      "3\n",
      "4\n",
      "5\n",
      "6\n",
      "7\n",
      "8\n",
      "9\n",
      "165.63505721092224\n"
     ]
    }
   ],
   "source": [
    "start = time.time()\n",
    "z,y,Aw,Ab=simulate_clsna(N=N,d=DIM,T=T,alpha=ALPHA,delta=DELTA,sigma=SIGMA, tau=TAU, gammaw=GAMMAW, gammab=GAMMAB)\n",
    "end = time.time()\n",
    "print(end - start)"
   ]
  },
  {
   "cell_type": "code",
   "execution_count": 27,
   "id": "5b4cbe7b",
   "metadata": {},
   "outputs": [
    {
     "data": {
      "text/plain": [
       "0.010160556055605561"
      ]
     },
     "execution_count": 27,
     "metadata": {},
     "output_type": "execute_result"
    }
   ],
   "source": [
    "y[1].sum()/y[1].shape[0]"
   ]
  },
  {
   "cell_type": "code",
   "execution_count": 28,
   "id": "d99cdd4f",
   "metadata": {},
   "outputs": [],
   "source": [
    "from scipy.spatial.distance import pdist, squareform"
   ]
  },
  {
   "cell_type": "code",
   "execution_count": 29,
   "id": "31881934",
   "metadata": {},
   "outputs": [],
   "source": [
    "A = squareform(y[1])"
   ]
  },
  {
   "cell_type": "code",
   "execution_count": 30,
   "id": "d0f01194",
   "metadata": {},
   "outputs": [
    {
     "data": {
      "text/plain": [
       "(10000, 10000)"
      ]
     },
     "execution_count": 30,
     "metadata": {},
     "output_type": "execute_result"
    }
   ],
   "source": [
    "A.shape"
   ]
  },
  {
   "cell_type": "code",
   "execution_count": 31,
   "id": "ba93d3d8",
   "metadata": {},
   "outputs": [
    {
     "data": {
      "text/plain": [
       "100000000"
      ]
     },
     "execution_count": 31,
     "metadata": {},
     "output_type": "execute_result"
    }
   ],
   "source": [
    "N*N"
   ]
  },
  {
   "cell_type": "code",
   "execution_count": null,
   "id": "9c9d029a",
   "metadata": {},
   "outputs": [],
   "source": [
    "plt.hist(np.log((A@A).flatten()+1),bins=100)\n",
    "plt.show()"
   ]
  },
  {
   "cell_type": "code",
   "execution_count": null,
   "id": "1f8c887c",
   "metadata": {},
   "outputs": [],
   "source": []
  },
  {
   "cell_type": "code",
   "execution_count": 25,
   "id": "6432074d",
   "metadata": {},
   "outputs": [
    {
     "name": "stderr",
     "output_type": "stream",
     "text": [
      "<ipython-input-25-3f753e575267>:4: RuntimeWarning: invalid value encountered in true_divide\n",
      "  array1 /= array2\n"
     ]
    }
   ],
   "source": [
    "array1 = np.array([0.0, 1, 2])\n",
    "array2 = np.array([0.0, 1, 1])\n",
    " _handle_zeros_in_scale(norms, copy=False)\n",
    "array1 /= array2"
   ]
  },
  {
   "cell_type": "code",
   "execution_count": 51,
   "id": "c8440f97",
   "metadata": {},
   "outputs": [
    {
     "data": {
      "text/plain": [
       "array([[0.01898323, 0.05476462, 0.18067018, 0.42821875],\n",
       "       [0.67770612, 0.75496022, 0.07745341, 0.10665895]])"
      ]
     },
     "execution_count": 51,
     "metadata": {},
     "output_type": "execute_result"
    }
   ],
   "source": [
    "A = np.random.rand(2,4)\n",
    "A"
   ]
  },
  {
   "cell_type": "code",
   "execution_count": 53,
   "id": "f5d57f50",
   "metadata": {},
   "outputs": [
    {
     "data": {
      "text/plain": [
       "array([0.69668935, 0.80972484, 0.25812359, 0.5348777 ])"
      ]
     },
     "execution_count": 53,
     "metadata": {},
     "output_type": "execute_result"
    }
   ],
   "source": [
    "np.sum(A,axis=0)"
   ]
  },
  {
   "cell_type": "code",
   "execution_count": 36,
   "id": "70ec3b49",
   "metadata": {},
   "outputs": [],
   "source": [
    "import numpy as np"
   ]
  },
  {
   "cell_type": "code",
   "execution_count": 51,
   "id": "d72e714e",
   "metadata": {},
   "outputs": [
    {
     "data": {
      "text/plain": [
       "array([[-0.22762054, -0.57158179],\n",
       "       [ 0.14915232,  1.60020903],\n",
       "       [-0.33245735, -0.70257825],\n",
       "       [-1.47505223, -0.28558426],\n",
       "       [ 0.36726845,  0.20092602],\n",
       "       [-0.81218295, -0.04000105],\n",
       "       [-0.70997999,  0.36254872],\n",
       "       [ 0.91158483, -0.79154304],\n",
       "       [-1.13305336, -0.89719156],\n",
       "       [-0.4570736 , -0.28528983]])"
      ]
     },
     "execution_count": 51,
     "metadata": {},
     "output_type": "execute_result"
    }
   ],
   "source": [
    "Z = np.random.randn(10,2)\n",
    "Z"
   ]
  },
  {
   "cell_type": "code",
   "execution_count": 52,
   "id": "829655ad",
   "metadata": {},
   "outputs": [
    {
     "data": {
      "text/plain": [
       "array([0, 9, 7])"
      ]
     },
     "execution_count": 52,
     "metadata": {},
     "output_type": "execute_result"
    }
   ],
   "source": [
    "i = np.random.randint(low=0, high=10, size=(3,))\n",
    "i"
   ]
  },
  {
   "cell_type": "code",
   "execution_count": 58,
   "id": "cda78897",
   "metadata": {},
   "outputs": [
    {
     "data": {
      "text/plain": [
       "array([[-0.22762054, -0.57158179],\n",
       "       [-0.4570736 , -0.28528983],\n",
       "       [ 0.91158483, -0.79154304]])"
      ]
     },
     "execution_count": 58,
     "metadata": {},
     "output_type": "execute_result"
    }
   ],
   "source": [
    "Z[i]"
   ]
  },
  {
   "cell_type": "code",
   "execution_count": 18,
   "id": "605888aa",
   "metadata": {},
   "outputs": [
    {
     "data": {
      "text/plain": [
       "tensor([[-1.8385, -1.7446],\n",
       "        [ 0.8635, -0.9859],\n",
       "        [-0.8102,  1.7506],\n",
       "        [ 0.5218, -0.5658],\n",
       "        [-0.8009, -1.0889]])"
      ]
     },
     "execution_count": 18,
     "metadata": {},
     "output_type": "execute_result"
    }
   ],
   "source": [
    "Z[:10//2]"
   ]
  },
  {
   "cell_type": "code",
   "execution_count": 50,
   "id": "4cdccd76",
   "metadata": {},
   "outputs": [
    {
     "data": {
      "text/plain": [
       "array([[-0.00771232,  0.53651123],\n",
       "       [ 1.16884689, -0.17725997],\n",
       "       [ 0.27030079, -0.37705616],\n",
       "       [ 0.65510868, -0.47826867],\n",
       "       [-0.17505518, -0.26812296]])"
      ]
     },
     "execution_count": 50,
     "metadata": {},
     "output_type": "execute_result"
    }
   ],
   "source": [
    "np.mean(Z,axis=0)+np.random.randn(5,2)"
   ]
  },
  {
   "cell_type": "code",
   "execution_count": 31,
   "id": "2344c159",
   "metadata": {},
   "outputs": [],
   "source": [
    "l = {}\n",
    "l[3] = [1,2,3,4,5]"
   ]
  },
  {
   "cell_type": "code",
   "execution_count": 32,
   "id": "c6c12ef7",
   "metadata": {},
   "outputs": [
    {
     "data": {
      "text/plain": [
       "{3: [1, 2, 3, 4, 5]}"
      ]
     },
     "execution_count": 32,
     "metadata": {},
     "output_type": "execute_result"
    }
   ],
   "source": [
    "l"
   ]
  },
  {
   "cell_type": "code",
   "execution_count": 1,
   "id": "0000a0c9",
   "metadata": {},
   "outputs": [],
   "source": [
    "import torch\n",
    "import numpy as np\n",
    "from scipy.spatial.distance import pdist, squareform\n"
   ]
  },
  {
   "cell_type": "code",
   "execution_count": 14,
   "id": "8c273c8d",
   "metadata": {},
   "outputs": [
    {
     "data": {
      "text/plain": [
       "array([[-0.38813353, -1.0133427 ],\n",
       "       [-0.61118762, -0.27413206],\n",
       "       [ 0.69670803, -1.29241845]])"
      ]
     },
     "execution_count": 14,
     "metadata": {},
     "output_type": "execute_result"
    }
   ],
   "source": [
    "b = np.random.randn(3,2)\n",
    "b"
   ]
  },
  {
   "cell_type": "code",
   "execution_count": 15,
   "id": "95476159",
   "metadata": {},
   "outputs": [
    {
     "data": {
      "text/plain": [
       "array([[-1.67316285,  0.45418351],\n",
       "       [-0.92502836, -1.71915762],\n",
       "       [-0.14349467,  0.35245287]])"
      ]
     },
     "execution_count": 15,
     "metadata": {},
     "output_type": "execute_result"
    }
   ],
   "source": [
    "c = np.random.randn(3,2)\n",
    "c"
   ]
  },
  {
   "cell_type": "code",
   "execution_count": 16,
   "id": "deabc96c",
   "metadata": {},
   "outputs": [
    {
     "data": {
      "text/plain": [
       "array([2, 2, 2])"
      ]
     },
     "execution_count": 16,
     "metadata": {},
     "output_type": "execute_result"
    }
   ],
   "source": [
    "i=np.random.randint(low=0, high=3, size=(3,))\n",
    "i"
   ]
  },
  {
   "cell_type": "code",
   "execution_count": 19,
   "id": "df4307eb",
   "metadata": {},
   "outputs": [],
   "source": [
    "b[i] = c"
   ]
  },
  {
   "cell_type": "code",
   "execution_count": 20,
   "id": "8b59e072",
   "metadata": {},
   "outputs": [
    {
     "data": {
      "text/plain": [
       "array([[-0.38813353, -1.0133427 ],\n",
       "       [-0.61118762, -0.27413206],\n",
       "       [-0.14349467,  0.35245287]])"
      ]
     },
     "execution_count": 20,
     "metadata": {},
     "output_type": "execute_result"
    }
   ],
   "source": [
    "b"
   ]
  },
  {
   "cell_type": "code",
   "execution_count": 46,
   "id": "e715f0ff",
   "metadata": {},
   "outputs": [
    {
     "data": {
      "text/plain": [
       "array([1, 1, 1, 1, 1, 1, 1, 1, 1, 1, 1, 1, 1, 1, 1, 1, 1, 1, 1, 1])"
      ]
     },
     "execution_count": 46,
     "metadata": {},
     "output_type": "execute_result"
    }
   ],
   "source": [
    "np.full((20,), 1)"
   ]
  },
  {
   "cell_type": "code",
   "execution_count": 37,
   "id": "3112f011",
   "metadata": {},
   "outputs": [
    {
     "data": {
      "text/plain": [
       "array([ 0.11563603, -0.36777371,  0.04501779,  0.41114602,  0.2020982 ])"
      ]
     },
     "execution_count": 37,
     "metadata": {},
     "output_type": "execute_result"
    }
   ],
   "source": [
    "t=np.random.randn(5)\n",
    "t"
   ]
  },
  {
   "cell_type": "code",
   "execution_count": 38,
   "id": "4c97e2b1",
   "metadata": {},
   "outputs": [
    {
     "data": {
      "text/plain": [
       "array([1., 0., 1., 1., 1.])"
      ]
     },
     "execution_count": 38,
     "metadata": {},
     "output_type": "execute_result"
    }
   ],
   "source": [
    "q = t>0\n",
    "q = q.astype(float)\n",
    "q"
   ]
  },
  {
   "cell_type": "code",
   "execution_count": 39,
   "id": "34aed554",
   "metadata": {},
   "outputs": [
    {
     "data": {
      "text/plain": [
       "array([0., 1., 1., 1., 0., 0., 0., 1., 1., 1.])"
      ]
     },
     "execution_count": 39,
     "metadata": {},
     "output_type": "execute_result"
    }
   ],
   "source": [
    "squareform(np.outer(q,q),checks=False)"
   ]
  },
  {
   "cell_type": "code",
   "execution_count": 51,
   "id": "79b6515a",
   "metadata": {},
   "outputs": [],
   "source": [
    "a = np.array([], dtype=np.int64).reshape(0,2)"
   ]
  },
  {
   "cell_type": "code",
   "execution_count": 55,
   "id": "0f1b355f",
   "metadata": {},
   "outputs": [
    {
     "data": {
      "text/plain": [
       "dtype('float64')"
      ]
     },
     "execution_count": 55,
     "metadata": {},
     "output_type": "execute_result"
    }
   ],
   "source": [
    "np.concatenate((a,np.random.randn(2,2))).dtype"
   ]
  },
  {
   "cell_type": "code",
   "execution_count": 61,
   "id": "67b0bf9b",
   "metadata": {},
   "outputs": [
    {
     "data": {
      "text/plain": [
       "tensor([[-0.3418,  0.6280],\n",
       "        [ 1.4089,  2.0404],\n",
       "        [-0.1672, -0.2493],\n",
       "        [ 1.0584,  1.2885],\n",
       "        [ 0.0408,  0.9976],\n",
       "        [ 0.8354, -1.0396]])"
      ]
     },
     "execution_count": 61,
     "metadata": {},
     "output_type": "execute_result"
    }
   ],
   "source": [
    "torch.cat([torch.randn(3,2),torch.randn(3,2)],dim=0)"
   ]
  },
  {
   "cell_type": "code",
   "execution_count": 22,
   "id": "260fcb37",
   "metadata": {},
   "outputs": [],
   "source": [
    "from numpy.random import default_rng\n",
    "\n",
    "rng = default_rng()\n",
    "numbers = rng.choice(20, size=19, replace=False)"
   ]
  },
  {
   "cell_type": "code",
   "execution_count": 23,
   "id": "6e65c3b5",
   "metadata": {},
   "outputs": [],
   "source": [
    "b = rng.choice(20, size=19, replace=False)"
   ]
  },
  {
   "cell_type": "code",
   "execution_count": 24,
   "id": "bca2dcab",
   "metadata": {},
   "outputs": [
    {
     "data": {
      "text/plain": [
       "array([12, 10, 19,  8,  4,  1, 13, 11,  0, 17, 15,  6,  2,  9,  5, 16,  7,\n",
       "        3, 14])"
      ]
     },
     "execution_count": 24,
     "metadata": {},
     "output_type": "execute_result"
    }
   ],
   "source": [
    "(numbers)"
   ]
  },
  {
   "cell_type": "code",
   "execution_count": 25,
   "id": "42d6ebf4",
   "metadata": {},
   "outputs": [
    {
     "data": {
      "text/plain": [
       "array([13,  7,  2,  1, 10, 14, 12, 15, 17,  3, 18,  6, 11,  9, 19,  5,  8,\n",
       "        0,  4])"
      ]
     },
     "execution_count": 25,
     "metadata": {},
     "output_type": "execute_result"
    }
   ],
   "source": [
    "b"
   ]
  },
  {
   "cell_type": "code",
   "execution_count": 1,
   "id": "b7e1a04a",
   "metadata": {},
   "outputs": [],
   "source": [
    "import torch"
   ]
  },
  {
   "cell_type": "code",
   "execution_count": 3,
   "id": "fcab9abf",
   "metadata": {},
   "outputs": [],
   "source": [
    "_s = torch.arange(0,3, requires_grad = False)\n",
    "_ar_pair = torch.stack((_s,_s+3), dim = 1)"
   ]
  },
  {
   "cell_type": "code",
   "execution_count": 4,
   "id": "686d1659",
   "metadata": {},
   "outputs": [
    {
     "data": {
      "text/plain": [
       "tensor([[0, 3],\n",
       "        [1, 4],\n",
       "        [2, 5]])"
      ]
     },
     "execution_count": 4,
     "metadata": {},
     "output_type": "execute_result"
    }
   ],
   "source": [
    "_ar_pair"
   ]
  },
  {
   "cell_type": "code",
   "execution_count": 5,
   "id": "2b5d7cb8",
   "metadata": {},
   "outputs": [],
   "source": [
    "mask = torch.ones((3,),dtype=torch.bool)"
   ]
  },
  {
   "cell_type": "code",
   "execution_count": 7,
   "id": "6bc8e182",
   "metadata": {},
   "outputs": [],
   "source": [
    "mask[0] = False"
   ]
  },
  {
   "cell_type": "code",
   "execution_count": 8,
   "id": "4847a574",
   "metadata": {},
   "outputs": [
    {
     "data": {
      "text/plain": [
       "tensor([False,  True,  True])"
      ]
     },
     "execution_count": 8,
     "metadata": {},
     "output_type": "execute_result"
    }
   ],
   "source": [
    "mask"
   ]
  },
  {
   "cell_type": "code",
   "execution_count": 9,
   "id": "3a7cfd3b",
   "metadata": {},
   "outputs": [
    {
     "data": {
      "text/plain": [
       "tensor([[1, 4],\n",
       "        [2, 5]])"
      ]
     },
     "execution_count": 9,
     "metadata": {},
     "output_type": "execute_result"
    }
   ],
   "source": [
    "_ar_pair[mask]"
   ]
  },
  {
   "cell_type": "code",
   "execution_count": 7,
   "id": "49341625",
   "metadata": {},
   "outputs": [],
   "source": [
    "from scipy.spatial.distance import pdist, squareform\n",
    "import numpy as np"
   ]
  },
  {
   "cell_type": "code",
   "execution_count": 3,
   "id": "e8e4ca21",
   "metadata": {},
   "outputs": [],
   "source": [
    "_c = np.full((3,), True)"
   ]
  },
  {
   "cell_type": "code",
   "execution_count": 4,
   "id": "c0bf9ae3",
   "metadata": {},
   "outputs": [
    {
     "data": {
      "text/plain": [
       "array([ True,  True,  True])"
      ]
     },
     "execution_count": 4,
     "metadata": {},
     "output_type": "execute_result"
    }
   ],
   "source": [
    "_c"
   ]
  },
  {
   "cell_type": "code",
   "execution_count": 12,
   "id": "1856effd",
   "metadata": {},
   "outputs": [],
   "source": [
    "index_z = np.full((3,), True)\n",
    "index_z[0] = False"
   ]
  },
  {
   "cell_type": "code",
   "execution_count": 13,
   "id": "ecc13041",
   "metadata": {},
   "outputs": [
    {
     "data": {
      "text/plain": [
       "array([False, False,  True])"
      ]
     },
     "execution_count": 13,
     "metadata": {},
     "output_type": "execute_result"
    }
   ],
   "source": [
    "squareform(np.outer(index_z,index_z),checks=False)"
   ]
  },
  {
   "cell_type": "code",
   "execution_count": 23,
   "id": "40d0e9be",
   "metadata": {},
   "outputs": [
    {
     "data": {
      "text/plain": [
       "array([[-0.42, -0.94, -0.59,  0.41],\n",
       "       [ 0.56,  0.53,  0.83, -1.25],\n",
       "       [ 2.03, -0.7 ,  0.2 , -1.95],\n",
       "       [-1.12, -1.62,  1.7 , -0.56]])"
      ]
     },
     "execution_count": 23,
     "metadata": {},
     "output_type": "execute_result"
    }
   ],
   "source": [
    "A = np.random.randn(4,4)\n",
    "np.round(A,2)"
   ]
  },
  {
   "cell_type": "code",
   "execution_count": 25,
   "id": "03a2b6e2",
   "metadata": {},
   "outputs": [
    {
     "data": {
      "text/plain": [
       "array([[ 0.  , -0.94, -0.59,  0.41],\n",
       "       [-0.94,  0.  ,  0.83, -1.25],\n",
       "       [-0.59,  0.83,  0.  , -1.95],\n",
       "       [ 0.41, -1.25, -1.95,  0.  ]])"
      ]
     },
     "execution_count": 25,
     "metadata": {},
     "output_type": "execute_result"
    }
   ],
   "source": [
    "B = squareform(A,checks=False)\n",
    "squareform(np.round(B,2))"
   ]
  },
  {
   "cell_type": "code",
   "execution_count": 1,
   "id": "88ba458b",
   "metadata": {},
   "outputs": [
    {
     "data": {
      "text/plain": [
       "tensor([[ 0.3434, -0.3786, -0.7034],\n",
       "        [-1.7167,  0.3786, -0.2131]])"
      ]
     },
     "execution_count": 1,
     "metadata": {},
     "output_type": "execute_result"
    }
   ],
   "source": [
    "import torch\n"
   ]
  },
  {
   "cell_type": "code",
   "execution_count": 3,
   "id": "11e599d2",
   "metadata": {},
   "outputs": [
    {
     "data": {
      "text/plain": [
       "tensor([[-0.6707,  0.3066, -0.0570],\n",
       "        [-0.2133, -1.5949,  0.2623]])"
      ]
     },
     "execution_count": 3,
     "metadata": {},
     "output_type": "execute_result"
    }
   ],
   "source": [
    "A = torch.randn((2,3))\n",
    "A"
   ]
  },
  {
   "cell_type": "code",
   "execution_count": 4,
   "id": "1081cdb6",
   "metadata": {},
   "outputs": [
    {
     "data": {
      "text/plain": [
       "tensor([[0.4498, 0.0940, 0.0032],\n",
       "        [0.0455, 2.5437, 0.0688]])"
      ]
     },
     "execution_count": 4,
     "metadata": {},
     "output_type": "execute_result"
    }
   ],
   "source": [
    "A**2"
   ]
  },
  {
   "cell_type": "code",
   "execution_count": 3,
   "id": "7484dda0",
   "metadata": {},
   "outputs": [
    {
     "data": {
      "text/plain": [
       "[3]"
      ]
     },
     "execution_count": 3,
     "metadata": {},
     "output_type": "execute_result"
    }
   ],
   "source": [
    "list(range(3,2,-1))"
   ]
  },
  {
   "cell_type": "code",
   "execution_count": 4,
   "id": "14e86c4b",
   "metadata": {},
   "outputs": [],
   "source": [
    "A = set()"
   ]
  },
  {
   "cell_type": "code",
   "execution_count": 5,
   "id": "19ebfdc6",
   "metadata": {},
   "outputs": [
    {
     "data": {
      "text/plain": [
       "set()"
      ]
     },
     "execution_count": 5,
     "metadata": {},
     "output_type": "execute_result"
    }
   ],
   "source": [
    "A"
   ]
  },
  {
   "cell_type": "code",
   "execution_count": 8,
   "id": "df566552",
   "metadata": {},
   "outputs": [
    {
     "data": {
      "text/plain": [
       "True"
      ]
     },
     "execution_count": 8,
     "metadata": {},
     "output_type": "execute_result"
    }
   ],
   "source": [
    "A.add(\"3\")\n",
    "A.add(3)\n",
    "3 in A"
   ]
  },
  {
   "cell_type": "code",
   "execution_count": 13,
   "id": "f1d2691c",
   "metadata": {},
   "outputs": [],
   "source": [
    "l = [1,2]"
   ]
  },
  {
   "cell_type": "code",
   "execution_count": 14,
   "id": "2731f78e",
   "metadata": {},
   "outputs": [
    {
     "data": {
      "text/plain": [
       "2"
      ]
     },
     "execution_count": 14,
     "metadata": {},
     "output_type": "execute_result"
    }
   ],
   "source": [
    "l.pop()"
   ]
  },
  {
   "cell_type": "code",
   "execution_count": 16,
   "id": "7c873310",
   "metadata": {},
   "outputs": [
    {
     "data": {
      "text/plain": [
       "1"
      ]
     },
     "execution_count": 16,
     "metadata": {},
     "output_type": "execute_result"
    }
   ],
   "source": [
    "l.pop()"
   ]
  },
  {
   "cell_type": "code",
   "execution_count": 20,
   "id": "d69d2287",
   "metadata": {},
   "outputs": [
    {
     "data": {
      "text/plain": [
       "[]"
      ]
     },
     "execution_count": 20,
     "metadata": {},
     "output_type": "execute_result"
    }
   ],
   "source": [
    "if l"
   ]
  },
  {
   "cell_type": "code",
   "execution_count": 3,
   "id": "f1f89c55",
   "metadata": {},
   "outputs": [
    {
     "data": {
      "text/plain": [
       "247"
      ]
     },
     "execution_count": 3,
     "metadata": {},
     "output_type": "execute_result"
    }
   ],
   "source": [
    "7*3+9*2+10*1+5*0+8*0+4*2+2*1+1*9+6*9+3*7+7*1+9*0+10*0+5*7+8*5+4*5+2*1"
   ]
  },
  {
   "cell_type": "code",
   "execution_count": 15,
   "id": "ed0ee77a",
   "metadata": {},
   "outputs": [
    {
     "data": {
      "text/plain": [
       "187"
      ]
     },
     "execution_count": 15,
     "metadata": {},
     "output_type": "execute_result"
    }
   ],
   "source": [
    "7*3+9*2+10*1+5*0+8*0+4*2+2*1+1*9+6*9+3*7+7*1+9*1+10*1+5*0+8*1+4*0+2*5"
   ]
  },
  {
   "cell_type": "code",
   "execution_count": 16,
   "id": "fee80d63",
   "metadata": {},
   "outputs": [
    {
     "data": {
      "text/plain": [
       "0"
      ]
     },
     "execution_count": 16,
     "metadata": {},
     "output_type": "execute_result"
    }
   ],
   "source": [
    "187%11"
   ]
  },
  {
   "cell_type": "code",
   "execution_count": 4,
   "id": "879b8b1b",
   "metadata": {},
   "outputs": [
    {
     "data": {
      "text/plain": [
       "5"
      ]
     },
     "execution_count": 4,
     "metadata": {},
     "output_type": "execute_result"
    }
   ],
   "source": [
    "247%11"
   ]
  },
  {
   "cell_type": "code",
   "execution_count": 14,
   "id": "ffb24aed",
   "metadata": {},
   "outputs": [],
   "source": [
    "import numpy as np\n",
    "from scipy.spatial.distance import pdist, squareform"
   ]
  },
  {
   "cell_type": "code",
   "execution_count": 15,
   "id": "a1e38ad7",
   "metadata": {},
   "outputs": [],
   "source": [
    "N=10"
   ]
  },
  {
   "cell_type": "code",
   "execution_count": 16,
   "id": "2d189227",
   "metadata": {},
   "outputs": [],
   "source": [
    "s = np.concatenate((np.ones(N//2),np.zeros(N//2)))"
   ]
  },
  {
   "cell_type": "code",
   "execution_count": 17,
   "id": "61e2c8a7",
   "metadata": {},
   "outputs": [
    {
     "data": {
      "text/plain": [
       "array([1., 1., 1., 1., 0., 0., 0., 0., 0., 1., 1., 1., 0., 0., 0., 0., 0.,\n",
       "       1., 1., 0., 0., 0., 0., 0., 1., 0., 0., 0., 0., 0., 0., 0., 0., 0.,\n",
       "       0., 0., 0., 0., 0., 0., 0., 0., 0., 0., 0.])"
      ]
     },
     "execution_count": 17,
     "metadata": {},
     "output_type": "execute_result"
    }
   ],
   "source": [
    "squareform(np.outer(s,s),checks=False)"
   ]
  },
  {
   "cell_type": "code",
   "execution_count": 1,
   "id": "5634a350",
   "metadata": {},
   "outputs": [],
   "source": [
    "import numpy as np"
   ]
  },
  {
   "cell_type": "code",
   "execution_count": 3,
   "id": "1b533291",
   "metadata": {},
   "outputs": [],
   "source": [
    "a = np.random.rand(2,3)"
   ]
  },
  {
   "cell_type": "code",
   "execution_count": 5,
   "id": "f4acc6a9",
   "metadata": {},
   "outputs": [
    {
     "data": {
      "text/plain": [
       "0.1457495185212996"
      ]
     },
     "execution_count": 5,
     "metadata": {},
     "output_type": "execute_result"
    }
   ],
   "source": [
    "np.std(a)"
   ]
  },
  {
   "cell_type": "code",
   "execution_count": null,
   "id": "5cb5237f",
   "metadata": {},
   "outputs": [],
   "source": []
  }
 ],
 "metadata": {
  "kernelspec": {
   "display_name": "Python 3",
   "language": "python",
   "name": "python3"
  },
  "language_info": {
   "codemirror_mode": {
    "name": "ipython",
    "version": 3
   },
   "file_extension": ".py",
   "mimetype": "text/x-python",
   "name": "python",
   "nbconvert_exporter": "python",
   "pygments_lexer": "ipython3",
   "version": "3.8.10"
  }
 },
 "nbformat": 4,
 "nbformat_minor": 5
}
