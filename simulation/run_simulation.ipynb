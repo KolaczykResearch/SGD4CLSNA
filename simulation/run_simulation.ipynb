{
 "cells": [
  {
   "cell_type": "markdown",
   "id": "780fec2f",
   "metadata": {},
   "source": [
    "## Stochastic gradient descent-based inference for dynamic network models with attractors\n",
    "## last updated Sep 10, 2024\n",
    "## This script is a batch script that automates the execution of the primary simulation for multiple iterations."
   ]
  },
  {
   "cell_type": "code",
   "execution_count": null,
   "id": "e67d46a3",
   "metadata": {
    "scrolled": true
   },
   "outputs": [],
   "source": [
    "import time\n",
    "start_time = time.time()\n",
    "%run simulation.ipynb\n",
    "end_time = time.time()\n",
    "print(f\"Run took {end_time - start_time:.2f} seconds\")"
   ]
  },
  {
   "cell_type": "code",
   "execution_count": null,
   "id": "70be48f3",
   "metadata": {},
   "outputs": [],
   "source": [
    "def print_gpu_info():\n",
    "    if torch.cuda.is_available():\n",
    "        for i in range(torch.cuda.device_count()):\n",
    "            print(f\"GPU {i}: {torch.cuda.get_device_name(i)}\")\n",
    "            print(f\"Memory Allocated: {torch.cuda.memory_allocated(i)/1024**2:.2f} MB\")\n",
    "            print(f\"Memory Cached: {torch.cuda.memory_reserved(i)/1024**2:.2f} MB\")\n",
    "    else:\n",
    "        print(\"No GPU available\")"
   ]
  },
  {
   "cell_type": "code",
   "execution_count": null,
   "id": "c1689044",
   "metadata": {},
   "outputs": [],
   "source": [
    "print_gpu_info()"
   ]
  }
 ],
 "metadata": {
  "kernelspec": {
   "display_name": "Python 3",
   "language": "python",
   "name": "python3"
  },
  "language_info": {
   "codemirror_mode": {
    "name": "ipython",
    "version": 3
   },
   "file_extension": ".py",
   "mimetype": "text/x-python",
   "name": "python",
   "nbconvert_exporter": "python",
   "pygments_lexer": "ipython3",
   "version": "3.8.10"
  }
 },
 "nbformat": 4,
 "nbformat_minor": 5
}
