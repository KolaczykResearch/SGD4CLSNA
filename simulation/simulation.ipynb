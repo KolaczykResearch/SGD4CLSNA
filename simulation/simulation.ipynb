{
 "cells": [
  {
   "cell_type": "markdown",
   "id": "da55db9c",
   "metadata": {},
   "source": [
    "## Stochastic gradient descent-based inference for dynamic network models with attractors\n",
    "## This script simulates a dynamic network with changing membership and fitting the extended CLSNA model to the simulated data for inference."
   ]
  },
  {
   "cell_type": "code",
   "execution_count": null,
   "id": "566e5de2",
   "metadata": {},
   "outputs": [],
   "source": [
    "from congress_utils import congress_clsna, preprocess, make_ar_pair, member_dict, ClsnaModelCongress\n",
    "from utils import visualize_membership, visualize\n",
    "import numpy as np\n",
    "import torch\n",
    "import math\n",
    "import matplotlib.pyplot as plt\n",
    "from scipy.linalg import orthogonal_procrustes"
   ]
  },
  {
   "cell_type": "code",
   "execution_count": null,
   "id": "cc3f74c3",
   "metadata": {},
   "outputs": [],
   "source": [
    "import time"
   ]
  },
  {
   "cell_type": "code",
   "execution_count": null,
   "id": "47b12f74",
   "metadata": {},
   "outputs": [],
   "source": [
    "def read_parameters(file_path):\n",
    "    params = {}\n",
    "    with open(file_path, 'r') as file:\n",
    "        for line in file:\n",
    "            name, value = line.strip().split('=')\n",
    "            params[name] = int(value)  # Convert the value to an integer\n",
    "    return params"
   ]
  },
  {
   "cell_type": "code",
   "execution_count": null,
   "id": "6beb008d",
   "metadata": {},
   "outputs": [],
   "source": [
    "# Read the value of N from the file\n",
    "parameters = read_parameters('parameters.txt')\n",
    "N_LEAVE = parameters.get('N_LEAVE')"
   ]
  },
  {
   "cell_type": "code",
   "execution_count": null,
   "id": "494c4f88",
   "metadata": {},
   "outputs": [],
   "source": [
    "# Set global variables for the model\n",
    "N = 1000\n",
    "DIM = 2\n",
    "T = 10\n",
    "SIGMA = 1\n",
    "TAU = 1\n",
    "PHI = 1\n",
    "ALPHA = 1\n",
    "DELTA = 2\n",
    "GAMMAW = 0.25\n",
    "GAMMAB = 0.5"
   ]
  },
  {
   "cell_type": "code",
   "execution_count": null,
   "id": "c3a7516b",
   "metadata": {},
   "outputs": [],
   "source": [
    "# Generate synthetic data for the model\n",
    "start = time.time()\n",
    "z,y,persist,Aw,Ab,leaves=congress_clsna(N=N, d=DIM, T=T, alpha=ALPHA, delta=DELTA, sigma=SIGMA, tau=TAU , phi=PHI, gammaw=GAMMAW, gammab=GAMMAB, n_leave=N_LEAVE)\n",
    "end = time.time()\n",
    "# print(end - start)"
   ]
  },
  {
   "cell_type": "code",
   "execution_count": null,
   "id": "ada50d62",
   "metadata": {},
   "outputs": [],
   "source": [
    "z = np.concatenate(z)\n",
    "persist = np.concatenate(persist)"
   ]
  },
  {
   "cell_type": "code",
   "execution_count": null,
   "id": "5ecf7c0e",
   "metadata": {},
   "outputs": [],
   "source": [
    "# visualize(z_hat=z,z_true=z,start=N*9,end=N*10)"
   ]
  },
  {
   "cell_type": "code",
   "execution_count": null,
   "id": "d1f229ed",
   "metadata": {},
   "outputs": [],
   "source": [
    "# Visualize membership\n",
    "membership = np.concatenate((np.ones(N//2),np.zeros(N//2)))\n",
    "visualize_membership(z=z,membership=np.tile(membership,T),start=9*N,end=10*N)"
   ]
  },
  {
   "cell_type": "code",
   "execution_count": null,
   "id": "65101039",
   "metadata": {},
   "outputs": [],
   "source": [
    "label, persist, Aw, Ab, combination_N=preprocess(y, Aw, Ab, N, T, persist)"
   ]
  },
  {
   "cell_type": "code",
   "execution_count": null,
   "id": "25073903",
   "metadata": {},
   "outputs": [],
   "source": [
    "# label.sum()/label.size(0)"
   ]
  },
  {
   "cell_type": "code",
   "execution_count": null,
   "id": "c71493e8",
   "metadata": {},
   "outputs": [],
   "source": [
    "# Set device for computation (GPU if available)\n",
    "device = 'cuda' if torch.cuda.is_available() else 'cpu'\n",
    "# device = \"cpu\""
   ]
  },
  {
   "cell_type": "code",
   "execution_count": null,
   "id": "5e241c03",
   "metadata": {},
   "outputs": [],
   "source": [
    "ar_pair = make_ar_pair(device,leaves,N,T)\n",
    "new_at_t = member_dict(device,leaves,N,T)"
   ]
  },
  {
   "cell_type": "code",
   "execution_count": null,
   "id": "015ffc11",
   "metadata": {},
   "outputs": [],
   "source": [
    "combination_N = combination_N.to(device)\n",
    "label = label.to(device)\n",
    "persist = persist.to(device)"
   ]
  },
  {
   "cell_type": "code",
   "execution_count": null,
   "id": "980321f6",
   "metadata": {},
   "outputs": [],
   "source": [
    "# Set learning rates\n",
    "LR = 2e-3\n",
    "MOM = 0.99\n",
    "LR_P = 1e-2"
   ]
  },
  {
   "cell_type": "markdown",
   "id": "9a13263b",
   "metadata": {},
   "source": [
    "# Step 1"
   ]
  },
  {
   "cell_type": "code",
   "execution_count": null,
   "id": "cc6594e6",
   "metadata": {},
   "outputs": [],
   "source": [
    "print(\"Step 1: Fitting initial CLSNA model with higher-dimensional space...\")"
   ]
  },
  {
   "cell_type": "code",
   "execution_count": null,
   "id": "4ab39c51",
   "metadata": {},
   "outputs": [],
   "source": [
    "#train the model\n",
    "def train(optimizer,index=None, fixed=None):\n",
    "    t_index=torch.arange(start=0,end=N*T,device=device,requires_grad=False)\n",
    "    optimizer.zero_grad()\n",
    "    loss = model.loss(device=device,label=label,persist=persist,sample_edge=combination_N,T_index=t_index,ss=SIGMA,tt=TAU,pp=PHI)\n",
    "    loss.backward()\n",
    "    model.para.grad = 0.1*((model.para.grad>0).bool().float()-0.5)\n",
    "    optimizer.step()\n",
    "    if index is not None:\n",
    "        with torch.no_grad():\n",
    "            model.para[index[0],index[1]] = fixed\n",
    "    return loss.item()"
   ]
  },
  {
   "cell_type": "code",
   "execution_count": null,
   "id": "9f88d2b4",
   "metadata": {},
   "outputs": [],
   "source": [
    "def check_alignment(zz):\n",
    "    align = 1\n",
    "    for i in range(T-1):\n",
    "        d1=zz[N*i:N*(i+1)]\n",
    "        d2=zz[N*(i+1):N*(i+2)]\n",
    "        c1=d1-(d1.mean(axis=0))[np.newaxis,:]\n",
    "        c2=d2-(d2.mean(axis=0))[np.newaxis,:]\n",
    "        R,_ = orthogonal_procrustes(c1,c2)\n",
    "        if not np.all(np.diag(R.round(1)) == 1):\n",
    "            align = 0\n",
    "            break\n",
    "    return align"
   ]
  },
  {
   "cell_type": "code",
   "execution_count": null,
   "id": "eda9281b",
   "metadata": {},
   "outputs": [],
   "source": [
    "#run the optimization process\n",
    "def run(optimizer):\n",
    "    loss_history = []\n",
    "    window = 300  # define the number of epochs to check for stabilization\n",
    "    stable_range = 0.2  # define the range within which loss is considered stable\n",
    "    stable_count = 0  # counter to track stable epochs\n",
    "\n",
    "    for epoch in range(1, 10000):\n",
    "        loss = train(optimizer)\n",
    "        loss_history.append(loss)\n",
    "\n",
    "        if len(loss_history) > window:\n",
    "            recent_losses = loss_history[-window:]\n",
    "            if max(recent_losses) - min(recent_losses) < stable_range:\n",
    "                stable_count += 1\n",
    "            else:\n",
    "                stable_count = 0  # reset if loss is not within the range\n",
    "\n",
    "            if stable_count >= window:  # check if stabilization period is reached\n",
    "                print(f\"Loss has stabilized for {stable_count} epochs within range of {stable_range}. Stopping training.\")\n",
    "                break\n",
    "\n",
    "        if epoch % 111 == 0:\n",
    "            print(f\"Epoch {epoch}: Loss = {loss}\")\n",
    "#             print(f\"Model parameters: {model.para}\")\n"
   ]
  },
  {
   "cell_type": "code",
   "execution_count": null,
   "id": "44b4d331",
   "metadata": {},
   "outputs": [],
   "source": [
    "# Initialize and train the first model\n",
    "model = ClsnaModelCongress(device,N,T,ar_pair,Aw,Ab,new_at_t,DIM+1).to(device)"
   ]
  },
  {
   "cell_type": "code",
   "execution_count": null,
   "id": "e9d5ccff",
   "metadata": {},
   "outputs": [],
   "source": [
    "optimizer = torch.optim.SGD([\n",
    "    {'params': model.z, \"momentum\": 0.99, \"lr\": LR},\n",
    "    {'params': model.para, \"momentum\": 0, \"lr\":LR_P}\n",
    "    ])"
   ]
  },
  {
   "cell_type": "code",
   "execution_count": null,
   "id": "d72a8710",
   "metadata": {
    "scrolled": true
   },
   "outputs": [],
   "source": [
    "run(optimizer)"
   ]
  },
  {
   "cell_type": "code",
   "execution_count": null,
   "id": "ba1bb1fb",
   "metadata": {},
   "outputs": [],
   "source": [
    "model.para"
   ]
  },
  {
   "cell_type": "code",
   "execution_count": null,
   "id": "21132c54",
   "metadata": {},
   "outputs": [],
   "source": [
    "# Perform PCA to reduce dimensionality\n",
    "PCA_p = torch.pca_lowrank(model.z.cpu())[2][:,[0,1]]\n",
    "zz=(model.z.cpu().detach()@PCA_p).detach().numpy()\n",
    "init_z = zz\n",
    "init_para = model.para.detach().cpu().numpy()"
   ]
  },
  {
   "cell_type": "markdown",
   "id": "f850cd2b",
   "metadata": {},
   "source": [
    "# Step 2"
   ]
  },
  {
   "cell_type": "code",
   "execution_count": null,
   "id": "4a38dc3f",
   "metadata": {},
   "outputs": [],
   "source": [
    "print(\"Step 2: Fitting CLSNA model with targeted dimension and estimating model parameters...\")\n"
   ]
  },
  {
   "cell_type": "code",
   "execution_count": null,
   "id": "be3ecde3",
   "metadata": {},
   "outputs": [],
   "source": [
    "model = ClsnaModelCongress(device,N,T,ar_pair,Aw,Ab,new_at_t,DIM).to(device)\n",
    "with torch.no_grad():       \n",
    "    model.z[:,:] = torch.from_numpy(init_z).to(device)\n",
    "    model.para[:,:] = torch.from_numpy(init_para).to(device)\n",
    "optimizer = torch.optim.SGD([\n",
    "    {'params': model.z, \"momentum\": MOM, \"lr\": LR},\n",
    "    {'params': model.para, \"momentum\": 0.0, \"lr\":LR_P}\n",
    "    ])"
   ]
  },
  {
   "cell_type": "code",
   "execution_count": null,
   "id": "c989e2e0",
   "metadata": {},
   "outputs": [],
   "source": [
    "def run(optimizer):\n",
    "    loss_history = []\n",
    "    window = 300  # define the number of epochs to check for stabilization\n",
    "    stable_range = 0.2  # define the range within which loss is considered stable\n",
    "    stable_count = 0  # counter to track stable epochs\n",
    "\n",
    "    for epoch in range(1, 10000):\n",
    "        loss = train(optimizer)\n",
    "        loss_history.append(loss)\n",
    "\n",
    "        if len(loss_history) > window:\n",
    "            recent_losses = loss_history[-window:]\n",
    "            if max(recent_losses) - min(recent_losses) < stable_range:\n",
    "                stable_count += 1\n",
    "            else:\n",
    "                stable_count = 0  # reset if loss is not within the range\n",
    "\n",
    "            if stable_count >= window:  # check if stabilization period is reached\n",
    "                print(f\"Loss has stabilized for {stable_count} epochs within range of {stable_range}. Stopping training.\")\n",
    "                break\n",
    "\n",
    "        if epoch % 111 == 0:\n",
    "            print(f\"Epoch {epoch}: Loss = {loss}\")\n",
    "#             print(f\"Model parameters: {model.para}\")\n"
   ]
  },
  {
   "cell_type": "code",
   "execution_count": null,
   "id": "640dc3aa",
   "metadata": {
    "scrolled": true
   },
   "outputs": [],
   "source": [
    "run(optimizer)"
   ]
  },
  {
   "cell_type": "code",
   "execution_count": null,
   "id": "a0f757c0",
   "metadata": {},
   "outputs": [],
   "source": [
    "optimizer = torch.optim.SGD([\n",
    "    {'params': model.z, \"momentum\": MOM, \"lr\": LR/2},\n",
    "    {'params': model.para, \"momentum\": 0.0, \"lr\":LR_P/2}\n",
    "    ])"
   ]
  },
  {
   "cell_type": "code",
   "execution_count": null,
   "id": "09596bd6",
   "metadata": {},
   "outputs": [],
   "source": [
    "run(optimizer)"
   ]
  },
  {
   "cell_type": "code",
   "execution_count": null,
   "id": "07823ba5",
   "metadata": {},
   "outputs": [],
   "source": [
    "zz = model.z.cpu().detach().numpy()"
   ]
  },
  {
   "cell_type": "code",
   "execution_count": null,
   "id": "4f11f732",
   "metadata": {},
   "outputs": [],
   "source": [
    "for i in range(T):\n",
    "    visualize(z_hat=zz,z_true=z[:,[1,0]],start=N*i,end=N*(i+1))"
   ]
  },
  {
   "cell_type": "code",
   "execution_count": null,
   "id": "102b512b",
   "metadata": {},
   "outputs": [],
   "source": [
    "for i in range(T):\n",
    "    visualize(z_hat=zz,z_true=z[:,[0,1]],start=N*i,end=N*(i+1))"
   ]
  },
  {
   "cell_type": "code",
   "execution_count": null,
   "id": "88e8d7a4",
   "metadata": {},
   "outputs": [],
   "source": [
    "init_z = zz\n",
    "init_para = model.para.detach().cpu().numpy()"
   ]
  },
  {
   "cell_type": "code",
   "execution_count": null,
   "id": "ba96294f",
   "metadata": {},
   "outputs": [],
   "source": [
    "init_para"
   ]
  },
  {
   "cell_type": "markdown",
   "id": "f1310764",
   "metadata": {},
   "source": [
    "# Step 3"
   ]
  },
  {
   "cell_type": "code",
   "execution_count": null,
   "id": "5c6bdb3d",
   "metadata": {},
   "outputs": [],
   "source": [
    "print(\"Step 3: Performing variance/covariance estimation for the parameters of interest...\")"
   ]
  },
  {
   "cell_type": "code",
   "execution_count": null,
   "id": "d8815952",
   "metadata": {},
   "outputs": [],
   "source": [
    "def run(optimizer,index,fixed):\n",
    "    loss_history = []\n",
    "    window = 300  # define the number of epochs to check for stabilization\n",
    "    stable_range = 0.2  # define the range within which loss is considered stable\n",
    "    stable_count = 0  # counter to track stable epochs\n",
    "\n",
    "    for epoch in range(1, 10000):\n",
    "        loss = train(optimizer=optimizer,index=index,fixed=fixed)\n",
    "        loss_history.append(loss)\n",
    "\n",
    "        if len(loss_history) > window:\n",
    "            recent_losses = loss_history[-window:]\n",
    "            if max(recent_losses) - min(recent_losses) < stable_range:\n",
    "                stable_count += 1\n",
    "            else:\n",
    "                stable_count = 0  # reset if loss is not within the range\n",
    "\n",
    "            if stable_count >= window:  # check if stabilization period is reached\n",
    "                print(f\"Loss has stabilized for {stable_count} epochs within range of {stable_range}. Stopping training.\")\n",
    "                break\n",
    "\n",
    "        if epoch % 111 == 0:\n",
    "            print(f\"Epoch {epoch}: Loss = {loss}\")\n",
    "#             print(f\"Model parameters: {model.para}\")\n",
    "    return loss\n"
   ]
  },
  {
   "cell_type": "code",
   "execution_count": null,
   "id": "9042a259",
   "metadata": {},
   "outputs": [],
   "source": [
    "model = ClsnaModelCongress(device,N,T,ar_pair,Aw,Ab,new_at_t,DIM).to(device)\n",
    "with torch.no_grad():       \n",
    "    model.z[:,:] = torch.from_numpy(init_z).to(device)\n",
    "    model.para[:,:] = torch.from_numpy(init_para).to(device)\n",
    "optimizer = torch.optim.SGD([\n",
    "    {'params': model.z, \"momentum\": MOM, \"lr\": LR/2},\n",
    "    {'params': model.para, \"momentum\": 0.0, \"lr\":LR_P/2}\n",
    "    ])    \n",
    "logL = train(optimizer)"
   ]
  },
  {
   "cell_type": "code",
   "execution_count": null,
   "id": "d249270d",
   "metadata": {},
   "outputs": [],
   "source": [
    "delta_var = 0.05/((N-N_LEAVE)/200)**0.5"
   ]
  },
  {
   "cell_type": "code",
   "execution_count": null,
   "id": "596aef21",
   "metadata": {
    "scrolled": true
   },
   "outputs": [],
   "source": [
    "# Estimate variance/covariance for each parameter\n",
    "parad = {'alpha':(0,1),'delta':(2,1),'gw':(1,1),'gb':(2,0)}\n",
    "var_list = {'alpha':0,'delta':0,'gw':0,'gb':0}\n",
    "for key, value in parad.items():\n",
    "    model = ClsnaModelCongress(device,N,T,ar_pair,Aw,Ab,new_at_t,DIM).to(device)\n",
    "    with torch.no_grad():       \n",
    "        model.z[:,:] = torch.from_numpy(init_z).to(device)\n",
    "        model.para[:,:] = torch.from_numpy(init_para).to(device)\n",
    "    optimizer = torch.optim.SGD([\n",
    "    {'params': model.z, \"momentum\": MOM, \"lr\": LR},\n",
    "    {'params': model.para, \"momentum\": 0.0, \"lr\":LR_P}\n",
    "    ])\n",
    "    newlogL=run(optimizer,value,init_para[value[0],value[1]]+delta_var)\n",
    "    print(\"--------------------------------\")\n",
    "    print(key,delta_var/(newlogL-logL)**0.5/2**0.5)\n",
    "    var_hat = delta_var/(newlogL-logL)**0.5/2**0.5\n",
    "    print(var_hat)\n",
    "    var_list[key] = (round(var_hat,4))"
   ]
  },
  {
   "cell_type": "code",
   "execution_count": null,
   "id": "e1fe8acf",
   "metadata": {},
   "outputs": [],
   "source": [
    "print(\"var: \",var_list)"
   ]
  },
  {
   "cell_type": "code",
   "execution_count": null,
   "id": "4604fffa",
   "metadata": {
    "scrolled": true
   },
   "outputs": [],
   "source": [
    "init_para = init_para.round(3)\n",
    "printdict = {'a':init_para[0,1],'d':init_para[2,1],'gw':init_para[1,1],'gb':init_para[2,0]}\n",
    "print(\"point estimate: \",printdict)"
   ]
  },
  {
   "cell_type": "code",
   "execution_count": null,
   "id": "47042987",
   "metadata": {},
   "outputs": [],
   "source": [
    "with open('estvar', 'a') as file:\n",
    "    # Convert dictionary to string and write it to the file\n",
    "    file.write(str(var_list) + '\\n')"
   ]
  },
  {
   "cell_type": "code",
   "execution_count": null,
   "id": "43bb160e",
   "metadata": {},
   "outputs": [],
   "source": [
    "with open('est', 'a') as file:\n",
    "    # Convert dictionary to string and write it to the file\n",
    "    file.write(str(printdict) + '\\n')"
   ]
  },
  {
   "cell_type": "code",
   "execution_count": 1,
   "id": "cc76ade9",
   "metadata": {},
   "outputs": [],
   "source": [
    "# import csv   \n",
    "# fields=list(var_list.values())\n",
    "# with open('var001', 'a') as f:\n",
    "#     writer = csv.writer(f)\n",
    "#     writer.writerow(fields)"
   ]
  },
  {
   "cell_type": "code",
   "execution_count": null,
   "id": "7c24ece5",
   "metadata": {},
   "outputs": [],
   "source": [
    "# import csv   \n",
    "# fields=list(printdict.values())\n",
    "# with open('theta001', 'a') as f:\n",
    "#     writer = csv.writer(f)\n",
    "#     writer.writerow(fields)"
   ]
  }
 ],
 "metadata": {
  "kernelspec": {
   "display_name": "Python 3",
   "language": "python",
   "name": "python3"
  },
  "language_info": {
   "codemirror_mode": {
    "name": "ipython",
    "version": 3
   },
   "file_extension": ".py",
   "mimetype": "text/x-python",
   "name": "python",
   "nbconvert_exporter": "python",
   "pygments_lexer": "ipython3",
   "version": "3.8.10"
  }
 },
 "nbformat": 4,
 "nbformat_minor": 5
}
